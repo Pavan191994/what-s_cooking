{
 "cells": [
  {
   "cell_type": "markdown",
   "metadata": {},
   "source": [
    "# Import All libraries"
   ]
  },
  {
   "cell_type": "code",
   "execution_count": 1,
   "metadata": {},
   "outputs": [],
   "source": [
    "import pandas as pd\n",
    "import numpy as np\n",
    "\n",
    "from sklearn.preprocessing import StandardScaler\n",
    "from sklearn.model_selection import train_test_split\n",
    "from sklearn.metrics import confusion_matrix\n",
    "\n",
    "from sklearn import tree\n",
    "\n",
    "\n",
    "from sklearn.model_selection import GridSearchCV\n",
    "\n",
    "import graphviz\n",
    "#!conda install --yes python-graphviz\n",
    "#!conda install --yes graphviz\n",
    "\n",
    "import matplotlib.pyplot as plt\n",
    "from sklearn.feature_extraction.text import TfidfVectorizer,CountVectorizer"
   ]
  },
  {
   "cell_type": "code",
   "execution_count": 2,
   "metadata": {},
   "outputs": [
    {
     "name": "stderr",
     "output_type": "stream",
     "text": [
      "Using TensorFlow backend.\n"
     ]
    }
   ],
   "source": [
    "import pandas as pd\n",
    "import numpy as np\n",
    "\n",
    "from sklearn import preprocessing\n",
    "from sklearn.impute import SimpleImputer\n",
    "from sklearn.compose import ColumnTransformer\n",
    "\n",
    "from sklearn.preprocessing import StandardScaler\n",
    "from sklearn.preprocessing import OneHotEncoder\n",
    "from sklearn.model_selection import train_test_split\n",
    "from sklearn.pipeline import Pipeline\n",
    "from sklearn.model_selection import GridSearchCV, RandomizedSearchCV\n",
    "\n",
    "from sklearn.svm import SVC\n",
    "from sklearn.linear_model import LogisticRegression\n",
    "from sklearn.metrics import confusion_matrix\n",
    "\n",
    "import matplotlib.pyplot as plt\n",
    "import seaborn as sns\n",
    "from imblearn.over_sampling import SMOTE\n",
    "from sklearn.metrics import accuracy_score, recall_score, precision_score\n",
    "\n",
    "import warnings\n",
    "warnings.filterwarnings('ignore')"
   ]
  },
  {
   "cell_type": "markdown",
   "metadata": {},
   "source": [
    "# Read Data"
   ]
  },
  {
   "cell_type": "code",
   "execution_count": 3,
   "metadata": {},
   "outputs": [],
   "source": [
    "train_data=pd.read_json('train.json')"
   ]
  },
  {
   "cell_type": "code",
   "execution_count": 4,
   "metadata": {},
   "outputs": [],
   "source": [
    "test_data=pd.read_json('test.json')"
   ]
  },
  {
   "cell_type": "markdown",
   "metadata": {},
   "source": [
    "# Understand Data"
   ]
  },
  {
   "cell_type": "code",
   "execution_count": 5,
   "metadata": {},
   "outputs": [
    {
     "data": {
      "text/html": [
       "<div>\n",
       "<style scoped>\n",
       "    .dataframe tbody tr th:only-of-type {\n",
       "        vertical-align: middle;\n",
       "    }\n",
       "\n",
       "    .dataframe tbody tr th {\n",
       "        vertical-align: top;\n",
       "    }\n",
       "\n",
       "    .dataframe thead th {\n",
       "        text-align: right;\n",
       "    }\n",
       "</style>\n",
       "<table border=\"1\" class=\"dataframe\">\n",
       "  <thead>\n",
       "    <tr style=\"text-align: right;\">\n",
       "      <th></th>\n",
       "      <th>cuisine</th>\n",
       "      <th>id</th>\n",
       "      <th>ingredients</th>\n",
       "    </tr>\n",
       "  </thead>\n",
       "  <tbody>\n",
       "    <tr>\n",
       "      <th>0</th>\n",
       "      <td>greek</td>\n",
       "      <td>10259</td>\n",
       "      <td>[romaine lettuce, black olives, grape tomatoes...</td>\n",
       "    </tr>\n",
       "    <tr>\n",
       "      <th>1</th>\n",
       "      <td>southern_us</td>\n",
       "      <td>25693</td>\n",
       "      <td>[plain flour, ground pepper, salt, tomatoes, g...</td>\n",
       "    </tr>\n",
       "    <tr>\n",
       "      <th>2</th>\n",
       "      <td>filipino</td>\n",
       "      <td>20130</td>\n",
       "      <td>[eggs, pepper, salt, mayonaise, cooking oil, g...</td>\n",
       "    </tr>\n",
       "    <tr>\n",
       "      <th>3</th>\n",
       "      <td>indian</td>\n",
       "      <td>22213</td>\n",
       "      <td>[water, vegetable oil, wheat, salt]</td>\n",
       "    </tr>\n",
       "    <tr>\n",
       "      <th>4</th>\n",
       "      <td>indian</td>\n",
       "      <td>13162</td>\n",
       "      <td>[black pepper, shallots, cornflour, cayenne pe...</td>\n",
       "    </tr>\n",
       "  </tbody>\n",
       "</table>\n",
       "</div>"
      ],
      "text/plain": [
       "       cuisine     id                                        ingredients\n",
       "0        greek  10259  [romaine lettuce, black olives, grape tomatoes...\n",
       "1  southern_us  25693  [plain flour, ground pepper, salt, tomatoes, g...\n",
       "2     filipino  20130  [eggs, pepper, salt, mayonaise, cooking oil, g...\n",
       "3       indian  22213                [water, vegetable oil, wheat, salt]\n",
       "4       indian  13162  [black pepper, shallots, cornflour, cayenne pe..."
      ]
     },
     "execution_count": 5,
     "metadata": {},
     "output_type": "execute_result"
    }
   ],
   "source": [
    "train_data.head()\n"
   ]
  },
  {
   "cell_type": "code",
   "execution_count": 6,
   "metadata": {},
   "outputs": [
    {
     "data": {
      "text/plain": [
       "pandas.core.frame.DataFrame"
      ]
     },
     "execution_count": 6,
     "metadata": {},
     "output_type": "execute_result"
    }
   ],
   "source": [
    "type(train_data)"
   ]
  },
  {
   "cell_type": "code",
   "execution_count": 7,
   "metadata": {},
   "outputs": [
    {
     "data": {
      "text/plain": [
       "(39774, 3)"
      ]
     },
     "execution_count": 7,
     "metadata": {},
     "output_type": "execute_result"
    }
   ],
   "source": [
    "train_data.shape"
   ]
  },
  {
   "cell_type": "code",
   "execution_count": 8,
   "metadata": {},
   "outputs": [
    {
     "data": {
      "text/plain": [
       "0    [romaine lettuce, black olives, grape tomatoes...\n",
       "Name: ingredients, dtype: object"
      ]
     },
     "execution_count": 8,
     "metadata": {},
     "output_type": "execute_result"
    }
   ],
   "source": [
    "train_data.ingredients.head(1)"
   ]
  },
  {
   "cell_type": "code",
   "execution_count": 9,
   "metadata": {},
   "outputs": [],
   "source": [
    "train_data.ingredients=train_data.ingredients.apply(' '.join)\n",
    "test_data.ingredients=test_data.ingredients.apply(' '.join)"
   ]
  },
  {
   "cell_type": "code",
   "execution_count": 10,
   "metadata": {},
   "outputs": [
    {
     "data": {
      "text/plain": [
       "(39774, 3)"
      ]
     },
     "execution_count": 10,
     "metadata": {},
     "output_type": "execute_result"
    }
   ],
   "source": [
    "train_data.shape"
   ]
  },
  {
   "cell_type": "markdown",
   "metadata": {},
   "source": [
    "# Add train, test"
   ]
  },
  {
   "cell_type": "code",
   "execution_count": 11,
   "metadata": {},
   "outputs": [],
   "source": [
    "ing=train_data.ingredients"
   ]
  },
  {
   "cell_type": "code",
   "execution_count": 12,
   "metadata": {},
   "outputs": [
    {
     "data": {
      "text/plain": [
       "pandas.core.series.Series"
      ]
     },
     "execution_count": 12,
     "metadata": {},
     "output_type": "execute_result"
    }
   ],
   "source": [
    "type(ing)"
   ]
  },
  {
   "cell_type": "code",
   "execution_count": 13,
   "metadata": {},
   "outputs": [
    {
     "data": {
      "text/plain": [
       "(39774,)"
      ]
     },
     "execution_count": 13,
     "metadata": {},
     "output_type": "execute_result"
    }
   ],
   "source": [
    "ing.shape"
   ]
  },
  {
   "cell_type": "code",
   "execution_count": 14,
   "metadata": {},
   "outputs": [
    {
     "data": {
      "text/plain": [
       "0    romaine lettuce black olives grape tomatoes ga...\n",
       "1    plain flour ground pepper salt tomatoes ground...\n",
       "2    eggs pepper salt mayonaise cooking oil green c...\n",
       "3                       water vegetable oil wheat salt\n",
       "4    black pepper shallots cornflour cayenne pepper...\n",
       "Name: ingredients, dtype: object"
      ]
     },
     "execution_count": 14,
     "metadata": {},
     "output_type": "execute_result"
    }
   ],
   "source": [
    "ing.head()"
   ]
  },
  {
   "cell_type": "code",
   "execution_count": 15,
   "metadata": {},
   "outputs": [
    {
     "data": {
      "text/plain": [
       "39769    light brown sugar granulated sugar butter warm...\n",
       "39770    KRAFT Zesty Italian Dressing purple onion broc...\n",
       "39771    eggs citrus fruit raisins sourdough starter fl...\n",
       "39772    boneless chicken skinless thigh minced garlic ...\n",
       "39773    green chile jalapeno chilies onions ground bla...\n",
       "Name: ingredients, dtype: object"
      ]
     },
     "execution_count": 15,
     "metadata": {},
     "output_type": "execute_result"
    }
   ],
   "source": [
    "ing.tail()"
   ]
  },
  {
   "cell_type": "code",
   "execution_count": 16,
   "metadata": {},
   "outputs": [
    {
     "data": {
      "text/html": [
       "<div>\n",
       "<style scoped>\n",
       "    .dataframe tbody tr th:only-of-type {\n",
       "        vertical-align: middle;\n",
       "    }\n",
       "\n",
       "    .dataframe tbody tr th {\n",
       "        vertical-align: top;\n",
       "    }\n",
       "\n",
       "    .dataframe thead th {\n",
       "        text-align: right;\n",
       "    }\n",
       "</style>\n",
       "<table border=\"1\" class=\"dataframe\">\n",
       "  <thead>\n",
       "    <tr style=\"text-align: right;\">\n",
       "      <th></th>\n",
       "      <th>id</th>\n",
       "      <th>ingredients</th>\n",
       "    </tr>\n",
       "  </thead>\n",
       "  <tbody>\n",
       "    <tr>\n",
       "      <th>9939</th>\n",
       "      <td>30246</td>\n",
       "      <td>large egg yolks fresh lemon juice sugar bourbo...</td>\n",
       "    </tr>\n",
       "    <tr>\n",
       "      <th>9940</th>\n",
       "      <td>36028</td>\n",
       "      <td>hot sauce butter sweet potatoes adobo sauce salt</td>\n",
       "    </tr>\n",
       "    <tr>\n",
       "      <th>9941</th>\n",
       "      <td>22339</td>\n",
       "      <td>black pepper salt parmigiano reggiano cheese r...</td>\n",
       "    </tr>\n",
       "    <tr>\n",
       "      <th>9942</th>\n",
       "      <td>42525</td>\n",
       "      <td>cheddar cheese cayenne paprika plum tomatoes g...</td>\n",
       "    </tr>\n",
       "    <tr>\n",
       "      <th>9943</th>\n",
       "      <td>1443</td>\n",
       "      <td>cold water olive oil lime wedges garlic cloves...</td>\n",
       "    </tr>\n",
       "  </tbody>\n",
       "</table>\n",
       "</div>"
      ],
      "text/plain": [
       "         id                                        ingredients\n",
       "9939  30246  large egg yolks fresh lemon juice sugar bourbo...\n",
       "9940  36028   hot sauce butter sweet potatoes adobo sauce salt\n",
       "9941  22339  black pepper salt parmigiano reggiano cheese r...\n",
       "9942  42525  cheddar cheese cayenne paprika plum tomatoes g...\n",
       "9943   1443  cold water olive oil lime wedges garlic cloves..."
      ]
     },
     "execution_count": 16,
     "metadata": {},
     "output_type": "execute_result"
    }
   ],
   "source": [
    "test_data.tail()"
   ]
  },
  {
   "cell_type": "code",
   "execution_count": 17,
   "metadata": {},
   "outputs": [
    {
     "data": {
      "text/html": [
       "<div>\n",
       "<style scoped>\n",
       "    .dataframe tbody tr th:only-of-type {\n",
       "        vertical-align: middle;\n",
       "    }\n",
       "\n",
       "    .dataframe tbody tr th {\n",
       "        vertical-align: top;\n",
       "    }\n",
       "\n",
       "    .dataframe thead th {\n",
       "        text-align: right;\n",
       "    }\n",
       "</style>\n",
       "<table border=\"1\" class=\"dataframe\">\n",
       "  <thead>\n",
       "    <tr style=\"text-align: right;\">\n",
       "      <th></th>\n",
       "      <th>id</th>\n",
       "      <th>ingredients</th>\n",
       "    </tr>\n",
       "  </thead>\n",
       "  <tbody>\n",
       "    <tr>\n",
       "      <th>0</th>\n",
       "      <td>18009</td>\n",
       "      <td>baking powder eggs all-purpose flour raisins m...</td>\n",
       "    </tr>\n",
       "    <tr>\n",
       "      <th>1</th>\n",
       "      <td>28583</td>\n",
       "      <td>sugar egg yolks corn starch cream of tartar ba...</td>\n",
       "    </tr>\n",
       "    <tr>\n",
       "      <th>2</th>\n",
       "      <td>41580</td>\n",
       "      <td>sausage links fennel bulb fronds olive oil cub...</td>\n",
       "    </tr>\n",
       "    <tr>\n",
       "      <th>3</th>\n",
       "      <td>29752</td>\n",
       "      <td>meat cuts file powder smoked sausage okra shri...</td>\n",
       "    </tr>\n",
       "    <tr>\n",
       "      <th>4</th>\n",
       "      <td>35687</td>\n",
       "      <td>ground black pepper salt sausage casings leeks...</td>\n",
       "    </tr>\n",
       "  </tbody>\n",
       "</table>\n",
       "</div>"
      ],
      "text/plain": [
       "      id                                        ingredients\n",
       "0  18009  baking powder eggs all-purpose flour raisins m...\n",
       "1  28583  sugar egg yolks corn starch cream of tartar ba...\n",
       "2  41580  sausage links fennel bulb fronds olive oil cub...\n",
       "3  29752  meat cuts file powder smoked sausage okra shri...\n",
       "4  35687  ground black pepper salt sausage casings leeks..."
      ]
     },
     "execution_count": 17,
     "metadata": {},
     "output_type": "execute_result"
    }
   ],
   "source": [
    "test_data.head()"
   ]
  },
  {
   "cell_type": "code",
   "execution_count": 18,
   "metadata": {},
   "outputs": [
    {
     "data": {
      "text/plain": [
       "(39774, 3)"
      ]
     },
     "execution_count": 18,
     "metadata": {},
     "output_type": "execute_result"
    }
   ],
   "source": [
    "train_data.shape"
   ]
  },
  {
   "cell_type": "code",
   "execution_count": 19,
   "metadata": {},
   "outputs": [
    {
     "data": {
      "text/plain": [
       "(9944, 2)"
      ]
     },
     "execution_count": 19,
     "metadata": {},
     "output_type": "execute_result"
    }
   ],
   "source": [
    "test_data.shape"
   ]
  },
  {
   "cell_type": "code",
   "execution_count": 20,
   "metadata": {},
   "outputs": [],
   "source": [
    "test_data_full = pd.concat([test_data.ingredients, ing], ignore_index=True)"
   ]
  },
  {
   "cell_type": "code",
   "execution_count": 21,
   "metadata": {},
   "outputs": [
    {
     "data": {
      "text/plain": [
       "(49718,)"
      ]
     },
     "execution_count": 21,
     "metadata": {},
     "output_type": "execute_result"
    }
   ],
   "source": [
    "test_data_full.shape"
   ]
  },
  {
   "cell_type": "code",
   "execution_count": 22,
   "metadata": {},
   "outputs": [
    {
     "data": {
      "text/plain": [
       "0    baking powder eggs all-purpose flour raisins m...\n",
       "1    sugar egg yolks corn starch cream of tartar ba...\n",
       "2    sausage links fennel bulb fronds olive oil cub...\n",
       "3    meat cuts file powder smoked sausage okra shri...\n",
       "4    ground black pepper salt sausage casings leeks...\n",
       "Name: ingredients, dtype: object"
      ]
     },
     "execution_count": 22,
     "metadata": {},
     "output_type": "execute_result"
    }
   ],
   "source": [
    "test_data_full.head()"
   ]
  },
  {
   "cell_type": "code",
   "execution_count": 23,
   "metadata": {},
   "outputs": [
    {
     "data": {
      "text/plain": [
       "49713    light brown sugar granulated sugar butter warm...\n",
       "49714    KRAFT Zesty Italian Dressing purple onion broc...\n",
       "49715    eggs citrus fruit raisins sourdough starter fl...\n",
       "49716    boneless chicken skinless thigh minced garlic ...\n",
       "49717    green chile jalapeno chilies onions ground bla...\n",
       "Name: ingredients, dtype: object"
      ]
     },
     "execution_count": 23,
     "metadata": {},
     "output_type": "execute_result"
    }
   ],
   "source": [
    "test_data_full.tail()"
   ]
  },
  {
   "cell_type": "code",
   "execution_count": 24,
   "metadata": {},
   "outputs": [],
   "source": [
    "test_data_df_full=pd.DataFrame(test_data_full)"
   ]
  },
  {
   "cell_type": "code",
   "execution_count": 25,
   "metadata": {},
   "outputs": [
    {
     "data": {
      "text/plain": [
       "ingredients    romaine lettuce black olives grape tomatoes ga...\n",
       "Name: 9944, dtype: object"
      ]
     },
     "execution_count": 25,
     "metadata": {},
     "output_type": "execute_result"
    }
   ],
   "source": [
    "test_data_df_full.iloc[9944,:]"
   ]
  },
  {
   "cell_type": "code",
   "execution_count": 26,
   "metadata": {
    "scrolled": true
   },
   "outputs": [
    {
     "data": {
      "text/html": [
       "<div>\n",
       "<style scoped>\n",
       "    .dataframe tbody tr th:only-of-type {\n",
       "        vertical-align: middle;\n",
       "    }\n",
       "\n",
       "    .dataframe tbody tr th {\n",
       "        vertical-align: top;\n",
       "    }\n",
       "\n",
       "    .dataframe thead th {\n",
       "        text-align: right;\n",
       "    }\n",
       "</style>\n",
       "<table border=\"1\" class=\"dataframe\">\n",
       "  <thead>\n",
       "    <tr style=\"text-align: right;\">\n",
       "      <th></th>\n",
       "      <th>ingredients</th>\n",
       "    </tr>\n",
       "  </thead>\n",
       "  <tbody>\n",
       "    <tr>\n",
       "      <th>49713</th>\n",
       "      <td>light brown sugar granulated sugar butter warm...</td>\n",
       "    </tr>\n",
       "    <tr>\n",
       "      <th>49714</th>\n",
       "      <td>KRAFT Zesty Italian Dressing purple onion broc...</td>\n",
       "    </tr>\n",
       "    <tr>\n",
       "      <th>49715</th>\n",
       "      <td>eggs citrus fruit raisins sourdough starter fl...</td>\n",
       "    </tr>\n",
       "    <tr>\n",
       "      <th>49716</th>\n",
       "      <td>boneless chicken skinless thigh minced garlic ...</td>\n",
       "    </tr>\n",
       "    <tr>\n",
       "      <th>49717</th>\n",
       "      <td>green chile jalapeno chilies onions ground bla...</td>\n",
       "    </tr>\n",
       "  </tbody>\n",
       "</table>\n",
       "</div>"
      ],
      "text/plain": [
       "                                             ingredients\n",
       "49713  light brown sugar granulated sugar butter warm...\n",
       "49714  KRAFT Zesty Italian Dressing purple onion broc...\n",
       "49715  eggs citrus fruit raisins sourdough starter fl...\n",
       "49716  boneless chicken skinless thigh minced garlic ...\n",
       "49717  green chile jalapeno chilies onions ground bla..."
      ]
     },
     "execution_count": 26,
     "metadata": {},
     "output_type": "execute_result"
    }
   ],
   "source": [
    "test_data_df_full.tail()"
   ]
  },
  {
   "cell_type": "markdown",
   "metadata": {},
   "source": [
    "# Apply TF on full data so we can get same columns in train, val, test"
   ]
  },
  {
   "cell_type": "code",
   "execution_count": 27,
   "metadata": {},
   "outputs": [],
   "source": [
    "# sklearn.feature_extraction.text.CountVectorizer - Convert a collection of text documents to a matrix of token counts\n",
    "tf_vectorizer_train = CountVectorizer(ngram_range=(1,1))\n",
    "train_data1= tf_vectorizer_train.fit_transform(test_data_df_full.ingredients)         # tfs are calculated by CountVectorizer's fit_transform()"
   ]
  },
  {
   "cell_type": "code",
   "execution_count": 28,
   "metadata": {},
   "outputs": [
    {
     "data": {
      "text/plain": [
       "(49718, 3167)"
      ]
     },
     "execution_count": 28,
     "metadata": {},
     "output_type": "execute_result"
    }
   ],
   "source": [
    "train_data1.shape"
   ]
  },
  {
   "cell_type": "code",
   "execution_count": 29,
   "metadata": {
    "scrolled": false
   },
   "outputs": [],
   "source": [
    "train_data1=pd.DataFrame(train_data1.toarray(), columns= tf_vectorizer_train.get_feature_names()) # Array mapping from feature integer indices to feature name"
   ]
  },
  {
   "cell_type": "code",
   "execution_count": 30,
   "metadata": {},
   "outputs": [
    {
     "data": {
      "text/html": [
       "<div>\n",
       "<style scoped>\n",
       "    .dataframe tbody tr th:only-of-type {\n",
       "        vertical-align: middle;\n",
       "    }\n",
       "\n",
       "    .dataframe tbody tr th {\n",
       "        vertical-align: top;\n",
       "    }\n",
       "\n",
       "    .dataframe thead th {\n",
       "        text-align: right;\n",
       "    }\n",
       "</style>\n",
       "<table border=\"1\" class=\"dataframe\">\n",
       "  <thead>\n",
       "    <tr style=\"text-align: right;\">\n",
       "      <th></th>\n",
       "      <th>00</th>\n",
       "      <th>10</th>\n",
       "      <th>100</th>\n",
       "      <th>14</th>\n",
       "      <th>15</th>\n",
       "      <th>25</th>\n",
       "      <th>33</th>\n",
       "      <th>40</th>\n",
       "      <th>43</th>\n",
       "      <th>50</th>\n",
       "      <th>...</th>\n",
       "      <th>za</th>\n",
       "      <th>zabaglione</th>\n",
       "      <th>zatarains</th>\n",
       "      <th>zatarainâ</th>\n",
       "      <th>zero</th>\n",
       "      <th>zest</th>\n",
       "      <th>zesty</th>\n",
       "      <th>zinfandel</th>\n",
       "      <th>ziti</th>\n",
       "      <th>zucchini</th>\n",
       "    </tr>\n",
       "  </thead>\n",
       "  <tbody>\n",
       "    <tr>\n",
       "      <th>0</th>\n",
       "      <td>0</td>\n",
       "      <td>0</td>\n",
       "      <td>0</td>\n",
       "      <td>0</td>\n",
       "      <td>0</td>\n",
       "      <td>0</td>\n",
       "      <td>0</td>\n",
       "      <td>0</td>\n",
       "      <td>0</td>\n",
       "      <td>0</td>\n",
       "      <td>...</td>\n",
       "      <td>0</td>\n",
       "      <td>0</td>\n",
       "      <td>0</td>\n",
       "      <td>0</td>\n",
       "      <td>0</td>\n",
       "      <td>0</td>\n",
       "      <td>0</td>\n",
       "      <td>0</td>\n",
       "      <td>0</td>\n",
       "      <td>0</td>\n",
       "    </tr>\n",
       "    <tr>\n",
       "      <th>1</th>\n",
       "      <td>0</td>\n",
       "      <td>0</td>\n",
       "      <td>0</td>\n",
       "      <td>0</td>\n",
       "      <td>0</td>\n",
       "      <td>0</td>\n",
       "      <td>0</td>\n",
       "      <td>0</td>\n",
       "      <td>0</td>\n",
       "      <td>0</td>\n",
       "      <td>...</td>\n",
       "      <td>0</td>\n",
       "      <td>0</td>\n",
       "      <td>0</td>\n",
       "      <td>0</td>\n",
       "      <td>0</td>\n",
       "      <td>0</td>\n",
       "      <td>0</td>\n",
       "      <td>0</td>\n",
       "      <td>0</td>\n",
       "      <td>0</td>\n",
       "    </tr>\n",
       "    <tr>\n",
       "      <th>2</th>\n",
       "      <td>0</td>\n",
       "      <td>0</td>\n",
       "      <td>0</td>\n",
       "      <td>0</td>\n",
       "      <td>0</td>\n",
       "      <td>0</td>\n",
       "      <td>0</td>\n",
       "      <td>0</td>\n",
       "      <td>0</td>\n",
       "      <td>0</td>\n",
       "      <td>...</td>\n",
       "      <td>0</td>\n",
       "      <td>0</td>\n",
       "      <td>0</td>\n",
       "      <td>0</td>\n",
       "      <td>0</td>\n",
       "      <td>0</td>\n",
       "      <td>0</td>\n",
       "      <td>0</td>\n",
       "      <td>0</td>\n",
       "      <td>0</td>\n",
       "    </tr>\n",
       "    <tr>\n",
       "      <th>3</th>\n",
       "      <td>0</td>\n",
       "      <td>0</td>\n",
       "      <td>0</td>\n",
       "      <td>0</td>\n",
       "      <td>0</td>\n",
       "      <td>0</td>\n",
       "      <td>0</td>\n",
       "      <td>0</td>\n",
       "      <td>0</td>\n",
       "      <td>0</td>\n",
       "      <td>...</td>\n",
       "      <td>0</td>\n",
       "      <td>0</td>\n",
       "      <td>0</td>\n",
       "      <td>0</td>\n",
       "      <td>0</td>\n",
       "      <td>0</td>\n",
       "      <td>0</td>\n",
       "      <td>0</td>\n",
       "      <td>0</td>\n",
       "      <td>0</td>\n",
       "    </tr>\n",
       "    <tr>\n",
       "      <th>4</th>\n",
       "      <td>0</td>\n",
       "      <td>0</td>\n",
       "      <td>0</td>\n",
       "      <td>0</td>\n",
       "      <td>0</td>\n",
       "      <td>0</td>\n",
       "      <td>0</td>\n",
       "      <td>0</td>\n",
       "      <td>0</td>\n",
       "      <td>0</td>\n",
       "      <td>...</td>\n",
       "      <td>0</td>\n",
       "      <td>0</td>\n",
       "      <td>0</td>\n",
       "      <td>0</td>\n",
       "      <td>0</td>\n",
       "      <td>0</td>\n",
       "      <td>0</td>\n",
       "      <td>0</td>\n",
       "      <td>0</td>\n",
       "      <td>0</td>\n",
       "    </tr>\n",
       "  </tbody>\n",
       "</table>\n",
       "<p>5 rows × 3167 columns</p>\n",
       "</div>"
      ],
      "text/plain": [
       "   00  10  100  14  15  25  33  40  43  50  ...  za  zabaglione  zatarains  \\\n",
       "0   0   0    0   0   0   0   0   0   0   0  ...   0           0          0   \n",
       "1   0   0    0   0   0   0   0   0   0   0  ...   0           0          0   \n",
       "2   0   0    0   0   0   0   0   0   0   0  ...   0           0          0   \n",
       "3   0   0    0   0   0   0   0   0   0   0  ...   0           0          0   \n",
       "4   0   0    0   0   0   0   0   0   0   0  ...   0           0          0   \n",
       "\n",
       "   zatarainâ  zero  zest  zesty  zinfandel  ziti  zucchini  \n",
       "0          0     0     0      0          0     0         0  \n",
       "1          0     0     0      0          0     0         0  \n",
       "2          0     0     0      0          0     0         0  \n",
       "3          0     0     0      0          0     0         0  \n",
       "4          0     0     0      0          0     0         0  \n",
       "\n",
       "[5 rows x 3167 columns]"
      ]
     },
     "execution_count": 30,
     "metadata": {},
     "output_type": "execute_result"
    }
   ],
   "source": [
    "train_data1.head()"
   ]
  },
  {
   "cell_type": "code",
   "execution_count": 31,
   "metadata": {},
   "outputs": [
    {
     "data": {
      "text/plain": [
       "(49718, 3167)"
      ]
     },
     "execution_count": 31,
     "metadata": {},
     "output_type": "execute_result"
    }
   ],
   "source": [
    "train_data1.shape"
   ]
  },
  {
   "cell_type": "code",
   "execution_count": 32,
   "metadata": {},
   "outputs": [],
   "source": [
    "train_data2=train_data1.drop(train_data1.index[0:9944])"
   ]
  },
  {
   "cell_type": "code",
   "execution_count": 33,
   "metadata": {},
   "outputs": [
    {
     "data": {
      "text/plain": [
       "(39774, 3167)"
      ]
     },
     "execution_count": 33,
     "metadata": {},
     "output_type": "execute_result"
    }
   ],
   "source": [
    "train_data2.shape"
   ]
  },
  {
   "cell_type": "code",
   "execution_count": 34,
   "metadata": {
    "scrolled": true
   },
   "outputs": [
    {
     "data": {
      "text/html": [
       "<div>\n",
       "<style scoped>\n",
       "    .dataframe tbody tr th:only-of-type {\n",
       "        vertical-align: middle;\n",
       "    }\n",
       "\n",
       "    .dataframe tbody tr th {\n",
       "        vertical-align: top;\n",
       "    }\n",
       "\n",
       "    .dataframe thead th {\n",
       "        text-align: right;\n",
       "    }\n",
       "</style>\n",
       "<table border=\"1\" class=\"dataframe\">\n",
       "  <thead>\n",
       "    <tr style=\"text-align: right;\">\n",
       "      <th></th>\n",
       "      <th>id</th>\n",
       "      <th>ingredients</th>\n",
       "    </tr>\n",
       "  </thead>\n",
       "  <tbody>\n",
       "    <tr>\n",
       "      <th>0</th>\n",
       "      <td>18009</td>\n",
       "      <td>baking powder eggs all-purpose flour raisins m...</td>\n",
       "    </tr>\n",
       "    <tr>\n",
       "      <th>1</th>\n",
       "      <td>28583</td>\n",
       "      <td>sugar egg yolks corn starch cream of tartar ba...</td>\n",
       "    </tr>\n",
       "    <tr>\n",
       "      <th>2</th>\n",
       "      <td>41580</td>\n",
       "      <td>sausage links fennel bulb fronds olive oil cub...</td>\n",
       "    </tr>\n",
       "    <tr>\n",
       "      <th>3</th>\n",
       "      <td>29752</td>\n",
       "      <td>meat cuts file powder smoked sausage okra shri...</td>\n",
       "    </tr>\n",
       "    <tr>\n",
       "      <th>4</th>\n",
       "      <td>35687</td>\n",
       "      <td>ground black pepper salt sausage casings leeks...</td>\n",
       "    </tr>\n",
       "  </tbody>\n",
       "</table>\n",
       "</div>"
      ],
      "text/plain": [
       "      id                                        ingredients\n",
       "0  18009  baking powder eggs all-purpose flour raisins m...\n",
       "1  28583  sugar egg yolks corn starch cream of tartar ba...\n",
       "2  41580  sausage links fennel bulb fronds olive oil cub...\n",
       "3  29752  meat cuts file powder smoked sausage okra shri...\n",
       "4  35687  ground black pepper salt sausage casings leeks..."
      ]
     },
     "execution_count": 34,
     "metadata": {},
     "output_type": "execute_result"
    }
   ],
   "source": [
    "test_data.head()"
   ]
  },
  {
   "cell_type": "code",
   "execution_count": 35,
   "metadata": {},
   "outputs": [
    {
     "data": {
      "text/plain": [
       "(39774, 3)"
      ]
     },
     "execution_count": 35,
     "metadata": {},
     "output_type": "execute_result"
    }
   ],
   "source": [
    "train_data.shape"
   ]
  },
  {
   "cell_type": "code",
   "execution_count": 36,
   "metadata": {
    "scrolled": true
   },
   "outputs": [
    {
     "data": {
      "text/html": [
       "<div>\n",
       "<style scoped>\n",
       "    .dataframe tbody tr th:only-of-type {\n",
       "        vertical-align: middle;\n",
       "    }\n",
       "\n",
       "    .dataframe tbody tr th {\n",
       "        vertical-align: top;\n",
       "    }\n",
       "\n",
       "    .dataframe thead th {\n",
       "        text-align: right;\n",
       "    }\n",
       "</style>\n",
       "<table border=\"1\" class=\"dataframe\">\n",
       "  <thead>\n",
       "    <tr style=\"text-align: right;\">\n",
       "      <th></th>\n",
       "      <th>00</th>\n",
       "      <th>10</th>\n",
       "      <th>100</th>\n",
       "      <th>14</th>\n",
       "      <th>15</th>\n",
       "      <th>25</th>\n",
       "      <th>33</th>\n",
       "      <th>40</th>\n",
       "      <th>43</th>\n",
       "      <th>50</th>\n",
       "      <th>...</th>\n",
       "      <th>za</th>\n",
       "      <th>zabaglione</th>\n",
       "      <th>zatarains</th>\n",
       "      <th>zatarainâ</th>\n",
       "      <th>zero</th>\n",
       "      <th>zest</th>\n",
       "      <th>zesty</th>\n",
       "      <th>zinfandel</th>\n",
       "      <th>ziti</th>\n",
       "      <th>zucchini</th>\n",
       "    </tr>\n",
       "  </thead>\n",
       "  <tbody>\n",
       "    <tr>\n",
       "      <th>49713</th>\n",
       "      <td>0</td>\n",
       "      <td>0</td>\n",
       "      <td>0</td>\n",
       "      <td>0</td>\n",
       "      <td>0</td>\n",
       "      <td>0</td>\n",
       "      <td>0</td>\n",
       "      <td>0</td>\n",
       "      <td>0</td>\n",
       "      <td>0</td>\n",
       "      <td>...</td>\n",
       "      <td>0</td>\n",
       "      <td>0</td>\n",
       "      <td>0</td>\n",
       "      <td>0</td>\n",
       "      <td>0</td>\n",
       "      <td>0</td>\n",
       "      <td>0</td>\n",
       "      <td>0</td>\n",
       "      <td>0</td>\n",
       "      <td>0</td>\n",
       "    </tr>\n",
       "    <tr>\n",
       "      <th>49714</th>\n",
       "      <td>0</td>\n",
       "      <td>0</td>\n",
       "      <td>0</td>\n",
       "      <td>0</td>\n",
       "      <td>0</td>\n",
       "      <td>0</td>\n",
       "      <td>0</td>\n",
       "      <td>0</td>\n",
       "      <td>0</td>\n",
       "      <td>0</td>\n",
       "      <td>...</td>\n",
       "      <td>0</td>\n",
       "      <td>0</td>\n",
       "      <td>0</td>\n",
       "      <td>0</td>\n",
       "      <td>0</td>\n",
       "      <td>0</td>\n",
       "      <td>1</td>\n",
       "      <td>0</td>\n",
       "      <td>0</td>\n",
       "      <td>0</td>\n",
       "    </tr>\n",
       "    <tr>\n",
       "      <th>49715</th>\n",
       "      <td>0</td>\n",
       "      <td>0</td>\n",
       "      <td>0</td>\n",
       "      <td>0</td>\n",
       "      <td>0</td>\n",
       "      <td>0</td>\n",
       "      <td>0</td>\n",
       "      <td>0</td>\n",
       "      <td>0</td>\n",
       "      <td>0</td>\n",
       "      <td>...</td>\n",
       "      <td>0</td>\n",
       "      <td>0</td>\n",
       "      <td>0</td>\n",
       "      <td>0</td>\n",
       "      <td>0</td>\n",
       "      <td>0</td>\n",
       "      <td>0</td>\n",
       "      <td>0</td>\n",
       "      <td>0</td>\n",
       "      <td>0</td>\n",
       "    </tr>\n",
       "    <tr>\n",
       "      <th>49716</th>\n",
       "      <td>0</td>\n",
       "      <td>0</td>\n",
       "      <td>0</td>\n",
       "      <td>0</td>\n",
       "      <td>0</td>\n",
       "      <td>0</td>\n",
       "      <td>0</td>\n",
       "      <td>0</td>\n",
       "      <td>0</td>\n",
       "      <td>0</td>\n",
       "      <td>...</td>\n",
       "      <td>0</td>\n",
       "      <td>0</td>\n",
       "      <td>0</td>\n",
       "      <td>0</td>\n",
       "      <td>0</td>\n",
       "      <td>0</td>\n",
       "      <td>0</td>\n",
       "      <td>0</td>\n",
       "      <td>0</td>\n",
       "      <td>0</td>\n",
       "    </tr>\n",
       "    <tr>\n",
       "      <th>49717</th>\n",
       "      <td>0</td>\n",
       "      <td>0</td>\n",
       "      <td>0</td>\n",
       "      <td>0</td>\n",
       "      <td>0</td>\n",
       "      <td>0</td>\n",
       "      <td>0</td>\n",
       "      <td>0</td>\n",
       "      <td>0</td>\n",
       "      <td>0</td>\n",
       "      <td>...</td>\n",
       "      <td>0</td>\n",
       "      <td>0</td>\n",
       "      <td>0</td>\n",
       "      <td>0</td>\n",
       "      <td>0</td>\n",
       "      <td>0</td>\n",
       "      <td>0</td>\n",
       "      <td>0</td>\n",
       "      <td>0</td>\n",
       "      <td>0</td>\n",
       "    </tr>\n",
       "  </tbody>\n",
       "</table>\n",
       "<p>5 rows × 3167 columns</p>\n",
       "</div>"
      ],
      "text/plain": [
       "       00  10  100  14  15  25  33  40  43  50  ...  za  zabaglione  \\\n",
       "49713   0   0    0   0   0   0   0   0   0   0  ...   0           0   \n",
       "49714   0   0    0   0   0   0   0   0   0   0  ...   0           0   \n",
       "49715   0   0    0   0   0   0   0   0   0   0  ...   0           0   \n",
       "49716   0   0    0   0   0   0   0   0   0   0  ...   0           0   \n",
       "49717   0   0    0   0   0   0   0   0   0   0  ...   0           0   \n",
       "\n",
       "       zatarains  zatarainâ  zero  zest  zesty  zinfandel  ziti  zucchini  \n",
       "49713          0          0     0     0      0          0     0         0  \n",
       "49714          0          0     0     0      1          0     0         0  \n",
       "49715          0          0     0     0      0          0     0         0  \n",
       "49716          0          0     0     0      0          0     0         0  \n",
       "49717          0          0     0     0      0          0     0         0  \n",
       "\n",
       "[5 rows x 3167 columns]"
      ]
     },
     "execution_count": 36,
     "metadata": {},
     "output_type": "execute_result"
    }
   ],
   "source": [
    "train_data2.tail()"
   ]
  },
  {
   "cell_type": "code",
   "execution_count": 37,
   "metadata": {},
   "outputs": [],
   "source": [
    "train_data2.reset_index(inplace = True) "
   ]
  },
  {
   "cell_type": "code",
   "execution_count": 38,
   "metadata": {},
   "outputs": [],
   "source": [
    "train_data2.drop(\"index\",axis=1,inplace=True)"
   ]
  },
  {
   "cell_type": "code",
   "execution_count": 39,
   "metadata": {},
   "outputs": [
    {
     "data": {
      "text/html": [
       "<div>\n",
       "<style scoped>\n",
       "    .dataframe tbody tr th:only-of-type {\n",
       "        vertical-align: middle;\n",
       "    }\n",
       "\n",
       "    .dataframe tbody tr th {\n",
       "        vertical-align: top;\n",
       "    }\n",
       "\n",
       "    .dataframe thead th {\n",
       "        text-align: right;\n",
       "    }\n",
       "</style>\n",
       "<table border=\"1\" class=\"dataframe\">\n",
       "  <thead>\n",
       "    <tr style=\"text-align: right;\">\n",
       "      <th></th>\n",
       "      <th>cuisine</th>\n",
       "      <th>id</th>\n",
       "      <th>ingredients</th>\n",
       "    </tr>\n",
       "  </thead>\n",
       "  <tbody>\n",
       "    <tr>\n",
       "      <th>39769</th>\n",
       "      <td>irish</td>\n",
       "      <td>29109</td>\n",
       "      <td>light brown sugar granulated sugar butter warm...</td>\n",
       "    </tr>\n",
       "    <tr>\n",
       "      <th>39770</th>\n",
       "      <td>italian</td>\n",
       "      <td>11462</td>\n",
       "      <td>KRAFT Zesty Italian Dressing purple onion broc...</td>\n",
       "    </tr>\n",
       "    <tr>\n",
       "      <th>39771</th>\n",
       "      <td>irish</td>\n",
       "      <td>2238</td>\n",
       "      <td>eggs citrus fruit raisins sourdough starter fl...</td>\n",
       "    </tr>\n",
       "    <tr>\n",
       "      <th>39772</th>\n",
       "      <td>chinese</td>\n",
       "      <td>41882</td>\n",
       "      <td>boneless chicken skinless thigh minced garlic ...</td>\n",
       "    </tr>\n",
       "    <tr>\n",
       "      <th>39773</th>\n",
       "      <td>mexican</td>\n",
       "      <td>2362</td>\n",
       "      <td>green chile jalapeno chilies onions ground bla...</td>\n",
       "    </tr>\n",
       "  </tbody>\n",
       "</table>\n",
       "</div>"
      ],
      "text/plain": [
       "       cuisine     id                                        ingredients\n",
       "39769    irish  29109  light brown sugar granulated sugar butter warm...\n",
       "39770  italian  11462  KRAFT Zesty Italian Dressing purple onion broc...\n",
       "39771    irish   2238  eggs citrus fruit raisins sourdough starter fl...\n",
       "39772  chinese  41882  boneless chicken skinless thigh minced garlic ...\n",
       "39773  mexican   2362  green chile jalapeno chilies onions ground bla..."
      ]
     },
     "execution_count": 39,
     "metadata": {},
     "output_type": "execute_result"
    }
   ],
   "source": [
    "train_data.tail()"
   ]
  },
  {
   "cell_type": "code",
   "execution_count": 40,
   "metadata": {},
   "outputs": [],
   "source": [
    "train_data3 = pd.concat([train_data, train_data2], axis=1)"
   ]
  },
  {
   "cell_type": "code",
   "execution_count": 41,
   "metadata": {},
   "outputs": [
    {
     "data": {
      "text/plain": [
       "(39774, 3170)"
      ]
     },
     "execution_count": 41,
     "metadata": {},
     "output_type": "execute_result"
    }
   ],
   "source": [
    "train_data3.shape"
   ]
  },
  {
   "cell_type": "code",
   "execution_count": 42,
   "metadata": {},
   "outputs": [
    {
     "data": {
      "text/html": [
       "<div>\n",
       "<style scoped>\n",
       "    .dataframe tbody tr th:only-of-type {\n",
       "        vertical-align: middle;\n",
       "    }\n",
       "\n",
       "    .dataframe tbody tr th {\n",
       "        vertical-align: top;\n",
       "    }\n",
       "\n",
       "    .dataframe thead th {\n",
       "        text-align: right;\n",
       "    }\n",
       "</style>\n",
       "<table border=\"1\" class=\"dataframe\">\n",
       "  <thead>\n",
       "    <tr style=\"text-align: right;\">\n",
       "      <th></th>\n",
       "      <th>cuisine</th>\n",
       "      <th>id</th>\n",
       "      <th>ingredients</th>\n",
       "      <th>00</th>\n",
       "      <th>10</th>\n",
       "      <th>100</th>\n",
       "      <th>14</th>\n",
       "      <th>15</th>\n",
       "      <th>25</th>\n",
       "      <th>33</th>\n",
       "      <th>...</th>\n",
       "      <th>za</th>\n",
       "      <th>zabaglione</th>\n",
       "      <th>zatarains</th>\n",
       "      <th>zatarainâ</th>\n",
       "      <th>zero</th>\n",
       "      <th>zest</th>\n",
       "      <th>zesty</th>\n",
       "      <th>zinfandel</th>\n",
       "      <th>ziti</th>\n",
       "      <th>zucchini</th>\n",
       "    </tr>\n",
       "  </thead>\n",
       "  <tbody>\n",
       "    <tr>\n",
       "      <th>0</th>\n",
       "      <td>greek</td>\n",
       "      <td>10259</td>\n",
       "      <td>romaine lettuce black olives grape tomatoes ga...</td>\n",
       "      <td>0</td>\n",
       "      <td>0</td>\n",
       "      <td>0</td>\n",
       "      <td>0</td>\n",
       "      <td>0</td>\n",
       "      <td>0</td>\n",
       "      <td>0</td>\n",
       "      <td>...</td>\n",
       "      <td>0</td>\n",
       "      <td>0</td>\n",
       "      <td>0</td>\n",
       "      <td>0</td>\n",
       "      <td>0</td>\n",
       "      <td>0</td>\n",
       "      <td>0</td>\n",
       "      <td>0</td>\n",
       "      <td>0</td>\n",
       "      <td>0</td>\n",
       "    </tr>\n",
       "    <tr>\n",
       "      <th>1</th>\n",
       "      <td>southern_us</td>\n",
       "      <td>25693</td>\n",
       "      <td>plain flour ground pepper salt tomatoes ground...</td>\n",
       "      <td>0</td>\n",
       "      <td>0</td>\n",
       "      <td>0</td>\n",
       "      <td>0</td>\n",
       "      <td>0</td>\n",
       "      <td>0</td>\n",
       "      <td>0</td>\n",
       "      <td>...</td>\n",
       "      <td>0</td>\n",
       "      <td>0</td>\n",
       "      <td>0</td>\n",
       "      <td>0</td>\n",
       "      <td>0</td>\n",
       "      <td>0</td>\n",
       "      <td>0</td>\n",
       "      <td>0</td>\n",
       "      <td>0</td>\n",
       "      <td>0</td>\n",
       "    </tr>\n",
       "    <tr>\n",
       "      <th>2</th>\n",
       "      <td>filipino</td>\n",
       "      <td>20130</td>\n",
       "      <td>eggs pepper salt mayonaise cooking oil green c...</td>\n",
       "      <td>0</td>\n",
       "      <td>0</td>\n",
       "      <td>0</td>\n",
       "      <td>0</td>\n",
       "      <td>0</td>\n",
       "      <td>0</td>\n",
       "      <td>0</td>\n",
       "      <td>...</td>\n",
       "      <td>0</td>\n",
       "      <td>0</td>\n",
       "      <td>0</td>\n",
       "      <td>0</td>\n",
       "      <td>0</td>\n",
       "      <td>0</td>\n",
       "      <td>0</td>\n",
       "      <td>0</td>\n",
       "      <td>0</td>\n",
       "      <td>0</td>\n",
       "    </tr>\n",
       "    <tr>\n",
       "      <th>3</th>\n",
       "      <td>indian</td>\n",
       "      <td>22213</td>\n",
       "      <td>water vegetable oil wheat salt</td>\n",
       "      <td>0</td>\n",
       "      <td>0</td>\n",
       "      <td>0</td>\n",
       "      <td>0</td>\n",
       "      <td>0</td>\n",
       "      <td>0</td>\n",
       "      <td>0</td>\n",
       "      <td>...</td>\n",
       "      <td>0</td>\n",
       "      <td>0</td>\n",
       "      <td>0</td>\n",
       "      <td>0</td>\n",
       "      <td>0</td>\n",
       "      <td>0</td>\n",
       "      <td>0</td>\n",
       "      <td>0</td>\n",
       "      <td>0</td>\n",
       "      <td>0</td>\n",
       "    </tr>\n",
       "    <tr>\n",
       "      <th>4</th>\n",
       "      <td>indian</td>\n",
       "      <td>13162</td>\n",
       "      <td>black pepper shallots cornflour cayenne pepper...</td>\n",
       "      <td>0</td>\n",
       "      <td>0</td>\n",
       "      <td>0</td>\n",
       "      <td>0</td>\n",
       "      <td>0</td>\n",
       "      <td>0</td>\n",
       "      <td>0</td>\n",
       "      <td>...</td>\n",
       "      <td>0</td>\n",
       "      <td>0</td>\n",
       "      <td>0</td>\n",
       "      <td>0</td>\n",
       "      <td>0</td>\n",
       "      <td>0</td>\n",
       "      <td>0</td>\n",
       "      <td>0</td>\n",
       "      <td>0</td>\n",
       "      <td>0</td>\n",
       "    </tr>\n",
       "  </tbody>\n",
       "</table>\n",
       "<p>5 rows × 3170 columns</p>\n",
       "</div>"
      ],
      "text/plain": [
       "       cuisine     id                                        ingredients  00  \\\n",
       "0        greek  10259  romaine lettuce black olives grape tomatoes ga...   0   \n",
       "1  southern_us  25693  plain flour ground pepper salt tomatoes ground...   0   \n",
       "2     filipino  20130  eggs pepper salt mayonaise cooking oil green c...   0   \n",
       "3       indian  22213                     water vegetable oil wheat salt   0   \n",
       "4       indian  13162  black pepper shallots cornflour cayenne pepper...   0   \n",
       "\n",
       "   10  100  14  15  25  33  ...  za  zabaglione  zatarains  zatarainâ  zero  \\\n",
       "0   0    0   0   0   0   0  ...   0           0          0          0     0   \n",
       "1   0    0   0   0   0   0  ...   0           0          0          0     0   \n",
       "2   0    0   0   0   0   0  ...   0           0          0          0     0   \n",
       "3   0    0   0   0   0   0  ...   0           0          0          0     0   \n",
       "4   0    0   0   0   0   0  ...   0           0          0          0     0   \n",
       "\n",
       "   zest  zesty  zinfandel  ziti  zucchini  \n",
       "0     0      0          0     0         0  \n",
       "1     0      0          0     0         0  \n",
       "2     0      0          0     0         0  \n",
       "3     0      0          0     0         0  \n",
       "4     0      0          0     0         0  \n",
       "\n",
       "[5 rows x 3170 columns]"
      ]
     },
     "execution_count": 42,
     "metadata": {},
     "output_type": "execute_result"
    }
   ],
   "source": [
    "train_data3.head()"
   ]
  },
  {
   "cell_type": "code",
   "execution_count": 43,
   "metadata": {
    "scrolled": false
   },
   "outputs": [],
   "source": [
    "train_data3.drop(\"id\",axis=1,inplace=True)\n",
    "#test_data.drop(\"id\",axis=1,inplace=True)\n",
    "train_data3.drop(\"ingredients\",axis=1,inplace=True)"
   ]
  },
  {
   "cell_type": "code",
   "execution_count": 44,
   "metadata": {},
   "outputs": [],
   "source": [
    "train_data_new=train_data3.sample(frac=0.7,random_state=200) #random state is a seed value\n",
    "val_data=train_data3.drop(train_data_new.index)"
   ]
  },
  {
   "cell_type": "code",
   "execution_count": 45,
   "metadata": {},
   "outputs": [
    {
     "data": {
      "text/html": [
       "<div>\n",
       "<style scoped>\n",
       "    .dataframe tbody tr th:only-of-type {\n",
       "        vertical-align: middle;\n",
       "    }\n",
       "\n",
       "    .dataframe tbody tr th {\n",
       "        vertical-align: top;\n",
       "    }\n",
       "\n",
       "    .dataframe thead th {\n",
       "        text-align: right;\n",
       "    }\n",
       "</style>\n",
       "<table border=\"1\" class=\"dataframe\">\n",
       "  <thead>\n",
       "    <tr style=\"text-align: right;\">\n",
       "      <th></th>\n",
       "      <th>cuisine</th>\n",
       "      <th>00</th>\n",
       "      <th>10</th>\n",
       "      <th>100</th>\n",
       "      <th>14</th>\n",
       "      <th>15</th>\n",
       "      <th>25</th>\n",
       "      <th>33</th>\n",
       "      <th>40</th>\n",
       "      <th>43</th>\n",
       "      <th>...</th>\n",
       "      <th>za</th>\n",
       "      <th>zabaglione</th>\n",
       "      <th>zatarains</th>\n",
       "      <th>zatarainâ</th>\n",
       "      <th>zero</th>\n",
       "      <th>zest</th>\n",
       "      <th>zesty</th>\n",
       "      <th>zinfandel</th>\n",
       "      <th>ziti</th>\n",
       "      <th>zucchini</th>\n",
       "    </tr>\n",
       "  </thead>\n",
       "  <tbody>\n",
       "    <tr>\n",
       "      <th>8937</th>\n",
       "      <td>southern_us</td>\n",
       "      <td>0</td>\n",
       "      <td>0</td>\n",
       "      <td>0</td>\n",
       "      <td>0</td>\n",
       "      <td>0</td>\n",
       "      <td>0</td>\n",
       "      <td>0</td>\n",
       "      <td>0</td>\n",
       "      <td>0</td>\n",
       "      <td>...</td>\n",
       "      <td>0</td>\n",
       "      <td>0</td>\n",
       "      <td>0</td>\n",
       "      <td>0</td>\n",
       "      <td>0</td>\n",
       "      <td>0</td>\n",
       "      <td>0</td>\n",
       "      <td>0</td>\n",
       "      <td>0</td>\n",
       "      <td>0</td>\n",
       "    </tr>\n",
       "    <tr>\n",
       "      <th>29679</th>\n",
       "      <td>russian</td>\n",
       "      <td>0</td>\n",
       "      <td>0</td>\n",
       "      <td>0</td>\n",
       "      <td>0</td>\n",
       "      <td>0</td>\n",
       "      <td>0</td>\n",
       "      <td>0</td>\n",
       "      <td>0</td>\n",
       "      <td>0</td>\n",
       "      <td>...</td>\n",
       "      <td>0</td>\n",
       "      <td>0</td>\n",
       "      <td>0</td>\n",
       "      <td>0</td>\n",
       "      <td>0</td>\n",
       "      <td>0</td>\n",
       "      <td>0</td>\n",
       "      <td>0</td>\n",
       "      <td>0</td>\n",
       "      <td>0</td>\n",
       "    </tr>\n",
       "    <tr>\n",
       "      <th>15616</th>\n",
       "      <td>spanish</td>\n",
       "      <td>0</td>\n",
       "      <td>0</td>\n",
       "      <td>0</td>\n",
       "      <td>0</td>\n",
       "      <td>0</td>\n",
       "      <td>0</td>\n",
       "      <td>0</td>\n",
       "      <td>0</td>\n",
       "      <td>0</td>\n",
       "      <td>...</td>\n",
       "      <td>0</td>\n",
       "      <td>0</td>\n",
       "      <td>0</td>\n",
       "      <td>0</td>\n",
       "      <td>0</td>\n",
       "      <td>0</td>\n",
       "      <td>0</td>\n",
       "      <td>0</td>\n",
       "      <td>0</td>\n",
       "      <td>0</td>\n",
       "    </tr>\n",
       "    <tr>\n",
       "      <th>3239</th>\n",
       "      <td>french</td>\n",
       "      <td>0</td>\n",
       "      <td>0</td>\n",
       "      <td>0</td>\n",
       "      <td>0</td>\n",
       "      <td>0</td>\n",
       "      <td>0</td>\n",
       "      <td>0</td>\n",
       "      <td>0</td>\n",
       "      <td>0</td>\n",
       "      <td>...</td>\n",
       "      <td>0</td>\n",
       "      <td>0</td>\n",
       "      <td>0</td>\n",
       "      <td>0</td>\n",
       "      <td>0</td>\n",
       "      <td>0</td>\n",
       "      <td>0</td>\n",
       "      <td>0</td>\n",
       "      <td>0</td>\n",
       "      <td>0</td>\n",
       "    </tr>\n",
       "    <tr>\n",
       "      <th>17395</th>\n",
       "      <td>southern_us</td>\n",
       "      <td>0</td>\n",
       "      <td>0</td>\n",
       "      <td>0</td>\n",
       "      <td>0</td>\n",
       "      <td>0</td>\n",
       "      <td>0</td>\n",
       "      <td>0</td>\n",
       "      <td>0</td>\n",
       "      <td>0</td>\n",
       "      <td>...</td>\n",
       "      <td>0</td>\n",
       "      <td>0</td>\n",
       "      <td>0</td>\n",
       "      <td>0</td>\n",
       "      <td>0</td>\n",
       "      <td>0</td>\n",
       "      <td>0</td>\n",
       "      <td>0</td>\n",
       "      <td>0</td>\n",
       "      <td>0</td>\n",
       "    </tr>\n",
       "  </tbody>\n",
       "</table>\n",
       "<p>5 rows × 3168 columns</p>\n",
       "</div>"
      ],
      "text/plain": [
       "           cuisine  00  10  100  14  15  25  33  40  43  ...  za  zabaglione  \\\n",
       "8937   southern_us   0   0    0   0   0   0   0   0   0  ...   0           0   \n",
       "29679      russian   0   0    0   0   0   0   0   0   0  ...   0           0   \n",
       "15616      spanish   0   0    0   0   0   0   0   0   0  ...   0           0   \n",
       "3239        french   0   0    0   0   0   0   0   0   0  ...   0           0   \n",
       "17395  southern_us   0   0    0   0   0   0   0   0   0  ...   0           0   \n",
       "\n",
       "       zatarains  zatarainâ  zero  zest  zesty  zinfandel  ziti  zucchini  \n",
       "8937           0          0     0     0      0          0     0         0  \n",
       "29679          0          0     0     0      0          0     0         0  \n",
       "15616          0          0     0     0      0          0     0         0  \n",
       "3239           0          0     0     0      0          0     0         0  \n",
       "17395          0          0     0     0      0          0     0         0  \n",
       "\n",
       "[5 rows x 3168 columns]"
      ]
     },
     "execution_count": 45,
     "metadata": {},
     "output_type": "execute_result"
    }
   ],
   "source": [
    "train_data_new.head()"
   ]
  },
  {
   "cell_type": "code",
   "execution_count": 46,
   "metadata": {},
   "outputs": [],
   "source": [
    "#Performing train val split on the data\n",
    "X_train, y_train = train_data_new.loc[:,train_data_new.columns!='cuisine'], train_data_new.loc[:,'cuisine']\n",
    "\n",
    "X_val, y_val = val_data.loc[:,val_data.columns!='cuisine'], val_data.loc[:,'cuisine']"
   ]
  },
  {
   "cell_type": "code",
   "execution_count": 47,
   "metadata": {},
   "outputs": [],
   "source": [
    "# sklearn.feature_extraction.text.CountVectorizer - Convert a collection of text documents to a matrix of token counts\n",
    "tf_vectorizer_test = CountVectorizer(ngram_range=(1,1))\n",
    "tf_test = tf_vectorizer_test.fit_transform(test_data_df_full.ingredients)         # tfs are calculated by CountVectorizer's fit_transform()"
   ]
  },
  {
   "cell_type": "code",
   "execution_count": 48,
   "metadata": {},
   "outputs": [],
   "source": [
    "test_data1=pd.DataFrame(tf_test.toarray(), columns= tf_vectorizer_test.get_feature_names()) # Array mapping from feature integer indices to feature name"
   ]
  },
  {
   "cell_type": "code",
   "execution_count": 49,
   "metadata": {},
   "outputs": [],
   "source": [
    "test_data1.drop(\"cuisine\",axis=1,inplace=True)"
   ]
  },
  {
   "cell_type": "code",
   "execution_count": 50,
   "metadata": {},
   "outputs": [
    {
     "data": {
      "text/plain": [
       "(49718, 3166)"
      ]
     },
     "execution_count": 50,
     "metadata": {},
     "output_type": "execute_result"
    }
   ],
   "source": [
    "test_data1.shape"
   ]
  },
  {
   "cell_type": "code",
   "execution_count": 51,
   "metadata": {},
   "outputs": [],
   "source": [
    "test_data1=test_data1.drop(train_data1.index[9944:])"
   ]
  },
  {
   "cell_type": "code",
   "execution_count": 52,
   "metadata": {},
   "outputs": [
    {
     "data": {
      "text/html": [
       "<div>\n",
       "<style scoped>\n",
       "    .dataframe tbody tr th:only-of-type {\n",
       "        vertical-align: middle;\n",
       "    }\n",
       "\n",
       "    .dataframe tbody tr th {\n",
       "        vertical-align: top;\n",
       "    }\n",
       "\n",
       "    .dataframe thead th {\n",
       "        text-align: right;\n",
       "    }\n",
       "</style>\n",
       "<table border=\"1\" class=\"dataframe\">\n",
       "  <thead>\n",
       "    <tr style=\"text-align: right;\">\n",
       "      <th></th>\n",
       "      <th>00</th>\n",
       "      <th>10</th>\n",
       "      <th>100</th>\n",
       "      <th>14</th>\n",
       "      <th>15</th>\n",
       "      <th>25</th>\n",
       "      <th>33</th>\n",
       "      <th>40</th>\n",
       "      <th>43</th>\n",
       "      <th>50</th>\n",
       "      <th>...</th>\n",
       "      <th>za</th>\n",
       "      <th>zabaglione</th>\n",
       "      <th>zatarains</th>\n",
       "      <th>zatarainâ</th>\n",
       "      <th>zero</th>\n",
       "      <th>zest</th>\n",
       "      <th>zesty</th>\n",
       "      <th>zinfandel</th>\n",
       "      <th>ziti</th>\n",
       "      <th>zucchini</th>\n",
       "    </tr>\n",
       "  </thead>\n",
       "  <tbody>\n",
       "    <tr>\n",
       "      <th>8937</th>\n",
       "      <td>0</td>\n",
       "      <td>0</td>\n",
       "      <td>0</td>\n",
       "      <td>0</td>\n",
       "      <td>0</td>\n",
       "      <td>0</td>\n",
       "      <td>0</td>\n",
       "      <td>0</td>\n",
       "      <td>0</td>\n",
       "      <td>0</td>\n",
       "      <td>...</td>\n",
       "      <td>0</td>\n",
       "      <td>0</td>\n",
       "      <td>0</td>\n",
       "      <td>0</td>\n",
       "      <td>0</td>\n",
       "      <td>0</td>\n",
       "      <td>0</td>\n",
       "      <td>0</td>\n",
       "      <td>0</td>\n",
       "      <td>0</td>\n",
       "    </tr>\n",
       "    <tr>\n",
       "      <th>29679</th>\n",
       "      <td>0</td>\n",
       "      <td>0</td>\n",
       "      <td>0</td>\n",
       "      <td>0</td>\n",
       "      <td>0</td>\n",
       "      <td>0</td>\n",
       "      <td>0</td>\n",
       "      <td>0</td>\n",
       "      <td>0</td>\n",
       "      <td>0</td>\n",
       "      <td>...</td>\n",
       "      <td>0</td>\n",
       "      <td>0</td>\n",
       "      <td>0</td>\n",
       "      <td>0</td>\n",
       "      <td>0</td>\n",
       "      <td>0</td>\n",
       "      <td>0</td>\n",
       "      <td>0</td>\n",
       "      <td>0</td>\n",
       "      <td>0</td>\n",
       "    </tr>\n",
       "    <tr>\n",
       "      <th>15616</th>\n",
       "      <td>0</td>\n",
       "      <td>0</td>\n",
       "      <td>0</td>\n",
       "      <td>0</td>\n",
       "      <td>0</td>\n",
       "      <td>0</td>\n",
       "      <td>0</td>\n",
       "      <td>0</td>\n",
       "      <td>0</td>\n",
       "      <td>0</td>\n",
       "      <td>...</td>\n",
       "      <td>0</td>\n",
       "      <td>0</td>\n",
       "      <td>0</td>\n",
       "      <td>0</td>\n",
       "      <td>0</td>\n",
       "      <td>0</td>\n",
       "      <td>0</td>\n",
       "      <td>0</td>\n",
       "      <td>0</td>\n",
       "      <td>0</td>\n",
       "    </tr>\n",
       "    <tr>\n",
       "      <th>3239</th>\n",
       "      <td>0</td>\n",
       "      <td>0</td>\n",
       "      <td>0</td>\n",
       "      <td>0</td>\n",
       "      <td>0</td>\n",
       "      <td>0</td>\n",
       "      <td>0</td>\n",
       "      <td>0</td>\n",
       "      <td>0</td>\n",
       "      <td>0</td>\n",
       "      <td>...</td>\n",
       "      <td>0</td>\n",
       "      <td>0</td>\n",
       "      <td>0</td>\n",
       "      <td>0</td>\n",
       "      <td>0</td>\n",
       "      <td>0</td>\n",
       "      <td>0</td>\n",
       "      <td>0</td>\n",
       "      <td>0</td>\n",
       "      <td>0</td>\n",
       "    </tr>\n",
       "    <tr>\n",
       "      <th>17395</th>\n",
       "      <td>0</td>\n",
       "      <td>0</td>\n",
       "      <td>0</td>\n",
       "      <td>0</td>\n",
       "      <td>0</td>\n",
       "      <td>0</td>\n",
       "      <td>0</td>\n",
       "      <td>0</td>\n",
       "      <td>0</td>\n",
       "      <td>0</td>\n",
       "      <td>...</td>\n",
       "      <td>0</td>\n",
       "      <td>0</td>\n",
       "      <td>0</td>\n",
       "      <td>0</td>\n",
       "      <td>0</td>\n",
       "      <td>0</td>\n",
       "      <td>0</td>\n",
       "      <td>0</td>\n",
       "      <td>0</td>\n",
       "      <td>0</td>\n",
       "    </tr>\n",
       "  </tbody>\n",
       "</table>\n",
       "<p>5 rows × 3166 columns</p>\n",
       "</div>"
      ],
      "text/plain": [
       "       00  10  100  14  15  25  33  40  43  50  ...  za  zabaglione  \\\n",
       "8937    0   0    0   0   0   0   0   0   0   0  ...   0           0   \n",
       "29679   0   0    0   0   0   0   0   0   0   0  ...   0           0   \n",
       "15616   0   0    0   0   0   0   0   0   0   0  ...   0           0   \n",
       "3239    0   0    0   0   0   0   0   0   0   0  ...   0           0   \n",
       "17395   0   0    0   0   0   0   0   0   0   0  ...   0           0   \n",
       "\n",
       "       zatarains  zatarainâ  zero  zest  zesty  zinfandel  ziti  zucchini  \n",
       "8937           0          0     0     0      0          0     0         0  \n",
       "29679          0          0     0     0      0          0     0         0  \n",
       "15616          0          0     0     0      0          0     0         0  \n",
       "3239           0          0     0     0      0          0     0         0  \n",
       "17395          0          0     0     0      0          0     0         0  \n",
       "\n",
       "[5 rows x 3166 columns]"
      ]
     },
     "execution_count": 52,
     "metadata": {},
     "output_type": "execute_result"
    }
   ],
   "source": [
    "X_train.head()"
   ]
  },
  {
   "cell_type": "code",
   "execution_count": 53,
   "metadata": {
    "scrolled": false
   },
   "outputs": [
    {
     "data": {
      "text/html": [
       "<div>\n",
       "<style scoped>\n",
       "    .dataframe tbody tr th:only-of-type {\n",
       "        vertical-align: middle;\n",
       "    }\n",
       "\n",
       "    .dataframe tbody tr th {\n",
       "        vertical-align: top;\n",
       "    }\n",
       "\n",
       "    .dataframe thead th {\n",
       "        text-align: right;\n",
       "    }\n",
       "</style>\n",
       "<table border=\"1\" class=\"dataframe\">\n",
       "  <thead>\n",
       "    <tr style=\"text-align: right;\">\n",
       "      <th></th>\n",
       "      <th>cuisine</th>\n",
       "      <th>00</th>\n",
       "      <th>10</th>\n",
       "      <th>100</th>\n",
       "      <th>14</th>\n",
       "      <th>15</th>\n",
       "      <th>25</th>\n",
       "      <th>33</th>\n",
       "      <th>40</th>\n",
       "      <th>43</th>\n",
       "      <th>...</th>\n",
       "      <th>za</th>\n",
       "      <th>zabaglione</th>\n",
       "      <th>zatarains</th>\n",
       "      <th>zatarainâ</th>\n",
       "      <th>zero</th>\n",
       "      <th>zest</th>\n",
       "      <th>zesty</th>\n",
       "      <th>zinfandel</th>\n",
       "      <th>ziti</th>\n",
       "      <th>zucchini</th>\n",
       "    </tr>\n",
       "  </thead>\n",
       "  <tbody>\n",
       "    <tr>\n",
       "      <th>8937</th>\n",
       "      <td>southern_us</td>\n",
       "      <td>0</td>\n",
       "      <td>0</td>\n",
       "      <td>0</td>\n",
       "      <td>0</td>\n",
       "      <td>0</td>\n",
       "      <td>0</td>\n",
       "      <td>0</td>\n",
       "      <td>0</td>\n",
       "      <td>0</td>\n",
       "      <td>...</td>\n",
       "      <td>0</td>\n",
       "      <td>0</td>\n",
       "      <td>0</td>\n",
       "      <td>0</td>\n",
       "      <td>0</td>\n",
       "      <td>0</td>\n",
       "      <td>0</td>\n",
       "      <td>0</td>\n",
       "      <td>0</td>\n",
       "      <td>0</td>\n",
       "    </tr>\n",
       "    <tr>\n",
       "      <th>29679</th>\n",
       "      <td>russian</td>\n",
       "      <td>0</td>\n",
       "      <td>0</td>\n",
       "      <td>0</td>\n",
       "      <td>0</td>\n",
       "      <td>0</td>\n",
       "      <td>0</td>\n",
       "      <td>0</td>\n",
       "      <td>0</td>\n",
       "      <td>0</td>\n",
       "      <td>...</td>\n",
       "      <td>0</td>\n",
       "      <td>0</td>\n",
       "      <td>0</td>\n",
       "      <td>0</td>\n",
       "      <td>0</td>\n",
       "      <td>0</td>\n",
       "      <td>0</td>\n",
       "      <td>0</td>\n",
       "      <td>0</td>\n",
       "      <td>0</td>\n",
       "    </tr>\n",
       "    <tr>\n",
       "      <th>15616</th>\n",
       "      <td>spanish</td>\n",
       "      <td>0</td>\n",
       "      <td>0</td>\n",
       "      <td>0</td>\n",
       "      <td>0</td>\n",
       "      <td>0</td>\n",
       "      <td>0</td>\n",
       "      <td>0</td>\n",
       "      <td>0</td>\n",
       "      <td>0</td>\n",
       "      <td>...</td>\n",
       "      <td>0</td>\n",
       "      <td>0</td>\n",
       "      <td>0</td>\n",
       "      <td>0</td>\n",
       "      <td>0</td>\n",
       "      <td>0</td>\n",
       "      <td>0</td>\n",
       "      <td>0</td>\n",
       "      <td>0</td>\n",
       "      <td>0</td>\n",
       "    </tr>\n",
       "    <tr>\n",
       "      <th>3239</th>\n",
       "      <td>french</td>\n",
       "      <td>0</td>\n",
       "      <td>0</td>\n",
       "      <td>0</td>\n",
       "      <td>0</td>\n",
       "      <td>0</td>\n",
       "      <td>0</td>\n",
       "      <td>0</td>\n",
       "      <td>0</td>\n",
       "      <td>0</td>\n",
       "      <td>...</td>\n",
       "      <td>0</td>\n",
       "      <td>0</td>\n",
       "      <td>0</td>\n",
       "      <td>0</td>\n",
       "      <td>0</td>\n",
       "      <td>0</td>\n",
       "      <td>0</td>\n",
       "      <td>0</td>\n",
       "      <td>0</td>\n",
       "      <td>0</td>\n",
       "    </tr>\n",
       "    <tr>\n",
       "      <th>17395</th>\n",
       "      <td>southern_us</td>\n",
       "      <td>0</td>\n",
       "      <td>0</td>\n",
       "      <td>0</td>\n",
       "      <td>0</td>\n",
       "      <td>0</td>\n",
       "      <td>0</td>\n",
       "      <td>0</td>\n",
       "      <td>0</td>\n",
       "      <td>0</td>\n",
       "      <td>...</td>\n",
       "      <td>0</td>\n",
       "      <td>0</td>\n",
       "      <td>0</td>\n",
       "      <td>0</td>\n",
       "      <td>0</td>\n",
       "      <td>0</td>\n",
       "      <td>0</td>\n",
       "      <td>0</td>\n",
       "      <td>0</td>\n",
       "      <td>0</td>\n",
       "    </tr>\n",
       "  </tbody>\n",
       "</table>\n",
       "<p>5 rows × 3168 columns</p>\n",
       "</div>"
      ],
      "text/plain": [
       "           cuisine  00  10  100  14  15  25  33  40  43  ...  za  zabaglione  \\\n",
       "8937   southern_us   0   0    0   0   0   0   0   0   0  ...   0           0   \n",
       "29679      russian   0   0    0   0   0   0   0   0   0  ...   0           0   \n",
       "15616      spanish   0   0    0   0   0   0   0   0   0  ...   0           0   \n",
       "3239        french   0   0    0   0   0   0   0   0   0  ...   0           0   \n",
       "17395  southern_us   0   0    0   0   0   0   0   0   0  ...   0           0   \n",
       "\n",
       "       zatarains  zatarainâ  zero  zest  zesty  zinfandel  ziti  zucchini  \n",
       "8937           0          0     0     0      0          0     0         0  \n",
       "29679          0          0     0     0      0          0     0         0  \n",
       "15616          0          0     0     0      0          0     0         0  \n",
       "3239           0          0     0     0      0          0     0         0  \n",
       "17395          0          0     0     0      0          0     0         0  \n",
       "\n",
       "[5 rows x 3168 columns]"
      ]
     },
     "execution_count": 53,
     "metadata": {},
     "output_type": "execute_result"
    }
   ],
   "source": [
    "train_data_new.head()"
   ]
  },
  {
   "cell_type": "code",
   "execution_count": 54,
   "metadata": {},
   "outputs": [],
   "source": [
    "y_val.columns=['cuisine','b']\n",
    "y_train.columns=['cuisine','b']"
   ]
  },
  {
   "cell_type": "code",
   "execution_count": 55,
   "metadata": {},
   "outputs": [
    {
     "data": {
      "text/html": [
       "<div>\n",
       "<style scoped>\n",
       "    .dataframe tbody tr th:only-of-type {\n",
       "        vertical-align: middle;\n",
       "    }\n",
       "\n",
       "    .dataframe tbody tr th {\n",
       "        vertical-align: top;\n",
       "    }\n",
       "\n",
       "    .dataframe thead th {\n",
       "        text-align: right;\n",
       "    }\n",
       "</style>\n",
       "<table border=\"1\" class=\"dataframe\">\n",
       "  <thead>\n",
       "    <tr style=\"text-align: right;\">\n",
       "      <th></th>\n",
       "      <th>cuisine</th>\n",
       "      <th>b</th>\n",
       "    </tr>\n",
       "  </thead>\n",
       "  <tbody>\n",
       "    <tr>\n",
       "      <th>2</th>\n",
       "      <td>filipino</td>\n",
       "      <td>0</td>\n",
       "    </tr>\n",
       "    <tr>\n",
       "      <th>3</th>\n",
       "      <td>indian</td>\n",
       "      <td>0</td>\n",
       "    </tr>\n",
       "    <tr>\n",
       "      <th>4</th>\n",
       "      <td>indian</td>\n",
       "      <td>0</td>\n",
       "    </tr>\n",
       "    <tr>\n",
       "      <th>5</th>\n",
       "      <td>jamaican</td>\n",
       "      <td>0</td>\n",
       "    </tr>\n",
       "    <tr>\n",
       "      <th>11</th>\n",
       "      <td>chinese</td>\n",
       "      <td>0</td>\n",
       "    </tr>\n",
       "  </tbody>\n",
       "</table>\n",
       "</div>"
      ],
      "text/plain": [
       "     cuisine  b\n",
       "2   filipino  0\n",
       "3     indian  0\n",
       "4     indian  0\n",
       "5   jamaican  0\n",
       "11   chinese  0"
      ]
     },
     "execution_count": 55,
     "metadata": {},
     "output_type": "execute_result"
    }
   ],
   "source": [
    "y_val.head()"
   ]
  },
  {
   "cell_type": "code",
   "execution_count": 56,
   "metadata": {
    "scrolled": true
   },
   "outputs": [
    {
     "data": {
      "text/html": [
       "<div>\n",
       "<style scoped>\n",
       "    .dataframe tbody tr th:only-of-type {\n",
       "        vertical-align: middle;\n",
       "    }\n",
       "\n",
       "    .dataframe tbody tr th {\n",
       "        vertical-align: top;\n",
       "    }\n",
       "\n",
       "    .dataframe thead th {\n",
       "        text-align: right;\n",
       "    }\n",
       "</style>\n",
       "<table border=\"1\" class=\"dataframe\">\n",
       "  <thead>\n",
       "    <tr style=\"text-align: right;\">\n",
       "      <th></th>\n",
       "      <th>cuisine</th>\n",
       "      <th>b</th>\n",
       "    </tr>\n",
       "  </thead>\n",
       "  <tbody>\n",
       "    <tr>\n",
       "      <th>8937</th>\n",
       "      <td>southern_us</td>\n",
       "      <td>0</td>\n",
       "    </tr>\n",
       "    <tr>\n",
       "      <th>29679</th>\n",
       "      <td>russian</td>\n",
       "      <td>0</td>\n",
       "    </tr>\n",
       "    <tr>\n",
       "      <th>15616</th>\n",
       "      <td>spanish</td>\n",
       "      <td>0</td>\n",
       "    </tr>\n",
       "    <tr>\n",
       "      <th>3239</th>\n",
       "      <td>french</td>\n",
       "      <td>0</td>\n",
       "    </tr>\n",
       "    <tr>\n",
       "      <th>17395</th>\n",
       "      <td>southern_us</td>\n",
       "      <td>0</td>\n",
       "    </tr>\n",
       "  </tbody>\n",
       "</table>\n",
       "</div>"
      ],
      "text/plain": [
       "           cuisine  b\n",
       "8937   southern_us  0\n",
       "29679      russian  0\n",
       "15616      spanish  0\n",
       "3239        french  0\n",
       "17395  southern_us  0"
      ]
     },
     "execution_count": 56,
     "metadata": {},
     "output_type": "execute_result"
    }
   ],
   "source": [
    "y_train.head()"
   ]
  },
  {
   "cell_type": "code",
   "execution_count": 57,
   "metadata": {},
   "outputs": [],
   "source": [
    "y_val.drop(\"b\",axis=1,inplace=True)\n",
    "y_train.drop(\"b\",axis=1,inplace=True)"
   ]
  },
  {
   "cell_type": "code",
   "execution_count": 58,
   "metadata": {},
   "outputs": [],
   "source": [
    "test_data_ing=test_data.loc[:,'ingredients']"
   ]
  },
  {
   "cell_type": "code",
   "execution_count": 59,
   "metadata": {},
   "outputs": [
    {
     "name": "stdout",
     "output_type": "stream",
     "text": [
      "(27842, 3166)\n",
      "(27842, 1)\n",
      "(11932, 3166)\n",
      "(11932, 1)\n",
      "(9944,)\n"
     ]
    }
   ],
   "source": [
    "print(X_train.shape)\n",
    "print(y_train.shape)\n",
    "print(X_val.shape)\n",
    "print(y_val.shape)\n",
    "print(test_data_ing.shape)"
   ]
  },
  {
   "cell_type": "code",
   "execution_count": 60,
   "metadata": {},
   "outputs": [
    {
     "name": "stdout",
     "output_type": "stream",
     "text": [
      "       00  10  100  14  15  25  33  40  43  50  ...  za  zabaglione  \\\n",
      "8937    0   0    0   0   0   0   0   0   0   0  ...   0           0   \n",
      "29679   0   0    0   0   0   0   0   0   0   0  ...   0           0   \n",
      "15616   0   0    0   0   0   0   0   0   0   0  ...   0           0   \n",
      "3239    0   0    0   0   0   0   0   0   0   0  ...   0           0   \n",
      "17395   0   0    0   0   0   0   0   0   0   0  ...   0           0   \n",
      "\n",
      "       zatarains  zatarainâ  zero  zest  zesty  zinfandel  ziti  zucchini  \n",
      "8937           0          0     0     0      0          0     0         0  \n",
      "29679          0          0     0     0      0          0     0         0  \n",
      "15616          0          0     0     0      0          0     0         0  \n",
      "3239           0          0     0     0      0          0     0         0  \n",
      "17395          0          0     0     0      0          0     0         0  \n",
      "\n",
      "[5 rows x 3166 columns]\n",
      "           cuisine\n",
      "8937   southern_us\n",
      "29679      russian\n",
      "15616      spanish\n",
      "3239        french\n",
      "17395  southern_us\n",
      "    00  10  100  14  15  25  33  40  43  50  ...  za  zabaglione  zatarains  \\\n",
      "2    0   0    0   0   0   0   0   0   0   0  ...   0           0          0   \n",
      "3    0   0    0   0   0   0   0   0   0   0  ...   0           0          0   \n",
      "4    0   0    0   0   0   0   0   0   0   0  ...   0           0          0   \n",
      "5    0   0    0   0   0   0   0   0   0   0  ...   0           0          0   \n",
      "11   0   0    0   0   0   0   0   0   0   0  ...   0           0          0   \n",
      "\n",
      "    zatarainâ  zero  zest  zesty  zinfandel  ziti  zucchini  \n",
      "2           0     0     0      0          0     0         0  \n",
      "3           0     0     0      0          0     0         0  \n",
      "4           0     0     0      0          0     0         0  \n",
      "5           0     0     0      0          0     0         0  \n",
      "11          0     0     0      0          0     0         0  \n",
      "\n",
      "[5 rows x 3166 columns]\n",
      "     cuisine\n",
      "2   filipino\n",
      "3     indian\n",
      "4     indian\n",
      "5   jamaican\n",
      "11   chinese\n",
      "0    baking powder eggs all-purpose flour raisins m...\n",
      "1    sugar egg yolks corn starch cream of tartar ba...\n",
      "2    sausage links fennel bulb fronds olive oil cub...\n",
      "3    meat cuts file powder smoked sausage okra shri...\n",
      "4    ground black pepper salt sausage casings leeks...\n",
      "Name: ingredients, dtype: object\n"
     ]
    }
   ],
   "source": [
    "print(X_train.head())\n",
    "print(y_train.head())\n",
    "print(X_val.head())\n",
    "print(y_val.head())\n",
    "print(test_data_ing.head())"
   ]
  },
  {
   "cell_type": "code",
   "execution_count": 61,
   "metadata": {},
   "outputs": [
    {
     "name": "stdout",
     "output_type": "stream",
     "text": [
      "       00  10  100  14  15  25  33  40  43  50  ...  za  zabaglione  \\\n",
      "8937    0   0    0   0   0   0   0   0   0   0  ...   0           0   \n",
      "29679   0   0    0   0   0   0   0   0   0   0  ...   0           0   \n",
      "15616   0   0    0   0   0   0   0   0   0   0  ...   0           0   \n",
      "3239    0   0    0   0   0   0   0   0   0   0  ...   0           0   \n",
      "17395   0   0    0   0   0   0   0   0   0   0  ...   0           0   \n",
      "\n",
      "       zatarains  zatarainâ  zero  zest  zesty  zinfandel  ziti  zucchini  \n",
      "8937           0          0     0     0      0          0     0         0  \n",
      "29679          0          0     0     0      0          0     0         0  \n",
      "15616          0          0     0     0      0          0     0         0  \n",
      "3239           0          0     0     0      0          0     0         0  \n",
      "17395          0          0     0     0      0          0     0         0  \n",
      "\n",
      "[5 rows x 3166 columns]\n",
      "           cuisine\n",
      "8937   southern_us\n",
      "29679      russian\n",
      "15616      spanish\n",
      "3239        french\n",
      "17395  southern_us\n",
      "    00  10  100  14  15  25  33  40  43  50  ...  za  zabaglione  zatarains  \\\n",
      "2    0   0    0   0   0   0   0   0   0   0  ...   0           0          0   \n",
      "3    0   0    0   0   0   0   0   0   0   0  ...   0           0          0   \n",
      "4    0   0    0   0   0   0   0   0   0   0  ...   0           0          0   \n",
      "5    0   0    0   0   0   0   0   0   0   0  ...   0           0          0   \n",
      "11   0   0    0   0   0   0   0   0   0   0  ...   0           0          0   \n",
      "\n",
      "    zatarainâ  zero  zest  zesty  zinfandel  ziti  zucchini  \n",
      "2           0     0     0      0          0     0         0  \n",
      "3           0     0     0      0          0     0         0  \n",
      "4           0     0     0      0          0     0         0  \n",
      "5           0     0     0      0          0     0         0  \n",
      "11          0     0     0      0          0     0         0  \n",
      "\n",
      "[5 rows x 3166 columns]\n",
      "     cuisine\n",
      "2   filipino\n",
      "3     indian\n",
      "4     indian\n",
      "5   jamaican\n",
      "11   chinese\n",
      "   00  10  100  14  15  25  33  40  43  50  ...  za  zabaglione  zatarains  \\\n",
      "0   0   0    0   0   0   0   0   0   0   0  ...   0           0          0   \n",
      "1   0   0    0   0   0   0   0   0   0   0  ...   0           0          0   \n",
      "2   0   0    0   0   0   0   0   0   0   0  ...   0           0          0   \n",
      "3   0   0    0   0   0   0   0   0   0   0  ...   0           0          0   \n",
      "4   0   0    0   0   0   0   0   0   0   0  ...   0           0          0   \n",
      "\n",
      "   zatarainâ  zero  zest  zesty  zinfandel  ziti  zucchini  \n",
      "0          0     0     0      0          0     0         0  \n",
      "1          0     0     0      0          0     0         0  \n",
      "2          0     0     0      0          0     0         0  \n",
      "3          0     0     0      0          0     0         0  \n",
      "4          0     0     0      0          0     0         0  \n",
      "\n",
      "[5 rows x 3166 columns]\n"
     ]
    }
   ],
   "source": [
    "print(X_train.head())\n",
    "print(y_train.head())\n",
    "print(X_val.head())\n",
    "print(y_val.head())\n",
    "print(test_data1.head())"
   ]
  },
  {
   "cell_type": "code",
   "execution_count": 62,
   "metadata": {
    "scrolled": true
   },
   "outputs": [],
   "source": [
    "#### TYPE\n",
    "clf_logreg=LogisticRegression()"
   ]
  },
  {
   "cell_type": "code",
   "execution_count": 63,
   "metadata": {},
   "outputs": [
    {
     "data": {
      "text/plain": [
       "LogisticRegression(C=1.0, class_weight=None, dual=False, fit_intercept=True,\n",
       "                   intercept_scaling=1, l1_ratio=None, max_iter=100,\n",
       "                   multi_class='auto', n_jobs=None, penalty='l2',\n",
       "                   random_state=None, solver='lbfgs', tol=0.0001, verbose=0,\n",
       "                   warm_start=False)"
      ]
     },
     "execution_count": 63,
     "metadata": {},
     "output_type": "execute_result"
    }
   ],
   "source": [
    "#### TYPE\n",
    "clf_logreg.fit(X_train,y_train)"
   ]
  },
  {
   "cell_type": "code",
   "execution_count": 64,
   "metadata": {},
   "outputs": [],
   "source": [
    "train_pred=clf_logreg.predict(X_train)\n",
    "val_pred=clf_logreg.predict(X_val)"
   ]
  },
  {
   "cell_type": "code",
   "execution_count": 65,
   "metadata": {},
   "outputs": [],
   "source": [
    "test_pred=clf_logreg.predict(test_data1)"
   ]
  },
  {
   "cell_type": "code",
   "execution_count": 66,
   "metadata": {},
   "outputs": [
    {
     "data": {
      "text/html": [
       "<div>\n",
       "<style scoped>\n",
       "    .dataframe tbody tr th:only-of-type {\n",
       "        vertical-align: middle;\n",
       "    }\n",
       "\n",
       "    .dataframe tbody tr th {\n",
       "        vertical-align: top;\n",
       "    }\n",
       "\n",
       "    .dataframe thead th {\n",
       "        text-align: right;\n",
       "    }\n",
       "</style>\n",
       "<table border=\"1\" class=\"dataframe\">\n",
       "  <thead>\n",
       "    <tr style=\"text-align: right;\">\n",
       "      <th></th>\n",
       "      <th>00</th>\n",
       "      <th>10</th>\n",
       "      <th>100</th>\n",
       "      <th>14</th>\n",
       "      <th>15</th>\n",
       "      <th>25</th>\n",
       "      <th>33</th>\n",
       "      <th>40</th>\n",
       "      <th>43</th>\n",
       "      <th>50</th>\n",
       "      <th>...</th>\n",
       "      <th>za</th>\n",
       "      <th>zabaglione</th>\n",
       "      <th>zatarains</th>\n",
       "      <th>zatarainâ</th>\n",
       "      <th>zero</th>\n",
       "      <th>zest</th>\n",
       "      <th>zesty</th>\n",
       "      <th>zinfandel</th>\n",
       "      <th>ziti</th>\n",
       "      <th>zucchini</th>\n",
       "    </tr>\n",
       "  </thead>\n",
       "  <tbody>\n",
       "    <tr>\n",
       "      <th>0</th>\n",
       "      <td>0</td>\n",
       "      <td>0</td>\n",
       "      <td>0</td>\n",
       "      <td>0</td>\n",
       "      <td>0</td>\n",
       "      <td>0</td>\n",
       "      <td>0</td>\n",
       "      <td>0</td>\n",
       "      <td>0</td>\n",
       "      <td>0</td>\n",
       "      <td>...</td>\n",
       "      <td>0</td>\n",
       "      <td>0</td>\n",
       "      <td>0</td>\n",
       "      <td>0</td>\n",
       "      <td>0</td>\n",
       "      <td>0</td>\n",
       "      <td>0</td>\n",
       "      <td>0</td>\n",
       "      <td>0</td>\n",
       "      <td>0</td>\n",
       "    </tr>\n",
       "    <tr>\n",
       "      <th>1</th>\n",
       "      <td>0</td>\n",
       "      <td>0</td>\n",
       "      <td>0</td>\n",
       "      <td>0</td>\n",
       "      <td>0</td>\n",
       "      <td>0</td>\n",
       "      <td>0</td>\n",
       "      <td>0</td>\n",
       "      <td>0</td>\n",
       "      <td>0</td>\n",
       "      <td>...</td>\n",
       "      <td>0</td>\n",
       "      <td>0</td>\n",
       "      <td>0</td>\n",
       "      <td>0</td>\n",
       "      <td>0</td>\n",
       "      <td>0</td>\n",
       "      <td>0</td>\n",
       "      <td>0</td>\n",
       "      <td>0</td>\n",
       "      <td>0</td>\n",
       "    </tr>\n",
       "    <tr>\n",
       "      <th>2</th>\n",
       "      <td>0</td>\n",
       "      <td>0</td>\n",
       "      <td>0</td>\n",
       "      <td>0</td>\n",
       "      <td>0</td>\n",
       "      <td>0</td>\n",
       "      <td>0</td>\n",
       "      <td>0</td>\n",
       "      <td>0</td>\n",
       "      <td>0</td>\n",
       "      <td>...</td>\n",
       "      <td>0</td>\n",
       "      <td>0</td>\n",
       "      <td>0</td>\n",
       "      <td>0</td>\n",
       "      <td>0</td>\n",
       "      <td>0</td>\n",
       "      <td>0</td>\n",
       "      <td>0</td>\n",
       "      <td>0</td>\n",
       "      <td>0</td>\n",
       "    </tr>\n",
       "    <tr>\n",
       "      <th>3</th>\n",
       "      <td>0</td>\n",
       "      <td>0</td>\n",
       "      <td>0</td>\n",
       "      <td>0</td>\n",
       "      <td>0</td>\n",
       "      <td>0</td>\n",
       "      <td>0</td>\n",
       "      <td>0</td>\n",
       "      <td>0</td>\n",
       "      <td>0</td>\n",
       "      <td>...</td>\n",
       "      <td>0</td>\n",
       "      <td>0</td>\n",
       "      <td>0</td>\n",
       "      <td>0</td>\n",
       "      <td>0</td>\n",
       "      <td>0</td>\n",
       "      <td>0</td>\n",
       "      <td>0</td>\n",
       "      <td>0</td>\n",
       "      <td>0</td>\n",
       "    </tr>\n",
       "    <tr>\n",
       "      <th>4</th>\n",
       "      <td>0</td>\n",
       "      <td>0</td>\n",
       "      <td>0</td>\n",
       "      <td>0</td>\n",
       "      <td>0</td>\n",
       "      <td>0</td>\n",
       "      <td>0</td>\n",
       "      <td>0</td>\n",
       "      <td>0</td>\n",
       "      <td>0</td>\n",
       "      <td>...</td>\n",
       "      <td>0</td>\n",
       "      <td>0</td>\n",
       "      <td>0</td>\n",
       "      <td>0</td>\n",
       "      <td>0</td>\n",
       "      <td>0</td>\n",
       "      <td>0</td>\n",
       "      <td>0</td>\n",
       "      <td>0</td>\n",
       "      <td>0</td>\n",
       "    </tr>\n",
       "  </tbody>\n",
       "</table>\n",
       "<p>5 rows × 3166 columns</p>\n",
       "</div>"
      ],
      "text/plain": [
       "   00  10  100  14  15  25  33  40  43  50  ...  za  zabaglione  zatarains  \\\n",
       "0   0   0    0   0   0   0   0   0   0   0  ...   0           0          0   \n",
       "1   0   0    0   0   0   0   0   0   0   0  ...   0           0          0   \n",
       "2   0   0    0   0   0   0   0   0   0   0  ...   0           0          0   \n",
       "3   0   0    0   0   0   0   0   0   0   0  ...   0           0          0   \n",
       "4   0   0    0   0   0   0   0   0   0   0  ...   0           0          0   \n",
       "\n",
       "   zatarainâ  zero  zest  zesty  zinfandel  ziti  zucchini  \n",
       "0          0     0     0      0          0     0         0  \n",
       "1          0     0     0      0          0     0         0  \n",
       "2          0     0     0      0          0     0         0  \n",
       "3          0     0     0      0          0     0         0  \n",
       "4          0     0     0      0          0     0         0  \n",
       "\n",
       "[5 rows x 3166 columns]"
      ]
     },
     "execution_count": 66,
     "metadata": {},
     "output_type": "execute_result"
    }
   ],
   "source": [
    "test_data1.head()"
   ]
  },
  {
   "cell_type": "code",
   "execution_count": 67,
   "metadata": {},
   "outputs": [
    {
     "data": {
      "text/plain": [
       "(9944,)"
      ]
     },
     "execution_count": 67,
     "metadata": {},
     "output_type": "execute_result"
    }
   ],
   "source": [
    "test_pred.shape"
   ]
  },
  {
   "cell_type": "code",
   "execution_count": 68,
   "metadata": {},
   "outputs": [
    {
     "name": "stdout",
     "output_type": "stream",
     "text": [
      "['southern_us' 'moroccan' 'mexican' ... 'vietnamese' 'irish' 'southern_us']\n",
      "['filipino' 'indian' 'indian' ... 'italian' 'chinese' 'mexican']\n"
     ]
    }
   ],
   "source": [
    "print(train_pred)\n",
    "print(val_pred)\n"
   ]
  },
  {
   "cell_type": "code",
   "execution_count": 69,
   "metadata": {},
   "outputs": [],
   "source": [
    "from sklearn.metrics import classification_report"
   ]
  },
  {
   "cell_type": "code",
   "execution_count": 70,
   "metadata": {},
   "outputs": [
    {
     "name": "stdout",
     "output_type": "stream",
     "text": [
      "              precision    recall  f1-score   support\n",
      "\n",
      "   brazilian       0.89      0.75      0.81       326\n",
      "     british       0.78      0.67      0.72       565\n",
      "cajun_creole       0.87      0.81      0.84      1067\n",
      "     chinese       0.88      0.91      0.89      1915\n",
      "    filipino       0.87      0.78      0.82       520\n",
      "      french       0.73      0.75      0.74      1843\n",
      "       greek       0.90      0.81      0.85       813\n",
      "      indian       0.91      0.94      0.92      2126\n",
      "       irish       0.83      0.69      0.75       458\n",
      "     italian       0.86      0.93      0.90      5472\n",
      "    jamaican       0.93      0.83      0.88       358\n",
      "    japanese       0.90      0.81      0.85      1015\n",
      "      korean       0.91      0.89      0.90       559\n",
      "     mexican       0.94      0.95      0.94      4504\n",
      "    moroccan       0.91      0.88      0.89       563\n",
      "     russian       0.85      0.68      0.76       336\n",
      " southern_us       0.82      0.87      0.84      3048\n",
      "     spanish       0.82      0.65      0.73       687\n",
      "        thai       0.88      0.86      0.87      1094\n",
      "  vietnamese       0.86      0.74      0.80       573\n",
      "\n",
      "    accuracy                           0.87     27842\n",
      "   macro avg       0.87      0.81      0.84     27842\n",
      "weighted avg       0.87      0.87      0.87     27842\n",
      "\n",
      "              precision    recall  f1-score   support\n",
      "\n",
      "   brazilian       0.66      0.56      0.61       141\n",
      "     british       0.56      0.42      0.48       239\n",
      "cajun_creole       0.78      0.65      0.71       479\n",
      "     chinese       0.79      0.84      0.81       758\n",
      "    filipino       0.69      0.60      0.64       235\n",
      "      french       0.60      0.62      0.61       803\n",
      "       greek       0.78      0.70      0.74       362\n",
      "      indian       0.85      0.90      0.87       877\n",
      "       irish       0.62      0.47      0.54       209\n",
      "     italian       0.80      0.88      0.84      2366\n",
      "    jamaican       0.83      0.70      0.76       168\n",
      "    japanese       0.76      0.67      0.71       408\n",
      "      korean       0.85      0.77      0.81       271\n",
      "     mexican       0.90      0.92      0.91      1934\n",
      "    moroccan       0.84      0.75      0.79       258\n",
      "     russian       0.53      0.35      0.42       153\n",
      " southern_us       0.69      0.78      0.73      1272\n",
      "     spanish       0.60      0.46      0.52       302\n",
      "        thai       0.77      0.74      0.76       445\n",
      "  vietnamese       0.65      0.54      0.59       252\n",
      "\n",
      "    accuracy                           0.77     11932\n",
      "   macro avg       0.73      0.67      0.69     11932\n",
      "weighted avg       0.77      0.77      0.77     11932\n",
      "\n"
     ]
    }
   ],
   "source": [
    "print(classification_report(y_train,train_pred))\n",
    "print(classification_report(y_val,val_pred))"
   ]
  },
  {
   "cell_type": "code",
   "execution_count": 152,
   "metadata": {},
   "outputs": [],
   "source": [
    "# save the model to disk\n",
    "import pickle\n",
    "filename = 'logistic_tf.pkl'\n",
    "pickle.dump(clf_logreg, open(filename, 'wb'))"
   ]
  },
  {
   "cell_type": "markdown",
   "metadata": {},
   "source": [
    "# TFIDF"
   ]
  },
  {
   "cell_type": "code",
   "execution_count": 71,
   "metadata": {},
   "outputs": [],
   "source": [
    "# sklearn.feature_extraction.text.CountVectorizer - Convert a collection of text documents to a matrix of token counts\n",
    "tfidf_vectorizer_train = TfidfVectorizer(ngram_range=(1,1))\n",
    "train_tfidf= tfidf_vectorizer_train.fit_transform(test_data_df_full.ingredients)         # tfs are calculated by CountVectorizer's fit_transform()"
   ]
  },
  {
   "cell_type": "code",
   "execution_count": 72,
   "metadata": {},
   "outputs": [
    {
     "data": {
      "text/plain": [
       "(49718, 3167)"
      ]
     },
     "execution_count": 72,
     "metadata": {},
     "output_type": "execute_result"
    }
   ],
   "source": [
    "train_tfidf.shape"
   ]
  },
  {
   "cell_type": "code",
   "execution_count": 73,
   "metadata": {
    "scrolled": false
   },
   "outputs": [],
   "source": [
    "train_tfidf1=pd.DataFrame(train_tfidf.toarray(), columns= tfidf_vectorizer_train.get_feature_names()) # Array mapping from feature integer indices to feature name"
   ]
  },
  {
   "cell_type": "code",
   "execution_count": 74,
   "metadata": {},
   "outputs": [
    {
     "data": {
      "text/html": [
       "<div>\n",
       "<style scoped>\n",
       "    .dataframe tbody tr th:only-of-type {\n",
       "        vertical-align: middle;\n",
       "    }\n",
       "\n",
       "    .dataframe tbody tr th {\n",
       "        vertical-align: top;\n",
       "    }\n",
       "\n",
       "    .dataframe thead th {\n",
       "        text-align: right;\n",
       "    }\n",
       "</style>\n",
       "<table border=\"1\" class=\"dataframe\">\n",
       "  <thead>\n",
       "    <tr style=\"text-align: right;\">\n",
       "      <th></th>\n",
       "      <th>00</th>\n",
       "      <th>10</th>\n",
       "      <th>100</th>\n",
       "      <th>14</th>\n",
       "      <th>15</th>\n",
       "      <th>25</th>\n",
       "      <th>33</th>\n",
       "      <th>40</th>\n",
       "      <th>43</th>\n",
       "      <th>50</th>\n",
       "      <th>...</th>\n",
       "      <th>za</th>\n",
       "      <th>zabaglione</th>\n",
       "      <th>zatarains</th>\n",
       "      <th>zatarainâ</th>\n",
       "      <th>zero</th>\n",
       "      <th>zest</th>\n",
       "      <th>zesty</th>\n",
       "      <th>zinfandel</th>\n",
       "      <th>ziti</th>\n",
       "      <th>zucchini</th>\n",
       "    </tr>\n",
       "  </thead>\n",
       "  <tbody>\n",
       "    <tr>\n",
       "      <th>0</th>\n",
       "      <td>0.0</td>\n",
       "      <td>0.0</td>\n",
       "      <td>0.0</td>\n",
       "      <td>0.0</td>\n",
       "      <td>0.0</td>\n",
       "      <td>0.0</td>\n",
       "      <td>0.0</td>\n",
       "      <td>0.0</td>\n",
       "      <td>0.0</td>\n",
       "      <td>0.0</td>\n",
       "      <td>...</td>\n",
       "      <td>0.0</td>\n",
       "      <td>0.0</td>\n",
       "      <td>0.0</td>\n",
       "      <td>0.0</td>\n",
       "      <td>0.0</td>\n",
       "      <td>0.0</td>\n",
       "      <td>0.0</td>\n",
       "      <td>0.0</td>\n",
       "      <td>0.0</td>\n",
       "      <td>0.0</td>\n",
       "    </tr>\n",
       "    <tr>\n",
       "      <th>1</th>\n",
       "      <td>0.0</td>\n",
       "      <td>0.0</td>\n",
       "      <td>0.0</td>\n",
       "      <td>0.0</td>\n",
       "      <td>0.0</td>\n",
       "      <td>0.0</td>\n",
       "      <td>0.0</td>\n",
       "      <td>0.0</td>\n",
       "      <td>0.0</td>\n",
       "      <td>0.0</td>\n",
       "      <td>...</td>\n",
       "      <td>0.0</td>\n",
       "      <td>0.0</td>\n",
       "      <td>0.0</td>\n",
       "      <td>0.0</td>\n",
       "      <td>0.0</td>\n",
       "      <td>0.0</td>\n",
       "      <td>0.0</td>\n",
       "      <td>0.0</td>\n",
       "      <td>0.0</td>\n",
       "      <td>0.0</td>\n",
       "    </tr>\n",
       "    <tr>\n",
       "      <th>2</th>\n",
       "      <td>0.0</td>\n",
       "      <td>0.0</td>\n",
       "      <td>0.0</td>\n",
       "      <td>0.0</td>\n",
       "      <td>0.0</td>\n",
       "      <td>0.0</td>\n",
       "      <td>0.0</td>\n",
       "      <td>0.0</td>\n",
       "      <td>0.0</td>\n",
       "      <td>0.0</td>\n",
       "      <td>...</td>\n",
       "      <td>0.0</td>\n",
       "      <td>0.0</td>\n",
       "      <td>0.0</td>\n",
       "      <td>0.0</td>\n",
       "      <td>0.0</td>\n",
       "      <td>0.0</td>\n",
       "      <td>0.0</td>\n",
       "      <td>0.0</td>\n",
       "      <td>0.0</td>\n",
       "      <td>0.0</td>\n",
       "    </tr>\n",
       "    <tr>\n",
       "      <th>3</th>\n",
       "      <td>0.0</td>\n",
       "      <td>0.0</td>\n",
       "      <td>0.0</td>\n",
       "      <td>0.0</td>\n",
       "      <td>0.0</td>\n",
       "      <td>0.0</td>\n",
       "      <td>0.0</td>\n",
       "      <td>0.0</td>\n",
       "      <td>0.0</td>\n",
       "      <td>0.0</td>\n",
       "      <td>...</td>\n",
       "      <td>0.0</td>\n",
       "      <td>0.0</td>\n",
       "      <td>0.0</td>\n",
       "      <td>0.0</td>\n",
       "      <td>0.0</td>\n",
       "      <td>0.0</td>\n",
       "      <td>0.0</td>\n",
       "      <td>0.0</td>\n",
       "      <td>0.0</td>\n",
       "      <td>0.0</td>\n",
       "    </tr>\n",
       "    <tr>\n",
       "      <th>4</th>\n",
       "      <td>0.0</td>\n",
       "      <td>0.0</td>\n",
       "      <td>0.0</td>\n",
       "      <td>0.0</td>\n",
       "      <td>0.0</td>\n",
       "      <td>0.0</td>\n",
       "      <td>0.0</td>\n",
       "      <td>0.0</td>\n",
       "      <td>0.0</td>\n",
       "      <td>0.0</td>\n",
       "      <td>...</td>\n",
       "      <td>0.0</td>\n",
       "      <td>0.0</td>\n",
       "      <td>0.0</td>\n",
       "      <td>0.0</td>\n",
       "      <td>0.0</td>\n",
       "      <td>0.0</td>\n",
       "      <td>0.0</td>\n",
       "      <td>0.0</td>\n",
       "      <td>0.0</td>\n",
       "      <td>0.0</td>\n",
       "    </tr>\n",
       "  </tbody>\n",
       "</table>\n",
       "<p>5 rows × 3167 columns</p>\n",
       "</div>"
      ],
      "text/plain": [
       "    00   10  100   14   15   25   33   40   43   50  ...   za  zabaglione  \\\n",
       "0  0.0  0.0  0.0  0.0  0.0  0.0  0.0  0.0  0.0  0.0  ...  0.0         0.0   \n",
       "1  0.0  0.0  0.0  0.0  0.0  0.0  0.0  0.0  0.0  0.0  ...  0.0         0.0   \n",
       "2  0.0  0.0  0.0  0.0  0.0  0.0  0.0  0.0  0.0  0.0  ...  0.0         0.0   \n",
       "3  0.0  0.0  0.0  0.0  0.0  0.0  0.0  0.0  0.0  0.0  ...  0.0         0.0   \n",
       "4  0.0  0.0  0.0  0.0  0.0  0.0  0.0  0.0  0.0  0.0  ...  0.0         0.0   \n",
       "\n",
       "   zatarains  zatarainâ  zero  zest  zesty  zinfandel  ziti  zucchini  \n",
       "0        0.0        0.0   0.0   0.0    0.0        0.0   0.0       0.0  \n",
       "1        0.0        0.0   0.0   0.0    0.0        0.0   0.0       0.0  \n",
       "2        0.0        0.0   0.0   0.0    0.0        0.0   0.0       0.0  \n",
       "3        0.0        0.0   0.0   0.0    0.0        0.0   0.0       0.0  \n",
       "4        0.0        0.0   0.0   0.0    0.0        0.0   0.0       0.0  \n",
       "\n",
       "[5 rows x 3167 columns]"
      ]
     },
     "execution_count": 74,
     "metadata": {},
     "output_type": "execute_result"
    }
   ],
   "source": [
    "train_tfidf1.head()"
   ]
  },
  {
   "cell_type": "code",
   "execution_count": 75,
   "metadata": {},
   "outputs": [],
   "source": [
    "train_tfidf2=train_tfidf1.drop(train_tfidf1.index[0:9944])"
   ]
  },
  {
   "cell_type": "code",
   "execution_count": 76,
   "metadata": {},
   "outputs": [
    {
     "data": {
      "text/plain": [
       "(39774, 3167)"
      ]
     },
     "execution_count": 76,
     "metadata": {},
     "output_type": "execute_result"
    }
   ],
   "source": [
    "train_tfidf2.shape"
   ]
  },
  {
   "cell_type": "code",
   "execution_count": 77,
   "metadata": {},
   "outputs": [],
   "source": [
    "train_tfidf2.reset_index(inplace = True) "
   ]
  },
  {
   "cell_type": "code",
   "execution_count": 78,
   "metadata": {},
   "outputs": [],
   "source": [
    "train_tfidf2.drop(\"index\",axis=1,inplace=True)"
   ]
  },
  {
   "cell_type": "code",
   "execution_count": 79,
   "metadata": {},
   "outputs": [],
   "source": [
    "train_tfidf3 = pd.concat([train_data, train_tfidf2], axis=1)"
   ]
  },
  {
   "cell_type": "code",
   "execution_count": 80,
   "metadata": {},
   "outputs": [
    {
     "data": {
      "text/plain": [
       "(39774, 3170)"
      ]
     },
     "execution_count": 80,
     "metadata": {},
     "output_type": "execute_result"
    }
   ],
   "source": [
    "train_tfidf3.shape"
   ]
  },
  {
   "cell_type": "code",
   "execution_count": 81,
   "metadata": {},
   "outputs": [
    {
     "data": {
      "text/html": [
       "<div>\n",
       "<style scoped>\n",
       "    .dataframe tbody tr th:only-of-type {\n",
       "        vertical-align: middle;\n",
       "    }\n",
       "\n",
       "    .dataframe tbody tr th {\n",
       "        vertical-align: top;\n",
       "    }\n",
       "\n",
       "    .dataframe thead th {\n",
       "        text-align: right;\n",
       "    }\n",
       "</style>\n",
       "<table border=\"1\" class=\"dataframe\">\n",
       "  <thead>\n",
       "    <tr style=\"text-align: right;\">\n",
       "      <th></th>\n",
       "      <th>cuisine</th>\n",
       "      <th>id</th>\n",
       "      <th>ingredients</th>\n",
       "      <th>00</th>\n",
       "      <th>10</th>\n",
       "      <th>100</th>\n",
       "      <th>14</th>\n",
       "      <th>15</th>\n",
       "      <th>25</th>\n",
       "      <th>33</th>\n",
       "      <th>...</th>\n",
       "      <th>za</th>\n",
       "      <th>zabaglione</th>\n",
       "      <th>zatarains</th>\n",
       "      <th>zatarainâ</th>\n",
       "      <th>zero</th>\n",
       "      <th>zest</th>\n",
       "      <th>zesty</th>\n",
       "      <th>zinfandel</th>\n",
       "      <th>ziti</th>\n",
       "      <th>zucchini</th>\n",
       "    </tr>\n",
       "  </thead>\n",
       "  <tbody>\n",
       "    <tr>\n",
       "      <th>0</th>\n",
       "      <td>greek</td>\n",
       "      <td>10259</td>\n",
       "      <td>romaine lettuce black olives grape tomatoes ga...</td>\n",
       "      <td>0.0</td>\n",
       "      <td>0.0</td>\n",
       "      <td>0.0</td>\n",
       "      <td>0.0</td>\n",
       "      <td>0.0</td>\n",
       "      <td>0.0</td>\n",
       "      <td>0.0</td>\n",
       "      <td>...</td>\n",
       "      <td>0.0</td>\n",
       "      <td>0.0</td>\n",
       "      <td>0.0</td>\n",
       "      <td>0.0</td>\n",
       "      <td>0.0</td>\n",
       "      <td>0.0</td>\n",
       "      <td>0.0</td>\n",
       "      <td>0.0</td>\n",
       "      <td>0.0</td>\n",
       "      <td>0.0</td>\n",
       "    </tr>\n",
       "    <tr>\n",
       "      <th>1</th>\n",
       "      <td>southern_us</td>\n",
       "      <td>25693</td>\n",
       "      <td>plain flour ground pepper salt tomatoes ground...</td>\n",
       "      <td>0.0</td>\n",
       "      <td>0.0</td>\n",
       "      <td>0.0</td>\n",
       "      <td>0.0</td>\n",
       "      <td>0.0</td>\n",
       "      <td>0.0</td>\n",
       "      <td>0.0</td>\n",
       "      <td>...</td>\n",
       "      <td>0.0</td>\n",
       "      <td>0.0</td>\n",
       "      <td>0.0</td>\n",
       "      <td>0.0</td>\n",
       "      <td>0.0</td>\n",
       "      <td>0.0</td>\n",
       "      <td>0.0</td>\n",
       "      <td>0.0</td>\n",
       "      <td>0.0</td>\n",
       "      <td>0.0</td>\n",
       "    </tr>\n",
       "    <tr>\n",
       "      <th>2</th>\n",
       "      <td>filipino</td>\n",
       "      <td>20130</td>\n",
       "      <td>eggs pepper salt mayonaise cooking oil green c...</td>\n",
       "      <td>0.0</td>\n",
       "      <td>0.0</td>\n",
       "      <td>0.0</td>\n",
       "      <td>0.0</td>\n",
       "      <td>0.0</td>\n",
       "      <td>0.0</td>\n",
       "      <td>0.0</td>\n",
       "      <td>...</td>\n",
       "      <td>0.0</td>\n",
       "      <td>0.0</td>\n",
       "      <td>0.0</td>\n",
       "      <td>0.0</td>\n",
       "      <td>0.0</td>\n",
       "      <td>0.0</td>\n",
       "      <td>0.0</td>\n",
       "      <td>0.0</td>\n",
       "      <td>0.0</td>\n",
       "      <td>0.0</td>\n",
       "    </tr>\n",
       "    <tr>\n",
       "      <th>3</th>\n",
       "      <td>indian</td>\n",
       "      <td>22213</td>\n",
       "      <td>water vegetable oil wheat salt</td>\n",
       "      <td>0.0</td>\n",
       "      <td>0.0</td>\n",
       "      <td>0.0</td>\n",
       "      <td>0.0</td>\n",
       "      <td>0.0</td>\n",
       "      <td>0.0</td>\n",
       "      <td>0.0</td>\n",
       "      <td>...</td>\n",
       "      <td>0.0</td>\n",
       "      <td>0.0</td>\n",
       "      <td>0.0</td>\n",
       "      <td>0.0</td>\n",
       "      <td>0.0</td>\n",
       "      <td>0.0</td>\n",
       "      <td>0.0</td>\n",
       "      <td>0.0</td>\n",
       "      <td>0.0</td>\n",
       "      <td>0.0</td>\n",
       "    </tr>\n",
       "    <tr>\n",
       "      <th>4</th>\n",
       "      <td>indian</td>\n",
       "      <td>13162</td>\n",
       "      <td>black pepper shallots cornflour cayenne pepper...</td>\n",
       "      <td>0.0</td>\n",
       "      <td>0.0</td>\n",
       "      <td>0.0</td>\n",
       "      <td>0.0</td>\n",
       "      <td>0.0</td>\n",
       "      <td>0.0</td>\n",
       "      <td>0.0</td>\n",
       "      <td>...</td>\n",
       "      <td>0.0</td>\n",
       "      <td>0.0</td>\n",
       "      <td>0.0</td>\n",
       "      <td>0.0</td>\n",
       "      <td>0.0</td>\n",
       "      <td>0.0</td>\n",
       "      <td>0.0</td>\n",
       "      <td>0.0</td>\n",
       "      <td>0.0</td>\n",
       "      <td>0.0</td>\n",
       "    </tr>\n",
       "  </tbody>\n",
       "</table>\n",
       "<p>5 rows × 3170 columns</p>\n",
       "</div>"
      ],
      "text/plain": [
       "       cuisine     id                                        ingredients   00  \\\n",
       "0        greek  10259  romaine lettuce black olives grape tomatoes ga...  0.0   \n",
       "1  southern_us  25693  plain flour ground pepper salt tomatoes ground...  0.0   \n",
       "2     filipino  20130  eggs pepper salt mayonaise cooking oil green c...  0.0   \n",
       "3       indian  22213                     water vegetable oil wheat salt  0.0   \n",
       "4       indian  13162  black pepper shallots cornflour cayenne pepper...  0.0   \n",
       "\n",
       "    10  100   14   15   25   33  ...   za  zabaglione  zatarains  zatarainâ  \\\n",
       "0  0.0  0.0  0.0  0.0  0.0  0.0  ...  0.0         0.0        0.0        0.0   \n",
       "1  0.0  0.0  0.0  0.0  0.0  0.0  ...  0.0         0.0        0.0        0.0   \n",
       "2  0.0  0.0  0.0  0.0  0.0  0.0  ...  0.0         0.0        0.0        0.0   \n",
       "3  0.0  0.0  0.0  0.0  0.0  0.0  ...  0.0         0.0        0.0        0.0   \n",
       "4  0.0  0.0  0.0  0.0  0.0  0.0  ...  0.0         0.0        0.0        0.0   \n",
       "\n",
       "   zero  zest  zesty  zinfandel  ziti  zucchini  \n",
       "0   0.0   0.0    0.0        0.0   0.0       0.0  \n",
       "1   0.0   0.0    0.0        0.0   0.0       0.0  \n",
       "2   0.0   0.0    0.0        0.0   0.0       0.0  \n",
       "3   0.0   0.0    0.0        0.0   0.0       0.0  \n",
       "4   0.0   0.0    0.0        0.0   0.0       0.0  \n",
       "\n",
       "[5 rows x 3170 columns]"
      ]
     },
     "execution_count": 81,
     "metadata": {},
     "output_type": "execute_result"
    }
   ],
   "source": [
    "train_tfidf3.head()"
   ]
  },
  {
   "cell_type": "code",
   "execution_count": 82,
   "metadata": {
    "scrolled": false
   },
   "outputs": [],
   "source": [
    "train_tfidf3.drop(\"id\",axis=1,inplace=True)\n",
    "#test_data.drop(\"id\",axis=1,inplace=True)\n",
    "train_tfidf3.drop(\"ingredients\",axis=1,inplace=True)"
   ]
  },
  {
   "cell_type": "code",
   "execution_count": 83,
   "metadata": {},
   "outputs": [],
   "source": [
    "train_data_new=train_tfidf3.sample(frac=0.7,random_state=200) #random state is a seed value\n",
    "val_data=train_tfidf3.drop(train_data_new.index)"
   ]
  },
  {
   "cell_type": "code",
   "execution_count": 84,
   "metadata": {},
   "outputs": [
    {
     "data": {
      "text/html": [
       "<div>\n",
       "<style scoped>\n",
       "    .dataframe tbody tr th:only-of-type {\n",
       "        vertical-align: middle;\n",
       "    }\n",
       "\n",
       "    .dataframe tbody tr th {\n",
       "        vertical-align: top;\n",
       "    }\n",
       "\n",
       "    .dataframe thead th {\n",
       "        text-align: right;\n",
       "    }\n",
       "</style>\n",
       "<table border=\"1\" class=\"dataframe\">\n",
       "  <thead>\n",
       "    <tr style=\"text-align: right;\">\n",
       "      <th></th>\n",
       "      <th>cuisine</th>\n",
       "      <th>00</th>\n",
       "      <th>10</th>\n",
       "      <th>100</th>\n",
       "      <th>14</th>\n",
       "      <th>15</th>\n",
       "      <th>25</th>\n",
       "      <th>33</th>\n",
       "      <th>40</th>\n",
       "      <th>43</th>\n",
       "      <th>...</th>\n",
       "      <th>za</th>\n",
       "      <th>zabaglione</th>\n",
       "      <th>zatarains</th>\n",
       "      <th>zatarainâ</th>\n",
       "      <th>zero</th>\n",
       "      <th>zest</th>\n",
       "      <th>zesty</th>\n",
       "      <th>zinfandel</th>\n",
       "      <th>ziti</th>\n",
       "      <th>zucchini</th>\n",
       "    </tr>\n",
       "  </thead>\n",
       "  <tbody>\n",
       "    <tr>\n",
       "      <th>8937</th>\n",
       "      <td>southern_us</td>\n",
       "      <td>0.0</td>\n",
       "      <td>0.0</td>\n",
       "      <td>0.0</td>\n",
       "      <td>0.0</td>\n",
       "      <td>0.0</td>\n",
       "      <td>0.0</td>\n",
       "      <td>0.0</td>\n",
       "      <td>0.0</td>\n",
       "      <td>0.0</td>\n",
       "      <td>...</td>\n",
       "      <td>0.0</td>\n",
       "      <td>0.0</td>\n",
       "      <td>0.0</td>\n",
       "      <td>0.0</td>\n",
       "      <td>0.0</td>\n",
       "      <td>0.0</td>\n",
       "      <td>0.0</td>\n",
       "      <td>0.0</td>\n",
       "      <td>0.0</td>\n",
       "      <td>0.0</td>\n",
       "    </tr>\n",
       "    <tr>\n",
       "      <th>29679</th>\n",
       "      <td>russian</td>\n",
       "      <td>0.0</td>\n",
       "      <td>0.0</td>\n",
       "      <td>0.0</td>\n",
       "      <td>0.0</td>\n",
       "      <td>0.0</td>\n",
       "      <td>0.0</td>\n",
       "      <td>0.0</td>\n",
       "      <td>0.0</td>\n",
       "      <td>0.0</td>\n",
       "      <td>...</td>\n",
       "      <td>0.0</td>\n",
       "      <td>0.0</td>\n",
       "      <td>0.0</td>\n",
       "      <td>0.0</td>\n",
       "      <td>0.0</td>\n",
       "      <td>0.0</td>\n",
       "      <td>0.0</td>\n",
       "      <td>0.0</td>\n",
       "      <td>0.0</td>\n",
       "      <td>0.0</td>\n",
       "    </tr>\n",
       "    <tr>\n",
       "      <th>15616</th>\n",
       "      <td>spanish</td>\n",
       "      <td>0.0</td>\n",
       "      <td>0.0</td>\n",
       "      <td>0.0</td>\n",
       "      <td>0.0</td>\n",
       "      <td>0.0</td>\n",
       "      <td>0.0</td>\n",
       "      <td>0.0</td>\n",
       "      <td>0.0</td>\n",
       "      <td>0.0</td>\n",
       "      <td>...</td>\n",
       "      <td>0.0</td>\n",
       "      <td>0.0</td>\n",
       "      <td>0.0</td>\n",
       "      <td>0.0</td>\n",
       "      <td>0.0</td>\n",
       "      <td>0.0</td>\n",
       "      <td>0.0</td>\n",
       "      <td>0.0</td>\n",
       "      <td>0.0</td>\n",
       "      <td>0.0</td>\n",
       "    </tr>\n",
       "    <tr>\n",
       "      <th>3239</th>\n",
       "      <td>french</td>\n",
       "      <td>0.0</td>\n",
       "      <td>0.0</td>\n",
       "      <td>0.0</td>\n",
       "      <td>0.0</td>\n",
       "      <td>0.0</td>\n",
       "      <td>0.0</td>\n",
       "      <td>0.0</td>\n",
       "      <td>0.0</td>\n",
       "      <td>0.0</td>\n",
       "      <td>...</td>\n",
       "      <td>0.0</td>\n",
       "      <td>0.0</td>\n",
       "      <td>0.0</td>\n",
       "      <td>0.0</td>\n",
       "      <td>0.0</td>\n",
       "      <td>0.0</td>\n",
       "      <td>0.0</td>\n",
       "      <td>0.0</td>\n",
       "      <td>0.0</td>\n",
       "      <td>0.0</td>\n",
       "    </tr>\n",
       "    <tr>\n",
       "      <th>17395</th>\n",
       "      <td>southern_us</td>\n",
       "      <td>0.0</td>\n",
       "      <td>0.0</td>\n",
       "      <td>0.0</td>\n",
       "      <td>0.0</td>\n",
       "      <td>0.0</td>\n",
       "      <td>0.0</td>\n",
       "      <td>0.0</td>\n",
       "      <td>0.0</td>\n",
       "      <td>0.0</td>\n",
       "      <td>...</td>\n",
       "      <td>0.0</td>\n",
       "      <td>0.0</td>\n",
       "      <td>0.0</td>\n",
       "      <td>0.0</td>\n",
       "      <td>0.0</td>\n",
       "      <td>0.0</td>\n",
       "      <td>0.0</td>\n",
       "      <td>0.0</td>\n",
       "      <td>0.0</td>\n",
       "      <td>0.0</td>\n",
       "    </tr>\n",
       "  </tbody>\n",
       "</table>\n",
       "<p>5 rows × 3168 columns</p>\n",
       "</div>"
      ],
      "text/plain": [
       "           cuisine   00   10  100   14   15   25   33   40   43  ...   za  \\\n",
       "8937   southern_us  0.0  0.0  0.0  0.0  0.0  0.0  0.0  0.0  0.0  ...  0.0   \n",
       "29679      russian  0.0  0.0  0.0  0.0  0.0  0.0  0.0  0.0  0.0  ...  0.0   \n",
       "15616      spanish  0.0  0.0  0.0  0.0  0.0  0.0  0.0  0.0  0.0  ...  0.0   \n",
       "3239        french  0.0  0.0  0.0  0.0  0.0  0.0  0.0  0.0  0.0  ...  0.0   \n",
       "17395  southern_us  0.0  0.0  0.0  0.0  0.0  0.0  0.0  0.0  0.0  ...  0.0   \n",
       "\n",
       "       zabaglione  zatarains  zatarainâ  zero  zest  zesty  zinfandel  ziti  \\\n",
       "8937          0.0        0.0        0.0   0.0   0.0    0.0        0.0   0.0   \n",
       "29679         0.0        0.0        0.0   0.0   0.0    0.0        0.0   0.0   \n",
       "15616         0.0        0.0        0.0   0.0   0.0    0.0        0.0   0.0   \n",
       "3239          0.0        0.0        0.0   0.0   0.0    0.0        0.0   0.0   \n",
       "17395         0.0        0.0        0.0   0.0   0.0    0.0        0.0   0.0   \n",
       "\n",
       "       zucchini  \n",
       "8937        0.0  \n",
       "29679       0.0  \n",
       "15616       0.0  \n",
       "3239        0.0  \n",
       "17395       0.0  \n",
       "\n",
       "[5 rows x 3168 columns]"
      ]
     },
     "execution_count": 84,
     "metadata": {},
     "output_type": "execute_result"
    }
   ],
   "source": [
    "train_data_new.head()"
   ]
  },
  {
   "cell_type": "code",
   "execution_count": 85,
   "metadata": {},
   "outputs": [],
   "source": [
    "#Performing train val split on the data\n",
    "X_train, y_train = train_data_new.loc[:,train_data_new.columns!='cuisine'], train_data_new.loc[:,'cuisine']\n",
    "\n",
    "X_val, y_val = val_data.loc[:,val_data.columns!='cuisine'], val_data.loc[:,'cuisine']"
   ]
  },
  {
   "cell_type": "code",
   "execution_count": 86,
   "metadata": {},
   "outputs": [],
   "source": [
    "# sklearn.feature_extraction.text.CountVectorizer - Convert a collection of text documents to a matrix of token counts\n",
    "tfidf_vectorizer_test = TfidfVectorizer(ngram_range=(1,1))\n",
    "tfidf_test = tfidf_vectorizer_test.fit_transform(test_data_df_full.ingredients)         # tfs are calculated by CountVectorizer's fit_transform()"
   ]
  },
  {
   "cell_type": "code",
   "execution_count": 87,
   "metadata": {},
   "outputs": [],
   "source": [
    "test_data1=pd.DataFrame(tfidf_test.toarray(), columns= tfidf_vectorizer_test.get_feature_names()) # Array mapping from feature integer indices to feature name"
   ]
  },
  {
   "cell_type": "code",
   "execution_count": 88,
   "metadata": {},
   "outputs": [],
   "source": [
    "test_data1.drop(\"cuisine\",axis=1,inplace=True)"
   ]
  },
  {
   "cell_type": "code",
   "execution_count": 89,
   "metadata": {},
   "outputs": [
    {
     "data": {
      "text/plain": [
       "(49718, 3166)"
      ]
     },
     "execution_count": 89,
     "metadata": {},
     "output_type": "execute_result"
    }
   ],
   "source": [
    "test_data1.shape"
   ]
  },
  {
   "cell_type": "code",
   "execution_count": 90,
   "metadata": {},
   "outputs": [],
   "source": [
    "test_data1=test_data1.drop(train_data1.index[9944:])"
   ]
  },
  {
   "cell_type": "code",
   "execution_count": 91,
   "metadata": {},
   "outputs": [],
   "source": [
    "y_val.columns=['cuisine','b']\n",
    "y_train.columns=['cuisine','b']"
   ]
  },
  {
   "cell_type": "code",
   "execution_count": 92,
   "metadata": {},
   "outputs": [
    {
     "data": {
      "text/html": [
       "<div>\n",
       "<style scoped>\n",
       "    .dataframe tbody tr th:only-of-type {\n",
       "        vertical-align: middle;\n",
       "    }\n",
       "\n",
       "    .dataframe tbody tr th {\n",
       "        vertical-align: top;\n",
       "    }\n",
       "\n",
       "    .dataframe thead th {\n",
       "        text-align: right;\n",
       "    }\n",
       "</style>\n",
       "<table border=\"1\" class=\"dataframe\">\n",
       "  <thead>\n",
       "    <tr style=\"text-align: right;\">\n",
       "      <th></th>\n",
       "      <th>cuisine</th>\n",
       "      <th>b</th>\n",
       "    </tr>\n",
       "  </thead>\n",
       "  <tbody>\n",
       "    <tr>\n",
       "      <th>2</th>\n",
       "      <td>filipino</td>\n",
       "      <td>0.0</td>\n",
       "    </tr>\n",
       "    <tr>\n",
       "      <th>3</th>\n",
       "      <td>indian</td>\n",
       "      <td>0.0</td>\n",
       "    </tr>\n",
       "    <tr>\n",
       "      <th>4</th>\n",
       "      <td>indian</td>\n",
       "      <td>0.0</td>\n",
       "    </tr>\n",
       "    <tr>\n",
       "      <th>5</th>\n",
       "      <td>jamaican</td>\n",
       "      <td>0.0</td>\n",
       "    </tr>\n",
       "    <tr>\n",
       "      <th>11</th>\n",
       "      <td>chinese</td>\n",
       "      <td>0.0</td>\n",
       "    </tr>\n",
       "  </tbody>\n",
       "</table>\n",
       "</div>"
      ],
      "text/plain": [
       "     cuisine    b\n",
       "2   filipino  0.0\n",
       "3     indian  0.0\n",
       "4     indian  0.0\n",
       "5   jamaican  0.0\n",
       "11   chinese  0.0"
      ]
     },
     "execution_count": 92,
     "metadata": {},
     "output_type": "execute_result"
    }
   ],
   "source": [
    "y_val.head()"
   ]
  },
  {
   "cell_type": "code",
   "execution_count": 93,
   "metadata": {
    "scrolled": true
   },
   "outputs": [
    {
     "data": {
      "text/html": [
       "<div>\n",
       "<style scoped>\n",
       "    .dataframe tbody tr th:only-of-type {\n",
       "        vertical-align: middle;\n",
       "    }\n",
       "\n",
       "    .dataframe tbody tr th {\n",
       "        vertical-align: top;\n",
       "    }\n",
       "\n",
       "    .dataframe thead th {\n",
       "        text-align: right;\n",
       "    }\n",
       "</style>\n",
       "<table border=\"1\" class=\"dataframe\">\n",
       "  <thead>\n",
       "    <tr style=\"text-align: right;\">\n",
       "      <th></th>\n",
       "      <th>cuisine</th>\n",
       "      <th>b</th>\n",
       "    </tr>\n",
       "  </thead>\n",
       "  <tbody>\n",
       "    <tr>\n",
       "      <th>8937</th>\n",
       "      <td>southern_us</td>\n",
       "      <td>0.0</td>\n",
       "    </tr>\n",
       "    <tr>\n",
       "      <th>29679</th>\n",
       "      <td>russian</td>\n",
       "      <td>0.0</td>\n",
       "    </tr>\n",
       "    <tr>\n",
       "      <th>15616</th>\n",
       "      <td>spanish</td>\n",
       "      <td>0.0</td>\n",
       "    </tr>\n",
       "    <tr>\n",
       "      <th>3239</th>\n",
       "      <td>french</td>\n",
       "      <td>0.0</td>\n",
       "    </tr>\n",
       "    <tr>\n",
       "      <th>17395</th>\n",
       "      <td>southern_us</td>\n",
       "      <td>0.0</td>\n",
       "    </tr>\n",
       "  </tbody>\n",
       "</table>\n",
       "</div>"
      ],
      "text/plain": [
       "           cuisine    b\n",
       "8937   southern_us  0.0\n",
       "29679      russian  0.0\n",
       "15616      spanish  0.0\n",
       "3239        french  0.0\n",
       "17395  southern_us  0.0"
      ]
     },
     "execution_count": 93,
     "metadata": {},
     "output_type": "execute_result"
    }
   ],
   "source": [
    "y_train.head()"
   ]
  },
  {
   "cell_type": "code",
   "execution_count": 94,
   "metadata": {},
   "outputs": [],
   "source": [
    "y_val.drop(\"b\",axis=1,inplace=True)\n",
    "y_train.drop(\"b\",axis=1,inplace=True)"
   ]
  },
  {
   "cell_type": "code",
   "execution_count": 95,
   "metadata": {},
   "outputs": [
    {
     "name": "stdout",
     "output_type": "stream",
     "text": [
      "(27842, 3166)\n",
      "(27842, 1)\n",
      "(11932, 3166)\n",
      "(11932, 1)\n",
      "(9944,)\n"
     ]
    }
   ],
   "source": [
    "print(X_train.shape)\n",
    "print(y_train.shape)\n",
    "print(X_val.shape)\n",
    "print(y_val.shape)\n",
    "print(test_data_ing.shape)"
   ]
  },
  {
   "cell_type": "code",
   "execution_count": 96,
   "metadata": {},
   "outputs": [
    {
     "name": "stdout",
     "output_type": "stream",
     "text": [
      "        00   10  100   14   15   25   33   40   43   50  ...   za  zabaglione  \\\n",
      "8937   0.0  0.0  0.0  0.0  0.0  0.0  0.0  0.0  0.0  0.0  ...  0.0         0.0   \n",
      "29679  0.0  0.0  0.0  0.0  0.0  0.0  0.0  0.0  0.0  0.0  ...  0.0         0.0   \n",
      "15616  0.0  0.0  0.0  0.0  0.0  0.0  0.0  0.0  0.0  0.0  ...  0.0         0.0   \n",
      "3239   0.0  0.0  0.0  0.0  0.0  0.0  0.0  0.0  0.0  0.0  ...  0.0         0.0   \n",
      "17395  0.0  0.0  0.0  0.0  0.0  0.0  0.0  0.0  0.0  0.0  ...  0.0         0.0   \n",
      "\n",
      "       zatarains  zatarainâ  zero  zest  zesty  zinfandel  ziti  zucchini  \n",
      "8937         0.0        0.0   0.0   0.0    0.0        0.0   0.0       0.0  \n",
      "29679        0.0        0.0   0.0   0.0    0.0        0.0   0.0       0.0  \n",
      "15616        0.0        0.0   0.0   0.0    0.0        0.0   0.0       0.0  \n",
      "3239         0.0        0.0   0.0   0.0    0.0        0.0   0.0       0.0  \n",
      "17395        0.0        0.0   0.0   0.0    0.0        0.0   0.0       0.0  \n",
      "\n",
      "[5 rows x 3166 columns]\n",
      "           cuisine\n",
      "8937   southern_us\n",
      "29679      russian\n",
      "15616      spanish\n",
      "3239        french\n",
      "17395  southern_us\n",
      "     00   10  100   14   15   25   33   40   43   50  ...   za  zabaglione  \\\n",
      "2   0.0  0.0  0.0  0.0  0.0  0.0  0.0  0.0  0.0  0.0  ...  0.0         0.0   \n",
      "3   0.0  0.0  0.0  0.0  0.0  0.0  0.0  0.0  0.0  0.0  ...  0.0         0.0   \n",
      "4   0.0  0.0  0.0  0.0  0.0  0.0  0.0  0.0  0.0  0.0  ...  0.0         0.0   \n",
      "5   0.0  0.0  0.0  0.0  0.0  0.0  0.0  0.0  0.0  0.0  ...  0.0         0.0   \n",
      "11  0.0  0.0  0.0  0.0  0.0  0.0  0.0  0.0  0.0  0.0  ...  0.0         0.0   \n",
      "\n",
      "    zatarains  zatarainâ  zero  zest  zesty  zinfandel  ziti  zucchini  \n",
      "2         0.0        0.0   0.0   0.0    0.0        0.0   0.0       0.0  \n",
      "3         0.0        0.0   0.0   0.0    0.0        0.0   0.0       0.0  \n",
      "4         0.0        0.0   0.0   0.0    0.0        0.0   0.0       0.0  \n",
      "5         0.0        0.0   0.0   0.0    0.0        0.0   0.0       0.0  \n",
      "11        0.0        0.0   0.0   0.0    0.0        0.0   0.0       0.0  \n",
      "\n",
      "[5 rows x 3166 columns]\n",
      "     cuisine\n",
      "2   filipino\n",
      "3     indian\n",
      "4     indian\n",
      "5   jamaican\n",
      "11   chinese\n",
      "0    baking powder eggs all-purpose flour raisins m...\n",
      "1    sugar egg yolks corn starch cream of tartar ba...\n",
      "2    sausage links fennel bulb fronds olive oil cub...\n",
      "3    meat cuts file powder smoked sausage okra shri...\n",
      "4    ground black pepper salt sausage casings leeks...\n",
      "Name: ingredients, dtype: object\n"
     ]
    }
   ],
   "source": [
    "print(X_train.head())\n",
    "print(y_train.head())\n",
    "print(X_val.head())\n",
    "print(y_val.head())\n",
    "print(test_data_ing.head())"
   ]
  },
  {
   "cell_type": "code",
   "execution_count": 97,
   "metadata": {},
   "outputs": [
    {
     "name": "stdout",
     "output_type": "stream",
     "text": [
      "        00   10  100   14   15   25   33   40   43   50  ...   za  zabaglione  \\\n",
      "8937   0.0  0.0  0.0  0.0  0.0  0.0  0.0  0.0  0.0  0.0  ...  0.0         0.0   \n",
      "29679  0.0  0.0  0.0  0.0  0.0  0.0  0.0  0.0  0.0  0.0  ...  0.0         0.0   \n",
      "15616  0.0  0.0  0.0  0.0  0.0  0.0  0.0  0.0  0.0  0.0  ...  0.0         0.0   \n",
      "3239   0.0  0.0  0.0  0.0  0.0  0.0  0.0  0.0  0.0  0.0  ...  0.0         0.0   \n",
      "17395  0.0  0.0  0.0  0.0  0.0  0.0  0.0  0.0  0.0  0.0  ...  0.0         0.0   \n",
      "\n",
      "       zatarains  zatarainâ  zero  zest  zesty  zinfandel  ziti  zucchini  \n",
      "8937         0.0        0.0   0.0   0.0    0.0        0.0   0.0       0.0  \n",
      "29679        0.0        0.0   0.0   0.0    0.0        0.0   0.0       0.0  \n",
      "15616        0.0        0.0   0.0   0.0    0.0        0.0   0.0       0.0  \n",
      "3239         0.0        0.0   0.0   0.0    0.0        0.0   0.0       0.0  \n",
      "17395        0.0        0.0   0.0   0.0    0.0        0.0   0.0       0.0  \n",
      "\n",
      "[5 rows x 3166 columns]\n",
      "           cuisine\n",
      "8937   southern_us\n",
      "29679      russian\n",
      "15616      spanish\n",
      "3239        french\n",
      "17395  southern_us\n",
      "     00   10  100   14   15   25   33   40   43   50  ...   za  zabaglione  \\\n",
      "2   0.0  0.0  0.0  0.0  0.0  0.0  0.0  0.0  0.0  0.0  ...  0.0         0.0   \n",
      "3   0.0  0.0  0.0  0.0  0.0  0.0  0.0  0.0  0.0  0.0  ...  0.0         0.0   \n",
      "4   0.0  0.0  0.0  0.0  0.0  0.0  0.0  0.0  0.0  0.0  ...  0.0         0.0   \n",
      "5   0.0  0.0  0.0  0.0  0.0  0.0  0.0  0.0  0.0  0.0  ...  0.0         0.0   \n",
      "11  0.0  0.0  0.0  0.0  0.0  0.0  0.0  0.0  0.0  0.0  ...  0.0         0.0   \n",
      "\n",
      "    zatarains  zatarainâ  zero  zest  zesty  zinfandel  ziti  zucchini  \n",
      "2         0.0        0.0   0.0   0.0    0.0        0.0   0.0       0.0  \n",
      "3         0.0        0.0   0.0   0.0    0.0        0.0   0.0       0.0  \n",
      "4         0.0        0.0   0.0   0.0    0.0        0.0   0.0       0.0  \n",
      "5         0.0        0.0   0.0   0.0    0.0        0.0   0.0       0.0  \n",
      "11        0.0        0.0   0.0   0.0    0.0        0.0   0.0       0.0  \n",
      "\n",
      "[5 rows x 3166 columns]\n",
      "     cuisine\n",
      "2   filipino\n",
      "3     indian\n",
      "4     indian\n",
      "5   jamaican\n",
      "11   chinese\n",
      "    00   10  100   14   15   25   33   40   43   50  ...   za  zabaglione  \\\n",
      "0  0.0  0.0  0.0  0.0  0.0  0.0  0.0  0.0  0.0  0.0  ...  0.0         0.0   \n",
      "1  0.0  0.0  0.0  0.0  0.0  0.0  0.0  0.0  0.0  0.0  ...  0.0         0.0   \n",
      "2  0.0  0.0  0.0  0.0  0.0  0.0  0.0  0.0  0.0  0.0  ...  0.0         0.0   \n",
      "3  0.0  0.0  0.0  0.0  0.0  0.0  0.0  0.0  0.0  0.0  ...  0.0         0.0   \n",
      "4  0.0  0.0  0.0  0.0  0.0  0.0  0.0  0.0  0.0  0.0  ...  0.0         0.0   \n",
      "\n",
      "   zatarains  zatarainâ  zero  zest  zesty  zinfandel  ziti  zucchini  \n",
      "0        0.0        0.0   0.0   0.0    0.0        0.0   0.0       0.0  \n",
      "1        0.0        0.0   0.0   0.0    0.0        0.0   0.0       0.0  \n",
      "2        0.0        0.0   0.0   0.0    0.0        0.0   0.0       0.0  \n",
      "3        0.0        0.0   0.0   0.0    0.0        0.0   0.0       0.0  \n",
      "4        0.0        0.0   0.0   0.0    0.0        0.0   0.0       0.0  \n",
      "\n",
      "[5 rows x 3166 columns]\n"
     ]
    }
   ],
   "source": [
    "print(X_train.head())\n",
    "print(y_train.head())\n",
    "print(X_val.head())\n",
    "print(y_val.head())\n",
    "print(test_data1.head())"
   ]
  },
  {
   "cell_type": "code",
   "execution_count": 98,
   "metadata": {
    "scrolled": true
   },
   "outputs": [],
   "source": [
    "#### TYPE\n",
    "clf_logreg=LogisticRegression()"
   ]
  },
  {
   "cell_type": "code",
   "execution_count": 99,
   "metadata": {},
   "outputs": [
    {
     "data": {
      "text/plain": [
       "LogisticRegression(C=1.0, class_weight=None, dual=False, fit_intercept=True,\n",
       "                   intercept_scaling=1, l1_ratio=None, max_iter=100,\n",
       "                   multi_class='auto', n_jobs=None, penalty='l2',\n",
       "                   random_state=None, solver='lbfgs', tol=0.0001, verbose=0,\n",
       "                   warm_start=False)"
      ]
     },
     "execution_count": 99,
     "metadata": {},
     "output_type": "execute_result"
    }
   ],
   "source": [
    "#### TYPE\n",
    "clf_logreg.fit(X_train,y_train)"
   ]
  },
  {
   "cell_type": "code",
   "execution_count": 100,
   "metadata": {},
   "outputs": [],
   "source": [
    "train_pred=clf_logreg.predict(X_train)\n",
    "val_pred=clf_logreg.predict(X_val)"
   ]
  },
  {
   "cell_type": "code",
   "execution_count": 101,
   "metadata": {},
   "outputs": [],
   "source": [
    "test_pred=clf_logreg.predict(test_data1)"
   ]
  },
  {
   "cell_type": "code",
   "execution_count": 102,
   "metadata": {},
   "outputs": [
    {
     "data": {
      "text/plain": [
       "(9944,)"
      ]
     },
     "execution_count": 102,
     "metadata": {},
     "output_type": "execute_result"
    }
   ],
   "source": [
    "test_pred.shape"
   ]
  },
  {
   "cell_type": "code",
   "execution_count": 103,
   "metadata": {},
   "outputs": [
    {
     "name": "stdout",
     "output_type": "stream",
     "text": [
      "['southern_us' 'moroccan' 'mexican' ... 'vietnamese' 'irish' 'mexican']\n",
      "['filipino' 'indian' 'indian' ... 'italian' 'chinese' 'mexican']\n"
     ]
    }
   ],
   "source": [
    "print(train_pred)\n",
    "print(val_pred)\n"
   ]
  },
  {
   "cell_type": "code",
   "execution_count": 104,
   "metadata": {},
   "outputs": [],
   "source": [
    "from sklearn.metrics import classification_report"
   ]
  },
  {
   "cell_type": "code",
   "execution_count": 105,
   "metadata": {},
   "outputs": [
    {
     "name": "stdout",
     "output_type": "stream",
     "text": [
      "              precision    recall  f1-score   support\n",
      "\n",
      "   brazilian       0.85      0.54      0.66       326\n",
      "     british       0.73      0.47      0.57       565\n",
      "cajun_creole       0.83      0.72      0.77      1067\n",
      "     chinese       0.82      0.90      0.86      1915\n",
      "    filipino       0.85      0.67      0.75       520\n",
      "      french       0.65      0.70      0.68      1843\n",
      "       greek       0.86      0.71      0.78       813\n",
      "      indian       0.88      0.93      0.90      2126\n",
      "       irish       0.80      0.53      0.64       458\n",
      "     italian       0.82      0.93      0.87      5472\n",
      "    jamaican       0.93      0.70      0.80       358\n",
      "    japanese       0.90      0.73      0.81      1015\n",
      "      korean       0.88      0.77      0.82       559\n",
      "     mexican       0.92      0.94      0.93      4504\n",
      "    moroccan       0.89      0.79      0.84       563\n",
      "     russian       0.84      0.47      0.60       336\n",
      " southern_us       0.73      0.85      0.79      3048\n",
      "     spanish       0.77      0.53      0.62       687\n",
      "        thai       0.83      0.81      0.82      1094\n",
      "  vietnamese       0.83      0.63      0.71       573\n",
      "\n",
      "    accuracy                           0.82     27842\n",
      "   macro avg       0.83      0.72      0.76     27842\n",
      "weighted avg       0.83      0.82      0.82     27842\n",
      "\n",
      "              precision    recall  f1-score   support\n",
      "\n",
      "   brazilian       0.77      0.44      0.56       141\n",
      "     british       0.64      0.36      0.46       239\n",
      "cajun_creole       0.81      0.62      0.71       479\n",
      "     chinese       0.76      0.88      0.81       758\n",
      "    filipino       0.73      0.54      0.62       235\n",
      "      french       0.59      0.64      0.62       803\n",
      "       greek       0.82      0.66      0.73       362\n",
      "      indian       0.85      0.92      0.88       877\n",
      "       irish       0.70      0.42      0.53       209\n",
      "     italian       0.77      0.90      0.83      2366\n",
      "    jamaican       0.91      0.68      0.78       168\n",
      "    japanese       0.81      0.62      0.71       408\n",
      "      korean       0.88      0.72      0.79       271\n",
      "     mexican       0.89      0.92      0.91      1934\n",
      "    moroccan       0.87      0.71      0.78       258\n",
      "     russian       0.72      0.30      0.42       153\n",
      " southern_us       0.65      0.80      0.72      1272\n",
      "     spanish       0.67      0.41      0.51       302\n",
      "        thai       0.76      0.75      0.75       445\n",
      "  vietnamese       0.65      0.48      0.56       252\n",
      "\n",
      "    accuracy                           0.77     11932\n",
      "   macro avg       0.76      0.64      0.68     11932\n",
      "weighted avg       0.77      0.77      0.76     11932\n",
      "\n"
     ]
    }
   ],
   "source": [
    "print(classification_report(y_train,train_pred))\n",
    "print(classification_report(y_val,val_pred))"
   ]
  },
  {
   "cell_type": "code",
   "execution_count": 153,
   "metadata": {},
   "outputs": [],
   "source": [
    "# save the model to disk\n",
    "import pickle\n",
    "filename = 'logistic_tfidf.pkl'\n",
    "pickle.dump(clf_logreg, open(filename, 'wb'))"
   ]
  },
  {
   "cell_type": "code",
   "execution_count": 79,
   "metadata": {},
   "outputs": [],
   "source": [
    "submission_data=pd.read_csv('sample_submission.csv')"
   ]
  },
  {
   "cell_type": "code",
   "execution_count": 80,
   "metadata": {},
   "outputs": [
    {
     "data": {
      "text/html": [
       "<div>\n",
       "<style scoped>\n",
       "    .dataframe tbody tr th:only-of-type {\n",
       "        vertical-align: middle;\n",
       "    }\n",
       "\n",
       "    .dataframe tbody tr th {\n",
       "        vertical-align: top;\n",
       "    }\n",
       "\n",
       "    .dataframe thead th {\n",
       "        text-align: right;\n",
       "    }\n",
       "</style>\n",
       "<table border=\"1\" class=\"dataframe\">\n",
       "  <thead>\n",
       "    <tr style=\"text-align: right;\">\n",
       "      <th></th>\n",
       "      <th>id</th>\n",
       "      <th>cuisine</th>\n",
       "    </tr>\n",
       "  </thead>\n",
       "  <tbody>\n",
       "    <tr>\n",
       "      <th>0</th>\n",
       "      <td>35203</td>\n",
       "      <td>italian</td>\n",
       "    </tr>\n",
       "    <tr>\n",
       "      <th>1</th>\n",
       "      <td>17600</td>\n",
       "      <td>italian</td>\n",
       "    </tr>\n",
       "    <tr>\n",
       "      <th>2</th>\n",
       "      <td>35200</td>\n",
       "      <td>italian</td>\n",
       "    </tr>\n",
       "    <tr>\n",
       "      <th>3</th>\n",
       "      <td>17602</td>\n",
       "      <td>italian</td>\n",
       "    </tr>\n",
       "    <tr>\n",
       "      <th>4</th>\n",
       "      <td>17605</td>\n",
       "      <td>italian</td>\n",
       "    </tr>\n",
       "  </tbody>\n",
       "</table>\n",
       "</div>"
      ],
      "text/plain": [
       "      id  cuisine\n",
       "0  35203  italian\n",
       "1  17600  italian\n",
       "2  35200  italian\n",
       "3  17602  italian\n",
       "4  17605  italian"
      ]
     },
     "execution_count": 80,
     "metadata": {},
     "output_type": "execute_result"
    }
   ],
   "source": [
    "submission_data.head()"
   ]
  },
  {
   "cell_type": "code",
   "execution_count": 81,
   "metadata": {},
   "outputs": [],
   "source": [
    "submission_data.drop(\"cuisine\",axis=1,inplace=True)"
   ]
  },
  {
   "cell_type": "code",
   "execution_count": 82,
   "metadata": {},
   "outputs": [],
   "source": [
    "submission_data['cuisine']=test_pred"
   ]
  },
  {
   "cell_type": "code",
   "execution_count": 83,
   "metadata": {},
   "outputs": [
    {
     "data": {
      "text/plain": [
       "(9944, 2)"
      ]
     },
     "execution_count": 83,
     "metadata": {},
     "output_type": "execute_result"
    }
   ],
   "source": [
    "submission_data.shape"
   ]
  },
  {
   "cell_type": "code",
   "execution_count": 84,
   "metadata": {},
   "outputs": [],
   "source": [
    "\n",
    "submission_data.to_csv(r'C:\\Users\\91989\\Documents\\PYTHON\\INSOFE_Internship\\sub2.csv')"
   ]
  },
  {
   "cell_type": "markdown",
   "metadata": {},
   "source": [
    "# TFIDF Pipeline"
   ]
  },
  {
   "cell_type": "code",
   "execution_count": 106,
   "metadata": {},
   "outputs": [],
   "source": [
    "clf=Pipeline([\n",
    "        ('tfidf_vectorizer', TfidfVectorizer(lowercase=True)),\n",
    "        ('classifier', LogisticRegression())\n",
    "    ])"
   ]
  },
  {
   "cell_type": "code",
   "execution_count": 107,
   "metadata": {},
   "outputs": [
    {
     "data": {
      "text/html": [
       "<div>\n",
       "<style scoped>\n",
       "    .dataframe tbody tr th:only-of-type {\n",
       "        vertical-align: middle;\n",
       "    }\n",
       "\n",
       "    .dataframe tbody tr th {\n",
       "        vertical-align: top;\n",
       "    }\n",
       "\n",
       "    .dataframe thead th {\n",
       "        text-align: right;\n",
       "    }\n",
       "</style>\n",
       "<table border=\"1\" class=\"dataframe\">\n",
       "  <thead>\n",
       "    <tr style=\"text-align: right;\">\n",
       "      <th></th>\n",
       "      <th>cuisine</th>\n",
       "      <th>id</th>\n",
       "      <th>ingredients</th>\n",
       "    </tr>\n",
       "  </thead>\n",
       "  <tbody>\n",
       "    <tr>\n",
       "      <th>0</th>\n",
       "      <td>greek</td>\n",
       "      <td>10259</td>\n",
       "      <td>romaine lettuce black olives grape tomatoes ga...</td>\n",
       "    </tr>\n",
       "    <tr>\n",
       "      <th>1</th>\n",
       "      <td>southern_us</td>\n",
       "      <td>25693</td>\n",
       "      <td>plain flour ground pepper salt tomatoes ground...</td>\n",
       "    </tr>\n",
       "    <tr>\n",
       "      <th>2</th>\n",
       "      <td>filipino</td>\n",
       "      <td>20130</td>\n",
       "      <td>eggs pepper salt mayonaise cooking oil green c...</td>\n",
       "    </tr>\n",
       "    <tr>\n",
       "      <th>3</th>\n",
       "      <td>indian</td>\n",
       "      <td>22213</td>\n",
       "      <td>water vegetable oil wheat salt</td>\n",
       "    </tr>\n",
       "    <tr>\n",
       "      <th>4</th>\n",
       "      <td>indian</td>\n",
       "      <td>13162</td>\n",
       "      <td>black pepper shallots cornflour cayenne pepper...</td>\n",
       "    </tr>\n",
       "  </tbody>\n",
       "</table>\n",
       "</div>"
      ],
      "text/plain": [
       "       cuisine     id                                        ingredients\n",
       "0        greek  10259  romaine lettuce black olives grape tomatoes ga...\n",
       "1  southern_us  25693  plain flour ground pepper salt tomatoes ground...\n",
       "2     filipino  20130  eggs pepper salt mayonaise cooking oil green c...\n",
       "3       indian  22213                     water vegetable oil wheat salt\n",
       "4       indian  13162  black pepper shallots cornflour cayenne pepper..."
      ]
     },
     "execution_count": 107,
     "metadata": {},
     "output_type": "execute_result"
    }
   ],
   "source": [
    "train_data.head()"
   ]
  },
  {
   "cell_type": "code",
   "execution_count": 108,
   "metadata": {},
   "outputs": [
    {
     "data": {
      "text/html": [
       "<div>\n",
       "<style scoped>\n",
       "    .dataframe tbody tr th:only-of-type {\n",
       "        vertical-align: middle;\n",
       "    }\n",
       "\n",
       "    .dataframe tbody tr th {\n",
       "        vertical-align: top;\n",
       "    }\n",
       "\n",
       "    .dataframe thead th {\n",
       "        text-align: right;\n",
       "    }\n",
       "</style>\n",
       "<table border=\"1\" class=\"dataframe\">\n",
       "  <thead>\n",
       "    <tr style=\"text-align: right;\">\n",
       "      <th></th>\n",
       "      <th>id</th>\n",
       "      <th>ingredients</th>\n",
       "    </tr>\n",
       "  </thead>\n",
       "  <tbody>\n",
       "    <tr>\n",
       "      <th>0</th>\n",
       "      <td>18009</td>\n",
       "      <td>baking powder eggs all-purpose flour raisins m...</td>\n",
       "    </tr>\n",
       "    <tr>\n",
       "      <th>1</th>\n",
       "      <td>28583</td>\n",
       "      <td>sugar egg yolks corn starch cream of tartar ba...</td>\n",
       "    </tr>\n",
       "    <tr>\n",
       "      <th>2</th>\n",
       "      <td>41580</td>\n",
       "      <td>sausage links fennel bulb fronds olive oil cub...</td>\n",
       "    </tr>\n",
       "    <tr>\n",
       "      <th>3</th>\n",
       "      <td>29752</td>\n",
       "      <td>meat cuts file powder smoked sausage okra shri...</td>\n",
       "    </tr>\n",
       "    <tr>\n",
       "      <th>4</th>\n",
       "      <td>35687</td>\n",
       "      <td>ground black pepper salt sausage casings leeks...</td>\n",
       "    </tr>\n",
       "  </tbody>\n",
       "</table>\n",
       "</div>"
      ],
      "text/plain": [
       "      id                                        ingredients\n",
       "0  18009  baking powder eggs all-purpose flour raisins m...\n",
       "1  28583  sugar egg yolks corn starch cream of tartar ba...\n",
       "2  41580  sausage links fennel bulb fronds olive oil cub...\n",
       "3  29752  meat cuts file powder smoked sausage okra shri...\n",
       "4  35687  ground black pepper salt sausage casings leeks..."
      ]
     },
     "execution_count": 108,
     "metadata": {},
     "output_type": "execute_result"
    }
   ],
   "source": [
    "test_data.head()"
   ]
  },
  {
   "cell_type": "code",
   "execution_count": 109,
   "metadata": {},
   "outputs": [],
   "source": [
    "train_data_new=train_data.sample(frac=0.8,random_state=200) #random state is a seed value\n",
    "val_data=train_data.drop(train_data_new.index)"
   ]
  },
  {
   "cell_type": "code",
   "execution_count": 110,
   "metadata": {},
   "outputs": [],
   "source": [
    "#Performing train val split on the data\n",
    "X_train, y_train = train_data_new.loc[:,train_data_new.columns!='cuisine'], train_data_new.loc[:,'cuisine']\n",
    "\n",
    "X_val, y_val = val_data.loc[:,val_data.columns!='cuisine'], val_data.loc[:,'cuisine']"
   ]
  },
  {
   "cell_type": "code",
   "execution_count": 111,
   "metadata": {},
   "outputs": [
    {
     "data": {
      "text/plain": [
       "(7955,)"
      ]
     },
     "execution_count": 111,
     "metadata": {},
     "output_type": "execute_result"
    }
   ],
   "source": [
    "y_val.shape"
   ]
  },
  {
   "cell_type": "code",
   "execution_count": 112,
   "metadata": {},
   "outputs": [
    {
     "data": {
      "text/plain": [
       "(31819, 2)"
      ]
     },
     "execution_count": 112,
     "metadata": {},
     "output_type": "execute_result"
    }
   ],
   "source": [
    "X_train.shape"
   ]
  },
  {
   "cell_type": "code",
   "execution_count": 113,
   "metadata": {},
   "outputs": [
    {
     "data": {
      "text/plain": [
       "8937     southern_us\n",
       "29679        russian\n",
       "15616        spanish\n",
       "3239          french\n",
       "17395    southern_us\n",
       "Name: cuisine, dtype: object"
      ]
     },
     "execution_count": 113,
     "metadata": {},
     "output_type": "execute_result"
    }
   ],
   "source": [
    "y_train.head()"
   ]
  },
  {
   "cell_type": "code",
   "execution_count": 114,
   "metadata": {
    "scrolled": true
   },
   "outputs": [
    {
     "data": {
      "text/html": [
       "<div>\n",
       "<style scoped>\n",
       "    .dataframe tbody tr th:only-of-type {\n",
       "        vertical-align: middle;\n",
       "    }\n",
       "\n",
       "    .dataframe tbody tr th {\n",
       "        vertical-align: top;\n",
       "    }\n",
       "\n",
       "    .dataframe thead th {\n",
       "        text-align: right;\n",
       "    }\n",
       "</style>\n",
       "<table border=\"1\" class=\"dataframe\">\n",
       "  <thead>\n",
       "    <tr style=\"text-align: right;\">\n",
       "      <th></th>\n",
       "      <th>id</th>\n",
       "      <th>ingredients</th>\n",
       "    </tr>\n",
       "  </thead>\n",
       "  <tbody>\n",
       "    <tr>\n",
       "      <th>8937</th>\n",
       "      <td>9808</td>\n",
       "      <td>baking powder baking soda buttermilk salted bu...</td>\n",
       "    </tr>\n",
       "    <tr>\n",
       "      <th>29679</th>\n",
       "      <td>43442</td>\n",
       "      <td>sliced almonds raisins dried apricot salt hone...</td>\n",
       "    </tr>\n",
       "    <tr>\n",
       "      <th>15616</th>\n",
       "      <td>39228</td>\n",
       "      <td>baking potatoes monterey jack spanish chorizo ...</td>\n",
       "    </tr>\n",
       "    <tr>\n",
       "      <th>3239</th>\n",
       "      <td>9987</td>\n",
       "      <td>large eggs unsalted butter lemon peel sugar fr...</td>\n",
       "    </tr>\n",
       "    <tr>\n",
       "      <th>17395</th>\n",
       "      <td>45104</td>\n",
       "      <td>vegetable oil cooking spray vegetable oil all-...</td>\n",
       "    </tr>\n",
       "  </tbody>\n",
       "</table>\n",
       "</div>"
      ],
      "text/plain": [
       "          id                                        ingredients\n",
       "8937    9808  baking powder baking soda buttermilk salted bu...\n",
       "29679  43442  sliced almonds raisins dried apricot salt hone...\n",
       "15616  39228  baking potatoes monterey jack spanish chorizo ...\n",
       "3239    9987  large eggs unsalted butter lemon peel sugar fr...\n",
       "17395  45104  vegetable oil cooking spray vegetable oil all-..."
      ]
     },
     "execution_count": 114,
     "metadata": {},
     "output_type": "execute_result"
    }
   ],
   "source": [
    "X_train.head()"
   ]
  },
  {
   "cell_type": "code",
   "execution_count": 115,
   "metadata": {},
   "outputs": [
    {
     "data": {
      "text/plain": [
       "Pipeline(memory=None,\n",
       "         steps=[('tfidf_vectorizer',\n",
       "                 TfidfVectorizer(analyzer='word', binary=False,\n",
       "                                 decode_error='strict',\n",
       "                                 dtype=<class 'numpy.float64'>,\n",
       "                                 encoding='utf-8', input='content',\n",
       "                                 lowercase=True, max_df=1.0, max_features=None,\n",
       "                                 min_df=1, ngram_range=(1, 1), norm='l2',\n",
       "                                 preprocessor=None, smooth_idf=True,\n",
       "                                 stop_words=None, strip_accents=None,\n",
       "                                 sublinear_tf=False,\n",
       "                                 token_pattern='(?u)\\\\b\\\\w\\\\w+\\\\b',\n",
       "                                 tokenizer=None, use_idf=True,\n",
       "                                 vocabulary=None)),\n",
       "                ('classifier',\n",
       "                 LogisticRegression(C=1.0, class_weight=None, dual=False,\n",
       "                                    fit_intercept=True, intercept_scaling=1,\n",
       "                                    l1_ratio=None, max_iter=100,\n",
       "                                    multi_class='auto', n_jobs=None,\n",
       "                                    penalty='l2', random_state=None,\n",
       "                                    solver='lbfgs', tol=0.0001, verbose=0,\n",
       "                                    warm_start=False))],\n",
       "         verbose=False)"
      ]
     },
     "execution_count": 115,
     "metadata": {},
     "output_type": "execute_result"
    }
   ],
   "source": [
    "clf.fit(X_train.ingredients,y_train)"
   ]
  },
  {
   "cell_type": "code",
   "execution_count": 116,
   "metadata": {},
   "outputs": [
    {
     "data": {
      "text/html": [
       "<div>\n",
       "<style scoped>\n",
       "    .dataframe tbody tr th:only-of-type {\n",
       "        vertical-align: middle;\n",
       "    }\n",
       "\n",
       "    .dataframe tbody tr th {\n",
       "        vertical-align: top;\n",
       "    }\n",
       "\n",
       "    .dataframe thead th {\n",
       "        text-align: right;\n",
       "    }\n",
       "</style>\n",
       "<table border=\"1\" class=\"dataframe\">\n",
       "  <thead>\n",
       "    <tr style=\"text-align: right;\">\n",
       "      <th></th>\n",
       "      <th>id</th>\n",
       "      <th>ingredients</th>\n",
       "    </tr>\n",
       "  </thead>\n",
       "  <tbody>\n",
       "    <tr>\n",
       "      <th>0</th>\n",
       "      <td>18009</td>\n",
       "      <td>baking powder eggs all-purpose flour raisins m...</td>\n",
       "    </tr>\n",
       "    <tr>\n",
       "      <th>1</th>\n",
       "      <td>28583</td>\n",
       "      <td>sugar egg yolks corn starch cream of tartar ba...</td>\n",
       "    </tr>\n",
       "    <tr>\n",
       "      <th>2</th>\n",
       "      <td>41580</td>\n",
       "      <td>sausage links fennel bulb fronds olive oil cub...</td>\n",
       "    </tr>\n",
       "    <tr>\n",
       "      <th>3</th>\n",
       "      <td>29752</td>\n",
       "      <td>meat cuts file powder smoked sausage okra shri...</td>\n",
       "    </tr>\n",
       "    <tr>\n",
       "      <th>4</th>\n",
       "      <td>35687</td>\n",
       "      <td>ground black pepper salt sausage casings leeks...</td>\n",
       "    </tr>\n",
       "  </tbody>\n",
       "</table>\n",
       "</div>"
      ],
      "text/plain": [
       "      id                                        ingredients\n",
       "0  18009  baking powder eggs all-purpose flour raisins m...\n",
       "1  28583  sugar egg yolks corn starch cream of tartar ba...\n",
       "2  41580  sausage links fennel bulb fronds olive oil cub...\n",
       "3  29752  meat cuts file powder smoked sausage okra shri...\n",
       "4  35687  ground black pepper salt sausage casings leeks..."
      ]
     },
     "execution_count": 116,
     "metadata": {},
     "output_type": "execute_result"
    }
   ],
   "source": [
    "test_data.head()"
   ]
  },
  {
   "cell_type": "code",
   "execution_count": 117,
   "metadata": {},
   "outputs": [],
   "source": [
    "train_pred=clf.predict(X_train.ingredients)\n",
    "val_pred=clf.predict(X_val.ingredients)\n",
    "test_pred=clf.predict(test_data.ingredients)"
   ]
  },
  {
   "cell_type": "code",
   "execution_count": 118,
   "metadata": {},
   "outputs": [
    {
     "data": {
      "text/plain": [
       "(9944,)"
      ]
     },
     "execution_count": 118,
     "metadata": {},
     "output_type": "execute_result"
    }
   ],
   "source": [
    "test_pred.shape"
   ]
  },
  {
   "cell_type": "code",
   "execution_count": 119,
   "metadata": {},
   "outputs": [
    {
     "data": {
      "text/plain": [
       "array(['southern_us', 'moroccan', 'mexican', ..., 'chinese',\n",
       "       'southern_us', 'french'], dtype=object)"
      ]
     },
     "execution_count": 119,
     "metadata": {},
     "output_type": "execute_result"
    }
   ],
   "source": [
    "train_pred.shape\n",
    "train_pred"
   ]
  },
  {
   "cell_type": "code",
   "execution_count": 120,
   "metadata": {},
   "outputs": [
    {
     "data": {
      "text/plain": [
       "2     filipino\n",
       "3       indian\n",
       "4       indian\n",
       "5     jamaican\n",
       "17     italian\n",
       "Name: cuisine, dtype: object"
      ]
     },
     "execution_count": 120,
     "metadata": {},
     "output_type": "execute_result"
    }
   ],
   "source": [
    "y_val.head()"
   ]
  },
  {
   "cell_type": "code",
   "execution_count": 121,
   "metadata": {},
   "outputs": [],
   "source": [
    "from sklearn.metrics import classification_report"
   ]
  },
  {
   "cell_type": "code",
   "execution_count": 122,
   "metadata": {},
   "outputs": [
    {
     "name": "stdout",
     "output_type": "stream",
     "text": [
      "              precision    recall  f1-score   support\n",
      "\n",
      "   brazilian       0.70      0.43      0.54        97\n",
      "     british       0.59      0.32      0.42       152\n",
      "cajun_creole       0.78      0.62      0.69       317\n",
      "     chinese       0.78      0.87      0.82       513\n",
      "    filipino       0.74      0.56      0.64       149\n",
      "      french       0.59      0.64      0.62       546\n",
      "       greek       0.80      0.66      0.72       238\n",
      "      indian       0.86      0.91      0.89       606\n",
      "       irish       0.72      0.46      0.56       148\n",
      "     italian       0.77      0.89      0.83      1550\n",
      "    jamaican       0.88      0.64      0.74       106\n",
      "    japanese       0.84      0.66      0.74       276\n",
      "      korean       0.86      0.73      0.79       170\n",
      "     mexican       0.90      0.92      0.91      1290\n",
      "    moroccan       0.87      0.71      0.78       172\n",
      "     russian       0.65      0.33      0.44       105\n",
      " southern_us       0.65      0.80      0.72       852\n",
      "     spanish       0.64      0.45      0.53       201\n",
      "        thai       0.79      0.78      0.79       301\n",
      "  vietnamese       0.76      0.54      0.63       166\n",
      "\n",
      "    accuracy                           0.77      7955\n",
      "   macro avg       0.76      0.65      0.69      7955\n",
      "weighted avg       0.77      0.77      0.77      7955\n",
      "\n"
     ]
    }
   ],
   "source": [
    "#print(classification_report(y_train,train_pred))\n",
    "print(classification_report(y_val,val_pred))"
   ]
  },
  {
   "cell_type": "code",
   "execution_count": 58,
   "metadata": {},
   "outputs": [],
   "source": [
    "submission_data=pd.read_csv('sample_submission.csv')"
   ]
  },
  {
   "cell_type": "code",
   "execution_count": 59,
   "metadata": {},
   "outputs": [
    {
     "data": {
      "text/html": [
       "<div>\n",
       "<style scoped>\n",
       "    .dataframe tbody tr th:only-of-type {\n",
       "        vertical-align: middle;\n",
       "    }\n",
       "\n",
       "    .dataframe tbody tr th {\n",
       "        vertical-align: top;\n",
       "    }\n",
       "\n",
       "    .dataframe thead th {\n",
       "        text-align: right;\n",
       "    }\n",
       "</style>\n",
       "<table border=\"1\" class=\"dataframe\">\n",
       "  <thead>\n",
       "    <tr style=\"text-align: right;\">\n",
       "      <th></th>\n",
       "      <th>id</th>\n",
       "      <th>cuisine</th>\n",
       "    </tr>\n",
       "  </thead>\n",
       "  <tbody>\n",
       "    <tr>\n",
       "      <th>0</th>\n",
       "      <td>35203</td>\n",
       "      <td>italian</td>\n",
       "    </tr>\n",
       "    <tr>\n",
       "      <th>1</th>\n",
       "      <td>17600</td>\n",
       "      <td>italian</td>\n",
       "    </tr>\n",
       "    <tr>\n",
       "      <th>2</th>\n",
       "      <td>35200</td>\n",
       "      <td>italian</td>\n",
       "    </tr>\n",
       "    <tr>\n",
       "      <th>3</th>\n",
       "      <td>17602</td>\n",
       "      <td>italian</td>\n",
       "    </tr>\n",
       "    <tr>\n",
       "      <th>4</th>\n",
       "      <td>17605</td>\n",
       "      <td>italian</td>\n",
       "    </tr>\n",
       "  </tbody>\n",
       "</table>\n",
       "</div>"
      ],
      "text/plain": [
       "      id  cuisine\n",
       "0  35203  italian\n",
       "1  17600  italian\n",
       "2  35200  italian\n",
       "3  17602  italian\n",
       "4  17605  italian"
      ]
     },
     "execution_count": 59,
     "metadata": {},
     "output_type": "execute_result"
    }
   ],
   "source": [
    "submission_data.head()"
   ]
  },
  {
   "cell_type": "code",
   "execution_count": 81,
   "metadata": {},
   "outputs": [],
   "source": [
    "submission_data.drop(\"cuisine\",axis=1,inplace=True)"
   ]
  },
  {
   "cell_type": "code",
   "execution_count": 115,
   "metadata": {},
   "outputs": [],
   "source": [
    "submission_data['cuisine']=test_pred"
   ]
  },
  {
   "cell_type": "code",
   "execution_count": 83,
   "metadata": {},
   "outputs": [
    {
     "data": {
      "text/plain": [
       "(9944, 2)"
      ]
     },
     "execution_count": 83,
     "metadata": {},
     "output_type": "execute_result"
    }
   ],
   "source": [
    "submission_data.shape"
   ]
  },
  {
   "cell_type": "code",
   "execution_count": 116,
   "metadata": {},
   "outputs": [],
   "source": [
    "\n",
    "submission_data.to_csv(r'C:\\Users\\91989\\Documents\\PYTHON\\INSOFE_Internship\\sub3.csv')"
   ]
  },
  {
   "cell_type": "code",
   "execution_count": 60,
   "metadata": {},
   "outputs": [],
   "source": [
    "\n",
    "test_data.to_csv(r'C:\\Users\\91989\\Documents\\PYTHON\\INSOFE_Internship\\test_data.csv')"
   ]
  },
  {
   "cell_type": "markdown",
   "metadata": {},
   "source": [
    "# TF Pipeline"
   ]
  },
  {
   "cell_type": "code",
   "execution_count": 123,
   "metadata": {},
   "outputs": [],
   "source": [
    "clf=Pipeline([\n",
    "        ('tfidf_vectorizer', TfidfVectorizer(lowercase=True)),\n",
    "        ('classifier', LogisticRegression())\n",
    "    ])"
   ]
  },
  {
   "cell_type": "code",
   "execution_count": 124,
   "metadata": {},
   "outputs": [
    {
     "data": {
      "text/html": [
       "<div>\n",
       "<style scoped>\n",
       "    .dataframe tbody tr th:only-of-type {\n",
       "        vertical-align: middle;\n",
       "    }\n",
       "\n",
       "    .dataframe tbody tr th {\n",
       "        vertical-align: top;\n",
       "    }\n",
       "\n",
       "    .dataframe thead th {\n",
       "        text-align: right;\n",
       "    }\n",
       "</style>\n",
       "<table border=\"1\" class=\"dataframe\">\n",
       "  <thead>\n",
       "    <tr style=\"text-align: right;\">\n",
       "      <th></th>\n",
       "      <th>cuisine</th>\n",
       "      <th>id</th>\n",
       "      <th>ingredients</th>\n",
       "    </tr>\n",
       "  </thead>\n",
       "  <tbody>\n",
       "    <tr>\n",
       "      <th>0</th>\n",
       "      <td>greek</td>\n",
       "      <td>10259</td>\n",
       "      <td>romaine lettuce black olives grape tomatoes ga...</td>\n",
       "    </tr>\n",
       "    <tr>\n",
       "      <th>1</th>\n",
       "      <td>southern_us</td>\n",
       "      <td>25693</td>\n",
       "      <td>plain flour ground pepper salt tomatoes ground...</td>\n",
       "    </tr>\n",
       "    <tr>\n",
       "      <th>2</th>\n",
       "      <td>filipino</td>\n",
       "      <td>20130</td>\n",
       "      <td>eggs pepper salt mayonaise cooking oil green c...</td>\n",
       "    </tr>\n",
       "    <tr>\n",
       "      <th>3</th>\n",
       "      <td>indian</td>\n",
       "      <td>22213</td>\n",
       "      <td>water vegetable oil wheat salt</td>\n",
       "    </tr>\n",
       "    <tr>\n",
       "      <th>4</th>\n",
       "      <td>indian</td>\n",
       "      <td>13162</td>\n",
       "      <td>black pepper shallots cornflour cayenne pepper...</td>\n",
       "    </tr>\n",
       "  </tbody>\n",
       "</table>\n",
       "</div>"
      ],
      "text/plain": [
       "       cuisine     id                                        ingredients\n",
       "0        greek  10259  romaine lettuce black olives grape tomatoes ga...\n",
       "1  southern_us  25693  plain flour ground pepper salt tomatoes ground...\n",
       "2     filipino  20130  eggs pepper salt mayonaise cooking oil green c...\n",
       "3       indian  22213                     water vegetable oil wheat salt\n",
       "4       indian  13162  black pepper shallots cornflour cayenne pepper..."
      ]
     },
     "execution_count": 124,
     "metadata": {},
     "output_type": "execute_result"
    }
   ],
   "source": [
    "train_data.head()"
   ]
  },
  {
   "cell_type": "code",
   "execution_count": 125,
   "metadata": {},
   "outputs": [
    {
     "data": {
      "text/html": [
       "<div>\n",
       "<style scoped>\n",
       "    .dataframe tbody tr th:only-of-type {\n",
       "        vertical-align: middle;\n",
       "    }\n",
       "\n",
       "    .dataframe tbody tr th {\n",
       "        vertical-align: top;\n",
       "    }\n",
       "\n",
       "    .dataframe thead th {\n",
       "        text-align: right;\n",
       "    }\n",
       "</style>\n",
       "<table border=\"1\" class=\"dataframe\">\n",
       "  <thead>\n",
       "    <tr style=\"text-align: right;\">\n",
       "      <th></th>\n",
       "      <th>id</th>\n",
       "      <th>ingredients</th>\n",
       "    </tr>\n",
       "  </thead>\n",
       "  <tbody>\n",
       "    <tr>\n",
       "      <th>0</th>\n",
       "      <td>18009</td>\n",
       "      <td>baking powder eggs all-purpose flour raisins m...</td>\n",
       "    </tr>\n",
       "    <tr>\n",
       "      <th>1</th>\n",
       "      <td>28583</td>\n",
       "      <td>sugar egg yolks corn starch cream of tartar ba...</td>\n",
       "    </tr>\n",
       "    <tr>\n",
       "      <th>2</th>\n",
       "      <td>41580</td>\n",
       "      <td>sausage links fennel bulb fronds olive oil cub...</td>\n",
       "    </tr>\n",
       "    <tr>\n",
       "      <th>3</th>\n",
       "      <td>29752</td>\n",
       "      <td>meat cuts file powder smoked sausage okra shri...</td>\n",
       "    </tr>\n",
       "    <tr>\n",
       "      <th>4</th>\n",
       "      <td>35687</td>\n",
       "      <td>ground black pepper salt sausage casings leeks...</td>\n",
       "    </tr>\n",
       "  </tbody>\n",
       "</table>\n",
       "</div>"
      ],
      "text/plain": [
       "      id                                        ingredients\n",
       "0  18009  baking powder eggs all-purpose flour raisins m...\n",
       "1  28583  sugar egg yolks corn starch cream of tartar ba...\n",
       "2  41580  sausage links fennel bulb fronds olive oil cub...\n",
       "3  29752  meat cuts file powder smoked sausage okra shri...\n",
       "4  35687  ground black pepper salt sausage casings leeks..."
      ]
     },
     "execution_count": 125,
     "metadata": {},
     "output_type": "execute_result"
    }
   ],
   "source": [
    "test_data.head()"
   ]
  },
  {
   "cell_type": "code",
   "execution_count": 126,
   "metadata": {},
   "outputs": [],
   "source": [
    "train_data_new=train_data.sample(frac=0.8,random_state=200) #random state is a seed value\n",
    "val_data=train_data.drop(train_data_new.index)"
   ]
  },
  {
   "cell_type": "code",
   "execution_count": 127,
   "metadata": {},
   "outputs": [],
   "source": [
    "#Performing train val split on the data\n",
    "X_train, y_train = train_data_new.loc[:,train_data_new.columns!='cuisine'], train_data_new.loc[:,'cuisine']\n",
    "\n",
    "X_val, y_val = val_data.loc[:,val_data.columns!='cuisine'], val_data.loc[:,'cuisine']"
   ]
  },
  {
   "cell_type": "code",
   "execution_count": 128,
   "metadata": {},
   "outputs": [
    {
     "data": {
      "text/plain": [
       "(7955,)"
      ]
     },
     "execution_count": 128,
     "metadata": {},
     "output_type": "execute_result"
    }
   ],
   "source": [
    "y_val.shape"
   ]
  },
  {
   "cell_type": "code",
   "execution_count": 129,
   "metadata": {},
   "outputs": [
    {
     "data": {
      "text/plain": [
       "(31819, 2)"
      ]
     },
     "execution_count": 129,
     "metadata": {},
     "output_type": "execute_result"
    }
   ],
   "source": [
    "X_train.shape"
   ]
  },
  {
   "cell_type": "code",
   "execution_count": 130,
   "metadata": {},
   "outputs": [
    {
     "data": {
      "text/plain": [
       "8937     southern_us\n",
       "29679        russian\n",
       "15616        spanish\n",
       "3239          french\n",
       "17395    southern_us\n",
       "Name: cuisine, dtype: object"
      ]
     },
     "execution_count": 130,
     "metadata": {},
     "output_type": "execute_result"
    }
   ],
   "source": [
    "y_train.head()"
   ]
  },
  {
   "cell_type": "code",
   "execution_count": 131,
   "metadata": {
    "scrolled": true
   },
   "outputs": [
    {
     "data": {
      "text/html": [
       "<div>\n",
       "<style scoped>\n",
       "    .dataframe tbody tr th:only-of-type {\n",
       "        vertical-align: middle;\n",
       "    }\n",
       "\n",
       "    .dataframe tbody tr th {\n",
       "        vertical-align: top;\n",
       "    }\n",
       "\n",
       "    .dataframe thead th {\n",
       "        text-align: right;\n",
       "    }\n",
       "</style>\n",
       "<table border=\"1\" class=\"dataframe\">\n",
       "  <thead>\n",
       "    <tr style=\"text-align: right;\">\n",
       "      <th></th>\n",
       "      <th>id</th>\n",
       "      <th>ingredients</th>\n",
       "    </tr>\n",
       "  </thead>\n",
       "  <tbody>\n",
       "    <tr>\n",
       "      <th>8937</th>\n",
       "      <td>9808</td>\n",
       "      <td>baking powder baking soda buttermilk salted bu...</td>\n",
       "    </tr>\n",
       "    <tr>\n",
       "      <th>29679</th>\n",
       "      <td>43442</td>\n",
       "      <td>sliced almonds raisins dried apricot salt hone...</td>\n",
       "    </tr>\n",
       "    <tr>\n",
       "      <th>15616</th>\n",
       "      <td>39228</td>\n",
       "      <td>baking potatoes monterey jack spanish chorizo ...</td>\n",
       "    </tr>\n",
       "    <tr>\n",
       "      <th>3239</th>\n",
       "      <td>9987</td>\n",
       "      <td>large eggs unsalted butter lemon peel sugar fr...</td>\n",
       "    </tr>\n",
       "    <tr>\n",
       "      <th>17395</th>\n",
       "      <td>45104</td>\n",
       "      <td>vegetable oil cooking spray vegetable oil all-...</td>\n",
       "    </tr>\n",
       "  </tbody>\n",
       "</table>\n",
       "</div>"
      ],
      "text/plain": [
       "          id                                        ingredients\n",
       "8937    9808  baking powder baking soda buttermilk salted bu...\n",
       "29679  43442  sliced almonds raisins dried apricot salt hone...\n",
       "15616  39228  baking potatoes monterey jack spanish chorizo ...\n",
       "3239    9987  large eggs unsalted butter lemon peel sugar fr...\n",
       "17395  45104  vegetable oil cooking spray vegetable oil all-..."
      ]
     },
     "execution_count": 131,
     "metadata": {},
     "output_type": "execute_result"
    }
   ],
   "source": [
    "X_train.head()"
   ]
  },
  {
   "cell_type": "code",
   "execution_count": 132,
   "metadata": {},
   "outputs": [
    {
     "data": {
      "text/plain": [
       "Pipeline(memory=None,\n",
       "         steps=[('tfidf_vectorizer',\n",
       "                 TfidfVectorizer(analyzer='word', binary=False,\n",
       "                                 decode_error='strict',\n",
       "                                 dtype=<class 'numpy.float64'>,\n",
       "                                 encoding='utf-8', input='content',\n",
       "                                 lowercase=True, max_df=1.0, max_features=None,\n",
       "                                 min_df=1, ngram_range=(1, 1), norm='l2',\n",
       "                                 preprocessor=None, smooth_idf=True,\n",
       "                                 stop_words=None, strip_accents=None,\n",
       "                                 sublinear_tf=False,\n",
       "                                 token_pattern='(?u)\\\\b\\\\w\\\\w+\\\\b',\n",
       "                                 tokenizer=None, use_idf=True,\n",
       "                                 vocabulary=None)),\n",
       "                ('classifier',\n",
       "                 LogisticRegression(C=1.0, class_weight=None, dual=False,\n",
       "                                    fit_intercept=True, intercept_scaling=1,\n",
       "                                    l1_ratio=None, max_iter=100,\n",
       "                                    multi_class='auto', n_jobs=None,\n",
       "                                    penalty='l2', random_state=None,\n",
       "                                    solver='lbfgs', tol=0.0001, verbose=0,\n",
       "                                    warm_start=False))],\n",
       "         verbose=False)"
      ]
     },
     "execution_count": 132,
     "metadata": {},
     "output_type": "execute_result"
    }
   ],
   "source": [
    "clf.fit(X_train.ingredients,y_train)"
   ]
  },
  {
   "cell_type": "code",
   "execution_count": 133,
   "metadata": {},
   "outputs": [
    {
     "data": {
      "text/html": [
       "<div>\n",
       "<style scoped>\n",
       "    .dataframe tbody tr th:only-of-type {\n",
       "        vertical-align: middle;\n",
       "    }\n",
       "\n",
       "    .dataframe tbody tr th {\n",
       "        vertical-align: top;\n",
       "    }\n",
       "\n",
       "    .dataframe thead th {\n",
       "        text-align: right;\n",
       "    }\n",
       "</style>\n",
       "<table border=\"1\" class=\"dataframe\">\n",
       "  <thead>\n",
       "    <tr style=\"text-align: right;\">\n",
       "      <th></th>\n",
       "      <th>id</th>\n",
       "      <th>ingredients</th>\n",
       "    </tr>\n",
       "  </thead>\n",
       "  <tbody>\n",
       "    <tr>\n",
       "      <th>0</th>\n",
       "      <td>18009</td>\n",
       "      <td>baking powder eggs all-purpose flour raisins m...</td>\n",
       "    </tr>\n",
       "    <tr>\n",
       "      <th>1</th>\n",
       "      <td>28583</td>\n",
       "      <td>sugar egg yolks corn starch cream of tartar ba...</td>\n",
       "    </tr>\n",
       "    <tr>\n",
       "      <th>2</th>\n",
       "      <td>41580</td>\n",
       "      <td>sausage links fennel bulb fronds olive oil cub...</td>\n",
       "    </tr>\n",
       "    <tr>\n",
       "      <th>3</th>\n",
       "      <td>29752</td>\n",
       "      <td>meat cuts file powder smoked sausage okra shri...</td>\n",
       "    </tr>\n",
       "    <tr>\n",
       "      <th>4</th>\n",
       "      <td>35687</td>\n",
       "      <td>ground black pepper salt sausage casings leeks...</td>\n",
       "    </tr>\n",
       "  </tbody>\n",
       "</table>\n",
       "</div>"
      ],
      "text/plain": [
       "      id                                        ingredients\n",
       "0  18009  baking powder eggs all-purpose flour raisins m...\n",
       "1  28583  sugar egg yolks corn starch cream of tartar ba...\n",
       "2  41580  sausage links fennel bulb fronds olive oil cub...\n",
       "3  29752  meat cuts file powder smoked sausage okra shri...\n",
       "4  35687  ground black pepper salt sausage casings leeks..."
      ]
     },
     "execution_count": 133,
     "metadata": {},
     "output_type": "execute_result"
    }
   ],
   "source": [
    "test_data.head()"
   ]
  },
  {
   "cell_type": "code",
   "execution_count": 134,
   "metadata": {},
   "outputs": [],
   "source": [
    "train_pred=clf.predict(X_train.ingredients)\n",
    "val_pred=clf.predict(X_val.ingredients)\n",
    "test_pred=clf.predict(test_data.ingredients)"
   ]
  },
  {
   "cell_type": "code",
   "execution_count": 135,
   "metadata": {},
   "outputs": [
    {
     "data": {
      "text/plain": [
       "array(['southern_us', 'moroccan', 'mexican', ..., 'chinese',\n",
       "       'southern_us', 'french'], dtype=object)"
      ]
     },
     "execution_count": 135,
     "metadata": {},
     "output_type": "execute_result"
    }
   ],
   "source": [
    "train_pred.shape\n",
    "train_pred"
   ]
  },
  {
   "cell_type": "code",
   "execution_count": 136,
   "metadata": {},
   "outputs": [
    {
     "data": {
      "text/plain": [
       "2     filipino\n",
       "3       indian\n",
       "4       indian\n",
       "5     jamaican\n",
       "17     italian\n",
       "Name: cuisine, dtype: object"
      ]
     },
     "execution_count": 136,
     "metadata": {},
     "output_type": "execute_result"
    }
   ],
   "source": [
    "y_val.head()"
   ]
  },
  {
   "cell_type": "code",
   "execution_count": 137,
   "metadata": {},
   "outputs": [],
   "source": [
    "from sklearn.metrics import classification_report"
   ]
  },
  {
   "cell_type": "code",
   "execution_count": 138,
   "metadata": {},
   "outputs": [
    {
     "name": "stdout",
     "output_type": "stream",
     "text": [
      "              precision    recall  f1-score   support\n",
      "\n",
      "   brazilian       0.84      0.56      0.67       370\n",
      "     british       0.71      0.49      0.58       652\n",
      "cajun_creole       0.83      0.73      0.77      1229\n",
      "     chinese       0.82      0.89      0.85      2160\n",
      "    filipino       0.84      0.67      0.75       606\n",
      "      french       0.66      0.70      0.68      2100\n",
      "       greek       0.87      0.72      0.79       937\n",
      "      indian       0.88      0.93      0.90      2397\n",
      "       irish       0.79      0.52      0.63       519\n",
      "     italian       0.82      0.92      0.87      6288\n",
      "    jamaican       0.91      0.72      0.81       420\n",
      "    japanese       0.90      0.72      0.80      1147\n",
      "      korean       0.89      0.79      0.84       660\n",
      "     mexican       0.92      0.94      0.93      5148\n",
      "    moroccan       0.89      0.79      0.84       649\n",
      "     russian       0.81      0.47      0.59       384\n",
      " southern_us       0.73      0.85      0.78      3468\n",
      "     spanish       0.77      0.53      0.63       788\n",
      "        thai       0.83      0.80      0.82      1238\n",
      "  vietnamese       0.81      0.63      0.71       659\n",
      "\n",
      "    accuracy                           0.82     31819\n",
      "   macro avg       0.83      0.72      0.76     31819\n",
      "weighted avg       0.82      0.82      0.82     31819\n",
      "\n",
      "              precision    recall  f1-score   support\n",
      "\n",
      "   brazilian       0.70      0.43      0.54        97\n",
      "     british       0.59      0.32      0.42       152\n",
      "cajun_creole       0.78      0.62      0.69       317\n",
      "     chinese       0.78      0.87      0.82       513\n",
      "    filipino       0.74      0.56      0.64       149\n",
      "      french       0.59      0.64      0.62       546\n",
      "       greek       0.80      0.66      0.72       238\n",
      "      indian       0.86      0.91      0.89       606\n",
      "       irish       0.72      0.46      0.56       148\n",
      "     italian       0.77      0.89      0.83      1550\n",
      "    jamaican       0.88      0.64      0.74       106\n",
      "    japanese       0.84      0.66      0.74       276\n",
      "      korean       0.86      0.73      0.79       170\n",
      "     mexican       0.90      0.92      0.91      1290\n",
      "    moroccan       0.87      0.71      0.78       172\n",
      "     russian       0.65      0.33      0.44       105\n",
      " southern_us       0.65      0.80      0.72       852\n",
      "     spanish       0.64      0.45      0.53       201\n",
      "        thai       0.79      0.78      0.79       301\n",
      "  vietnamese       0.76      0.54      0.63       166\n",
      "\n",
      "    accuracy                           0.77      7955\n",
      "   macro avg       0.76      0.65      0.69      7955\n",
      "weighted avg       0.77      0.77      0.77      7955\n",
      "\n"
     ]
    }
   ],
   "source": [
    "print(classification_report(y_train,train_pred))\n",
    "print(classification_report(y_val,val_pred))"
   ]
  },
  {
   "cell_type": "code",
   "execution_count": 79,
   "metadata": {},
   "outputs": [],
   "source": [
    "submission_data=pd.read_csv('sample_submission.csv')"
   ]
  },
  {
   "cell_type": "code",
   "execution_count": 80,
   "metadata": {},
   "outputs": [
    {
     "data": {
      "text/html": [
       "<div>\n",
       "<style scoped>\n",
       "    .dataframe tbody tr th:only-of-type {\n",
       "        vertical-align: middle;\n",
       "    }\n",
       "\n",
       "    .dataframe tbody tr th {\n",
       "        vertical-align: top;\n",
       "    }\n",
       "\n",
       "    .dataframe thead th {\n",
       "        text-align: right;\n",
       "    }\n",
       "</style>\n",
       "<table border=\"1\" class=\"dataframe\">\n",
       "  <thead>\n",
       "    <tr style=\"text-align: right;\">\n",
       "      <th></th>\n",
       "      <th>id</th>\n",
       "      <th>cuisine</th>\n",
       "    </tr>\n",
       "  </thead>\n",
       "  <tbody>\n",
       "    <tr>\n",
       "      <th>0</th>\n",
       "      <td>35203</td>\n",
       "      <td>italian</td>\n",
       "    </tr>\n",
       "    <tr>\n",
       "      <th>1</th>\n",
       "      <td>17600</td>\n",
       "      <td>italian</td>\n",
       "    </tr>\n",
       "    <tr>\n",
       "      <th>2</th>\n",
       "      <td>35200</td>\n",
       "      <td>italian</td>\n",
       "    </tr>\n",
       "    <tr>\n",
       "      <th>3</th>\n",
       "      <td>17602</td>\n",
       "      <td>italian</td>\n",
       "    </tr>\n",
       "    <tr>\n",
       "      <th>4</th>\n",
       "      <td>17605</td>\n",
       "      <td>italian</td>\n",
       "    </tr>\n",
       "  </tbody>\n",
       "</table>\n",
       "</div>"
      ],
      "text/plain": [
       "      id  cuisine\n",
       "0  35203  italian\n",
       "1  17600  italian\n",
       "2  35200  italian\n",
       "3  17602  italian\n",
       "4  17605  italian"
      ]
     },
     "execution_count": 80,
     "metadata": {},
     "output_type": "execute_result"
    }
   ],
   "source": [
    "submission_data.head()"
   ]
  },
  {
   "cell_type": "code",
   "execution_count": 81,
   "metadata": {},
   "outputs": [],
   "source": [
    "submission_data.drop(\"cuisine\",axis=1,inplace=True)"
   ]
  },
  {
   "cell_type": "code",
   "execution_count": 115,
   "metadata": {},
   "outputs": [],
   "source": [
    "submission_data['cuisine']=test_pred"
   ]
  },
  {
   "cell_type": "code",
   "execution_count": 83,
   "metadata": {},
   "outputs": [
    {
     "data": {
      "text/plain": [
       "(9944, 2)"
      ]
     },
     "execution_count": 83,
     "metadata": {},
     "output_type": "execute_result"
    }
   ],
   "source": [
    "submission_data.shape"
   ]
  },
  {
   "cell_type": "code",
   "execution_count": 116,
   "metadata": {},
   "outputs": [],
   "source": [
    "\n",
    "submission_data.to_csv(r'C:\\Users\\91989\\Documents\\PYTHON\\INSOFE_Internship\\sub3.csv')"
   ]
  },
  {
   "cell_type": "markdown",
   "metadata": {},
   "source": [
    "# Ridge and lasso"
   ]
  },
  {
   "cell_type": "code",
   "execution_count": 139,
   "metadata": {},
   "outputs": [],
   "source": [
    "from sklearn.linear_model import RidgeClassifierCV"
   ]
  },
  {
   "cell_type": "code",
   "execution_count": 140,
   "metadata": {},
   "outputs": [],
   "source": [
    "#### TYPE\n",
    "ridge_model=Pipeline(steps=[('tfidf_vectorizer', TfidfVectorizer(lowercase=True)),('classifier',RidgeClassifierCV(fit_intercept=True, alphas=[\n",
    "                       0.0125, 0.025, 0.05,.1, .125, .25, .5, 1., 2., 4.,10,100]))])"
   ]
  },
  {
   "cell_type": "code",
   "execution_count": 141,
   "metadata": {},
   "outputs": [],
   "source": [
    "train_data_new=train_data.sample(frac=0.8,random_state=200) #random state is a seed value\n",
    "val_data=train_data.drop(train_data_new.index)"
   ]
  },
  {
   "cell_type": "code",
   "execution_count": 142,
   "metadata": {},
   "outputs": [],
   "source": [
    "#Performing train val split on the data\n",
    "X_train, y_train = train_data_new.loc[:,train_data_new.columns!='cuisine'], train_data_new.loc[:,'cuisine']\n",
    "\n",
    "X_val, y_val = val_data.loc[:,val_data.columns!='cuisine'], val_data.loc[:,'cuisine']"
   ]
  },
  {
   "cell_type": "code",
   "execution_count": 143,
   "metadata": {},
   "outputs": [
    {
     "data": {
      "text/plain": [
       "Pipeline(memory=None,\n",
       "         steps=[('tfidf_vectorizer',\n",
       "                 TfidfVectorizer(analyzer='word', binary=False,\n",
       "                                 decode_error='strict',\n",
       "                                 dtype=<class 'numpy.float64'>,\n",
       "                                 encoding='utf-8', input='content',\n",
       "                                 lowercase=True, max_df=1.0, max_features=None,\n",
       "                                 min_df=1, ngram_range=(1, 1), norm='l2',\n",
       "                                 preprocessor=None, smooth_idf=True,\n",
       "                                 stop_words=None, strip_accents=None,\n",
       "                                 sublinear_tf=False,\n",
       "                                 token_pattern='(?u)\\\\b\\\\w\\\\w+\\\\b',\n",
       "                                 tokenizer=None, use_idf=True,\n",
       "                                 vocabulary=None)),\n",
       "                ('classifier',\n",
       "                 RidgeClassifierCV(alphas=array([1.25e-02, 2.50e-02, 5.00e-02, 1.00e-01, 1.25e-01, 2.50e-01,\n",
       "       5.00e-01, 1.00e+00, 2.00e+00, 4.00e+00, 1.00e+01, 1.00e+02]),\n",
       "                                   class_weight=None, cv=None,\n",
       "                                   fit_intercept=True, normalize=False,\n",
       "                                   scoring=None, store_cv_values=False))],\n",
       "         verbose=False)"
      ]
     },
     "execution_count": 143,
     "metadata": {},
     "output_type": "execute_result"
    }
   ],
   "source": [
    "ridge_model.fit(X_train.ingredients,y_train)"
   ]
  },
  {
   "cell_type": "code",
   "execution_count": 78,
   "metadata": {},
   "outputs": [],
   "source": [
    "train_pred=clf.predict(X_train.ingredients)\n",
    "val_pred=clf.predict(X_val.ingredients)\n",
    "test_pred=clf.predict(test_data.ingredients)"
   ]
  },
  {
   "cell_type": "code",
   "execution_count": 79,
   "metadata": {},
   "outputs": [
    {
     "data": {
      "text/plain": [
       "(9944,)"
      ]
     },
     "execution_count": 79,
     "metadata": {},
     "output_type": "execute_result"
    }
   ],
   "source": [
    "test_pred.shape"
   ]
  },
  {
   "cell_type": "code",
   "execution_count": 80,
   "metadata": {},
   "outputs": [
    {
     "data": {
      "text/plain": [
       "array(['southern_us', 'moroccan', 'mexican', ..., 'chinese',\n",
       "       'southern_us', 'french'], dtype=object)"
      ]
     },
     "execution_count": 80,
     "metadata": {},
     "output_type": "execute_result"
    }
   ],
   "source": [
    "train_pred.shape\n",
    "train_pred"
   ]
  },
  {
   "cell_type": "code",
   "execution_count": 81,
   "metadata": {},
   "outputs": [
    {
     "data": {
      "text/plain": [
       "2     filipino\n",
       "3       indian\n",
       "4       indian\n",
       "5     jamaican\n",
       "17     italian\n",
       "Name: cuisine, dtype: object"
      ]
     },
     "execution_count": 81,
     "metadata": {},
     "output_type": "execute_result"
    }
   ],
   "source": [
    "y_val.head()"
   ]
  },
  {
   "cell_type": "code",
   "execution_count": 82,
   "metadata": {},
   "outputs": [],
   "source": [
    "from sklearn.metrics import classification_report"
   ]
  },
  {
   "cell_type": "code",
   "execution_count": 83,
   "metadata": {
    "scrolled": true
   },
   "outputs": [
    {
     "name": "stdout",
     "output_type": "stream",
     "text": [
      "              precision    recall  f1-score   support\n",
      "\n",
      "   brazilian       0.84      0.56      0.67       370\n",
      "     british       0.71      0.49      0.58       652\n",
      "cajun_creole       0.83      0.73      0.77      1229\n",
      "     chinese       0.82      0.89      0.85      2160\n",
      "    filipino       0.84      0.67      0.75       606\n",
      "      french       0.66      0.70      0.68      2100\n",
      "       greek       0.87      0.72      0.79       937\n",
      "      indian       0.88      0.93      0.90      2397\n",
      "       irish       0.79      0.52      0.63       519\n",
      "     italian       0.82      0.92      0.87      6288\n",
      "    jamaican       0.91      0.72      0.81       420\n",
      "    japanese       0.90      0.72      0.80      1147\n",
      "      korean       0.89      0.79      0.84       660\n",
      "     mexican       0.92      0.94      0.93      5148\n",
      "    moroccan       0.89      0.79      0.84       649\n",
      "     russian       0.81      0.47      0.59       384\n",
      " southern_us       0.73      0.85      0.78      3468\n",
      "     spanish       0.77      0.53      0.63       788\n",
      "        thai       0.83      0.80      0.82      1238\n",
      "  vietnamese       0.81      0.63      0.71       659\n",
      "\n",
      "    accuracy                           0.82     31819\n",
      "   macro avg       0.83      0.72      0.76     31819\n",
      "weighted avg       0.82      0.82      0.82     31819\n",
      "\n",
      "              precision    recall  f1-score   support\n",
      "\n",
      "   brazilian       0.70      0.43      0.54        97\n",
      "     british       0.59      0.32      0.42       152\n",
      "cajun_creole       0.78      0.62      0.69       317\n",
      "     chinese       0.78      0.87      0.82       513\n",
      "    filipino       0.74      0.56      0.64       149\n",
      "      french       0.59      0.64      0.62       546\n",
      "       greek       0.80      0.66      0.72       238\n",
      "      indian       0.86      0.91      0.89       606\n",
      "       irish       0.72      0.46      0.56       148\n",
      "     italian       0.77      0.89      0.83      1550\n",
      "    jamaican       0.88      0.64      0.74       106\n",
      "    japanese       0.84      0.66      0.74       276\n",
      "      korean       0.86      0.73      0.79       170\n",
      "     mexican       0.90      0.92      0.91      1290\n",
      "    moroccan       0.87      0.71      0.78       172\n",
      "     russian       0.65      0.33      0.44       105\n",
      " southern_us       0.65      0.80      0.72       852\n",
      "     spanish       0.64      0.45      0.53       201\n",
      "        thai       0.79      0.78      0.79       301\n",
      "  vietnamese       0.76      0.54      0.63       166\n",
      "\n",
      "    accuracy                           0.77      7955\n",
      "   macro avg       0.76      0.65      0.69      7955\n",
      "weighted avg       0.77      0.77      0.77      7955\n",
      "\n"
     ]
    }
   ],
   "source": [
    "print(classification_report(y_train,train_pred))\n",
    "print(classification_report(y_val,val_pred))"
   ]
  },
  {
   "cell_type": "code",
   "execution_count": 154,
   "metadata": {},
   "outputs": [],
   "source": [
    "# save the model to disk\n",
    "import pickle\n",
    "filename = 'ridge_model.pkl'\n",
    "pickle.dump(ridge_model, open(filename, 'wb'))"
   ]
  },
  {
   "cell_type": "code",
   "execution_count": 84,
   "metadata": {},
   "outputs": [],
   "source": [
    "df = pd.DataFrame(test_pred)\n",
    "df.to_csv(r'C:\\Users\\91989\\Documents\\PYTHON\\INSOFE_Internship\\TASK2\\ridge_pred.csv')"
   ]
  },
  {
   "cell_type": "markdown",
   "metadata": {},
   "source": [
    "# Lasso"
   ]
  },
  {
   "cell_type": "code",
   "execution_count": 72,
   "metadata": {},
   "outputs": [],
   "source": [
    "from sklearn.linear_model import RidgeClassifierCV"
   ]
  },
  {
   "cell_type": "code",
   "execution_count": 158,
   "metadata": {},
   "outputs": [],
   "source": [
    "lasso=Pipeline([\n",
    "        ('tfidf_vectorizer', TfidfVectorizer(lowercase=True)),\n",
    "        ('classifier', LogisticRegression(penalty='l1', solver='liblinear'))\n",
    "    ])"
   ]
  },
  {
   "cell_type": "code",
   "execution_count": 86,
   "metadata": {},
   "outputs": [],
   "source": [
    "train_data_new=train_data.sample(frac=0.8,random_state=200) #random state is a seed value\n",
    "val_data=train_data.drop(train_data_new.index)"
   ]
  },
  {
   "cell_type": "code",
   "execution_count": 87,
   "metadata": {},
   "outputs": [],
   "source": [
    "#Performing train val split on the data\n",
    "X_train, y_train = train_data_new.loc[:,train_data_new.columns!='cuisine'], train_data_new.loc[:,'cuisine']\n",
    "\n",
    "X_val, y_val = val_data.loc[:,val_data.columns!='cuisine'], val_data.loc[:,'cuisine']"
   ]
  },
  {
   "cell_type": "code",
   "execution_count": 168,
   "metadata": {},
   "outputs": [
    {
     "data": {
      "text/plain": [
       "Pipeline(memory=None,\n",
       "         steps=[('tfidf_vectorizer',\n",
       "                 TfidfVectorizer(analyzer='word', binary=False,\n",
       "                                 decode_error='strict',\n",
       "                                 dtype=<class 'numpy.float64'>,\n",
       "                                 encoding='utf-8', input='content',\n",
       "                                 lowercase=True, max_df=1.0, max_features=None,\n",
       "                                 min_df=1, ngram_range=(1, 1), norm='l2',\n",
       "                                 preprocessor=None, smooth_idf=True,\n",
       "                                 stop_words=None, strip_accents=None,\n",
       "                                 sublinear_tf=False,\n",
       "                                 token_pattern='(?u)\\\\b\\\\w\\\\w+\\\\b',\n",
       "                                 tokenizer=None, use_idf=True,\n",
       "                                 vocabulary=None)),\n",
       "                ('classifier',\n",
       "                 LogisticRegression(C=1.0, class_weight=None, dual=False,\n",
       "                                    fit_intercept=True, intercept_scaling=1,\n",
       "                                    l1_ratio=None, max_iter=100,\n",
       "                                    multi_class='auto', n_jobs=None,\n",
       "                                    penalty='l1', random_state=None,\n",
       "                                    solver='liblinear', tol=0.0001, verbose=0,\n",
       "                                    warm_start=False))],\n",
       "         verbose=False)"
      ]
     },
     "execution_count": 168,
     "metadata": {},
     "output_type": "execute_result"
    }
   ],
   "source": [
    "lasso.fit(X_train.ingredients,y_train)"
   ]
  },
  {
   "cell_type": "code",
   "execution_count": 89,
   "metadata": {},
   "outputs": [],
   "source": [
    "train_pred=clf.predict(X_train.ingredients)\n",
    "val_pred=clf.predict(X_val.ingredients)\n",
    "test_pred=clf.predict(test_data.ingredients)"
   ]
  },
  {
   "cell_type": "code",
   "execution_count": 90,
   "metadata": {},
   "outputs": [
    {
     "data": {
      "text/plain": [
       "(9944,)"
      ]
     },
     "execution_count": 90,
     "metadata": {},
     "output_type": "execute_result"
    }
   ],
   "source": [
    "test_pred.shape"
   ]
  },
  {
   "cell_type": "code",
   "execution_count": 91,
   "metadata": {},
   "outputs": [
    {
     "data": {
      "text/plain": [
       "array(['southern_us', 'moroccan', 'mexican', ..., 'chinese',\n",
       "       'southern_us', 'french'], dtype=object)"
      ]
     },
     "execution_count": 91,
     "metadata": {},
     "output_type": "execute_result"
    }
   ],
   "source": [
    "train_pred.shape\n",
    "train_pred"
   ]
  },
  {
   "cell_type": "code",
   "execution_count": 92,
   "metadata": {},
   "outputs": [
    {
     "data": {
      "text/plain": [
       "2     filipino\n",
       "3       indian\n",
       "4       indian\n",
       "5     jamaican\n",
       "17     italian\n",
       "Name: cuisine, dtype: object"
      ]
     },
     "execution_count": 92,
     "metadata": {},
     "output_type": "execute_result"
    }
   ],
   "source": [
    "y_val.head()"
   ]
  },
  {
   "cell_type": "code",
   "execution_count": 93,
   "metadata": {},
   "outputs": [],
   "source": [
    "from sklearn.metrics import classification_report"
   ]
  },
  {
   "cell_type": "code",
   "execution_count": 94,
   "metadata": {
    "scrolled": true
   },
   "outputs": [
    {
     "name": "stdout",
     "output_type": "stream",
     "text": [
      "              precision    recall  f1-score   support\n",
      "\n",
      "   brazilian       0.84      0.56      0.67       370\n",
      "     british       0.71      0.49      0.58       652\n",
      "cajun_creole       0.83      0.73      0.77      1229\n",
      "     chinese       0.82      0.89      0.85      2160\n",
      "    filipino       0.84      0.67      0.75       606\n",
      "      french       0.66      0.70      0.68      2100\n",
      "       greek       0.87      0.72      0.79       937\n",
      "      indian       0.88      0.93      0.90      2397\n",
      "       irish       0.79      0.52      0.63       519\n",
      "     italian       0.82      0.92      0.87      6288\n",
      "    jamaican       0.91      0.72      0.81       420\n",
      "    japanese       0.90      0.72      0.80      1147\n",
      "      korean       0.89      0.79      0.84       660\n",
      "     mexican       0.92      0.94      0.93      5148\n",
      "    moroccan       0.89      0.79      0.84       649\n",
      "     russian       0.81      0.47      0.59       384\n",
      " southern_us       0.73      0.85      0.78      3468\n",
      "     spanish       0.77      0.53      0.63       788\n",
      "        thai       0.83      0.80      0.82      1238\n",
      "  vietnamese       0.81      0.63      0.71       659\n",
      "\n",
      "    accuracy                           0.82     31819\n",
      "   macro avg       0.83      0.72      0.76     31819\n",
      "weighted avg       0.82      0.82      0.82     31819\n",
      "\n",
      "              precision    recall  f1-score   support\n",
      "\n",
      "   brazilian       0.70      0.43      0.54        97\n",
      "     british       0.59      0.32      0.42       152\n",
      "cajun_creole       0.78      0.62      0.69       317\n",
      "     chinese       0.78      0.87      0.82       513\n",
      "    filipino       0.74      0.56      0.64       149\n",
      "      french       0.59      0.64      0.62       546\n",
      "       greek       0.80      0.66      0.72       238\n",
      "      indian       0.86      0.91      0.89       606\n",
      "       irish       0.72      0.46      0.56       148\n",
      "     italian       0.77      0.89      0.83      1550\n",
      "    jamaican       0.88      0.64      0.74       106\n",
      "    japanese       0.84      0.66      0.74       276\n",
      "      korean       0.86      0.73      0.79       170\n",
      "     mexican       0.90      0.92      0.91      1290\n",
      "    moroccan       0.87      0.71      0.78       172\n",
      "     russian       0.65      0.33      0.44       105\n",
      " southern_us       0.65      0.80      0.72       852\n",
      "     spanish       0.64      0.45      0.53       201\n",
      "        thai       0.79      0.78      0.79       301\n",
      "  vietnamese       0.76      0.54      0.63       166\n",
      "\n",
      "    accuracy                           0.77      7955\n",
      "   macro avg       0.76      0.65      0.69      7955\n",
      "weighted avg       0.77      0.77      0.77      7955\n",
      "\n"
     ]
    }
   ],
   "source": [
    "print(classification_report(y_train,train_pred))\n",
    "print(classification_report(y_val,val_pred))"
   ]
  },
  {
   "cell_type": "code",
   "execution_count": 159,
   "metadata": {},
   "outputs": [],
   "source": [
    "# save the model to disk\n",
    "import pickle\n",
    "filename = 'lasso_pipeline.pkl'\n",
    "pickle.dump(lasso, open(filename, 'wb'))"
   ]
  },
  {
   "cell_type": "markdown",
   "metadata": {},
   "source": [
    "# Naive bayes"
   ]
  },
  {
   "cell_type": "code",
   "execution_count": 169,
   "metadata": {},
   "outputs": [],
   "source": [
    "naive=GaussianNB()"
   ]
  },
  {
   "cell_type": "code",
   "execution_count": 222,
   "metadata": {},
   "outputs": [
    {
     "data": {
      "text/plain": [
       "GaussianNB(priors=None, var_smoothing=1e-09)"
      ]
     },
     "execution_count": 222,
     "metadata": {},
     "output_type": "execute_result"
    }
   ],
   "source": [
    "naive.fit(X_train,y_train)"
   ]
  },
  {
   "cell_type": "code",
   "execution_count": 224,
   "metadata": {},
   "outputs": [
    {
     "data": {
      "text/html": [
       "<div>\n",
       "<style scoped>\n",
       "    .dataframe tbody tr th:only-of-type {\n",
       "        vertical-align: middle;\n",
       "    }\n",
       "\n",
       "    .dataframe tbody tr th {\n",
       "        vertical-align: top;\n",
       "    }\n",
       "\n",
       "    .dataframe thead th {\n",
       "        text-align: right;\n",
       "    }\n",
       "</style>\n",
       "<table border=\"1\" class=\"dataframe\">\n",
       "  <thead>\n",
       "    <tr style=\"text-align: right;\">\n",
       "      <th></th>\n",
       "      <th>00</th>\n",
       "      <th>10</th>\n",
       "      <th>100</th>\n",
       "      <th>14</th>\n",
       "      <th>15</th>\n",
       "      <th>25</th>\n",
       "      <th>33</th>\n",
       "      <th>40</th>\n",
       "      <th>43</th>\n",
       "      <th>50</th>\n",
       "      <th>...</th>\n",
       "      <th>za</th>\n",
       "      <th>zabaglione</th>\n",
       "      <th>zatarains</th>\n",
       "      <th>zatarainâ</th>\n",
       "      <th>zero</th>\n",
       "      <th>zest</th>\n",
       "      <th>zesty</th>\n",
       "      <th>zinfandel</th>\n",
       "      <th>ziti</th>\n",
       "      <th>zucchini</th>\n",
       "    </tr>\n",
       "  </thead>\n",
       "  <tbody>\n",
       "    <tr>\n",
       "      <th>8937</th>\n",
       "      <td>0</td>\n",
       "      <td>0</td>\n",
       "      <td>0</td>\n",
       "      <td>0</td>\n",
       "      <td>0</td>\n",
       "      <td>0</td>\n",
       "      <td>0</td>\n",
       "      <td>0</td>\n",
       "      <td>0</td>\n",
       "      <td>0</td>\n",
       "      <td>...</td>\n",
       "      <td>0</td>\n",
       "      <td>0</td>\n",
       "      <td>0</td>\n",
       "      <td>0</td>\n",
       "      <td>0</td>\n",
       "      <td>0</td>\n",
       "      <td>0</td>\n",
       "      <td>0</td>\n",
       "      <td>0</td>\n",
       "      <td>0</td>\n",
       "    </tr>\n",
       "    <tr>\n",
       "      <th>29679</th>\n",
       "      <td>0</td>\n",
       "      <td>0</td>\n",
       "      <td>0</td>\n",
       "      <td>0</td>\n",
       "      <td>0</td>\n",
       "      <td>0</td>\n",
       "      <td>0</td>\n",
       "      <td>0</td>\n",
       "      <td>0</td>\n",
       "      <td>0</td>\n",
       "      <td>...</td>\n",
       "      <td>0</td>\n",
       "      <td>0</td>\n",
       "      <td>0</td>\n",
       "      <td>0</td>\n",
       "      <td>0</td>\n",
       "      <td>0</td>\n",
       "      <td>0</td>\n",
       "      <td>0</td>\n",
       "      <td>0</td>\n",
       "      <td>0</td>\n",
       "    </tr>\n",
       "    <tr>\n",
       "      <th>15616</th>\n",
       "      <td>0</td>\n",
       "      <td>0</td>\n",
       "      <td>0</td>\n",
       "      <td>0</td>\n",
       "      <td>0</td>\n",
       "      <td>0</td>\n",
       "      <td>0</td>\n",
       "      <td>0</td>\n",
       "      <td>0</td>\n",
       "      <td>0</td>\n",
       "      <td>...</td>\n",
       "      <td>0</td>\n",
       "      <td>0</td>\n",
       "      <td>0</td>\n",
       "      <td>0</td>\n",
       "      <td>0</td>\n",
       "      <td>0</td>\n",
       "      <td>0</td>\n",
       "      <td>0</td>\n",
       "      <td>0</td>\n",
       "      <td>0</td>\n",
       "    </tr>\n",
       "    <tr>\n",
       "      <th>3239</th>\n",
       "      <td>0</td>\n",
       "      <td>0</td>\n",
       "      <td>0</td>\n",
       "      <td>0</td>\n",
       "      <td>0</td>\n",
       "      <td>0</td>\n",
       "      <td>0</td>\n",
       "      <td>0</td>\n",
       "      <td>0</td>\n",
       "      <td>0</td>\n",
       "      <td>...</td>\n",
       "      <td>0</td>\n",
       "      <td>0</td>\n",
       "      <td>0</td>\n",
       "      <td>0</td>\n",
       "      <td>0</td>\n",
       "      <td>0</td>\n",
       "      <td>0</td>\n",
       "      <td>0</td>\n",
       "      <td>0</td>\n",
       "      <td>0</td>\n",
       "    </tr>\n",
       "    <tr>\n",
       "      <th>17395</th>\n",
       "      <td>0</td>\n",
       "      <td>0</td>\n",
       "      <td>0</td>\n",
       "      <td>0</td>\n",
       "      <td>0</td>\n",
       "      <td>0</td>\n",
       "      <td>0</td>\n",
       "      <td>0</td>\n",
       "      <td>0</td>\n",
       "      <td>0</td>\n",
       "      <td>...</td>\n",
       "      <td>0</td>\n",
       "      <td>0</td>\n",
       "      <td>0</td>\n",
       "      <td>0</td>\n",
       "      <td>0</td>\n",
       "      <td>0</td>\n",
       "      <td>0</td>\n",
       "      <td>0</td>\n",
       "      <td>0</td>\n",
       "      <td>0</td>\n",
       "    </tr>\n",
       "  </tbody>\n",
       "</table>\n",
       "<p>5 rows × 3166 columns</p>\n",
       "</div>"
      ],
      "text/plain": [
       "       00  10  100  14  15  25  33  40  43  50  ...  za  zabaglione  \\\n",
       "8937    0   0    0   0   0   0   0   0   0   0  ...   0           0   \n",
       "29679   0   0    0   0   0   0   0   0   0   0  ...   0           0   \n",
       "15616   0   0    0   0   0   0   0   0   0   0  ...   0           0   \n",
       "3239    0   0    0   0   0   0   0   0   0   0  ...   0           0   \n",
       "17395   0   0    0   0   0   0   0   0   0   0  ...   0           0   \n",
       "\n",
       "       zatarains  zatarainâ  zero  zest  zesty  zinfandel  ziti  zucchini  \n",
       "8937           0          0     0     0      0          0     0         0  \n",
       "29679          0          0     0     0      0          0     0         0  \n",
       "15616          0          0     0     0      0          0     0         0  \n",
       "3239           0          0     0     0      0          0     0         0  \n",
       "17395          0          0     0     0      0          0     0         0  \n",
       "\n",
       "[5 rows x 3166 columns]"
      ]
     },
     "execution_count": 224,
     "metadata": {},
     "output_type": "execute_result"
    }
   ],
   "source": [
    "X_train.head()"
   ]
  },
  {
   "cell_type": "code",
   "execution_count": 225,
   "metadata": {},
   "outputs": [
    {
     "data": {
      "text/html": [
       "<div>\n",
       "<style scoped>\n",
       "    .dataframe tbody tr th:only-of-type {\n",
       "        vertical-align: middle;\n",
       "    }\n",
       "\n",
       "    .dataframe tbody tr th {\n",
       "        vertical-align: top;\n",
       "    }\n",
       "\n",
       "    .dataframe thead th {\n",
       "        text-align: right;\n",
       "    }\n",
       "</style>\n",
       "<table border=\"1\" class=\"dataframe\">\n",
       "  <thead>\n",
       "    <tr style=\"text-align: right;\">\n",
       "      <th></th>\n",
       "      <th>id</th>\n",
       "      <th>ingredients</th>\n",
       "    </tr>\n",
       "  </thead>\n",
       "  <tbody>\n",
       "    <tr>\n",
       "      <th>0</th>\n",
       "      <td>18009</td>\n",
       "      <td>baking powder eggs all-purpose flour raisins m...</td>\n",
       "    </tr>\n",
       "    <tr>\n",
       "      <th>1</th>\n",
       "      <td>28583</td>\n",
       "      <td>sugar egg yolks corn starch cream of tartar ba...</td>\n",
       "    </tr>\n",
       "    <tr>\n",
       "      <th>2</th>\n",
       "      <td>41580</td>\n",
       "      <td>sausage links fennel bulb fronds olive oil cub...</td>\n",
       "    </tr>\n",
       "    <tr>\n",
       "      <th>3</th>\n",
       "      <td>29752</td>\n",
       "      <td>meat cuts file powder smoked sausage okra shri...</td>\n",
       "    </tr>\n",
       "    <tr>\n",
       "      <th>4</th>\n",
       "      <td>35687</td>\n",
       "      <td>ground black pepper salt sausage casings leeks...</td>\n",
       "    </tr>\n",
       "  </tbody>\n",
       "</table>\n",
       "</div>"
      ],
      "text/plain": [
       "      id                                        ingredients\n",
       "0  18009  baking powder eggs all-purpose flour raisins m...\n",
       "1  28583  sugar egg yolks corn starch cream of tartar ba...\n",
       "2  41580  sausage links fennel bulb fronds olive oil cub...\n",
       "3  29752  meat cuts file powder smoked sausage okra shri...\n",
       "4  35687  ground black pepper salt sausage casings leeks..."
      ]
     },
     "execution_count": 225,
     "metadata": {},
     "output_type": "execute_result"
    }
   ],
   "source": [
    "test_data.head()"
   ]
  },
  {
   "cell_type": "code",
   "execution_count": 227,
   "metadata": {},
   "outputs": [],
   "source": [
    "train_pred=naive.predict(X_train)\n",
    "val_pred=naive.predict(X_val)\n",
    "test_pred=naive.predict(test_data1)"
   ]
  },
  {
   "cell_type": "code",
   "execution_count": 228,
   "metadata": {},
   "outputs": [
    {
     "data": {
      "text/plain": [
       "(9944,)"
      ]
     },
     "execution_count": 228,
     "metadata": {},
     "output_type": "execute_result"
    }
   ],
   "source": [
    "test_pred.shape"
   ]
  },
  {
   "cell_type": "code",
   "execution_count": 229,
   "metadata": {},
   "outputs": [
    {
     "data": {
      "text/plain": [
       "array(['jamaican', 'russian', 'brazilian', ..., 'vietnamese', 'irish',\n",
       "       'cajun_creole'], dtype='<U12')"
      ]
     },
     "execution_count": 229,
     "metadata": {},
     "output_type": "execute_result"
    }
   ],
   "source": [
    "train_pred.shape\n",
    "train_pred"
   ]
  },
  {
   "cell_type": "code",
   "execution_count": 230,
   "metadata": {},
   "outputs": [
    {
     "data": {
      "text/html": [
       "<div>\n",
       "<style scoped>\n",
       "    .dataframe tbody tr th:only-of-type {\n",
       "        vertical-align: middle;\n",
       "    }\n",
       "\n",
       "    .dataframe tbody tr th {\n",
       "        vertical-align: top;\n",
       "    }\n",
       "\n",
       "    .dataframe thead th {\n",
       "        text-align: right;\n",
       "    }\n",
       "</style>\n",
       "<table border=\"1\" class=\"dataframe\">\n",
       "  <thead>\n",
       "    <tr style=\"text-align: right;\">\n",
       "      <th></th>\n",
       "      <th>cuisine</th>\n",
       "    </tr>\n",
       "  </thead>\n",
       "  <tbody>\n",
       "    <tr>\n",
       "      <th>2</th>\n",
       "      <td>filipino</td>\n",
       "    </tr>\n",
       "    <tr>\n",
       "      <th>3</th>\n",
       "      <td>indian</td>\n",
       "    </tr>\n",
       "    <tr>\n",
       "      <th>4</th>\n",
       "      <td>indian</td>\n",
       "    </tr>\n",
       "    <tr>\n",
       "      <th>5</th>\n",
       "      <td>jamaican</td>\n",
       "    </tr>\n",
       "    <tr>\n",
       "      <th>11</th>\n",
       "      <td>chinese</td>\n",
       "    </tr>\n",
       "  </tbody>\n",
       "</table>\n",
       "</div>"
      ],
      "text/plain": [
       "     cuisine\n",
       "2   filipino\n",
       "3     indian\n",
       "4     indian\n",
       "5   jamaican\n",
       "11   chinese"
      ]
     },
     "execution_count": 230,
     "metadata": {},
     "output_type": "execute_result"
    }
   ],
   "source": [
    "y_val.head()"
   ]
  },
  {
   "cell_type": "code",
   "execution_count": 93,
   "metadata": {},
   "outputs": [],
   "source": [
    "from sklearn.metrics import classification_report"
   ]
  },
  {
   "cell_type": "code",
   "execution_count": 231,
   "metadata": {
    "scrolled": true
   },
   "outputs": [
    {
     "name": "stdout",
     "output_type": "stream",
     "text": [
      "              precision    recall  f1-score   support\n",
      "\n",
      "   brazilian       0.12      0.80      0.20       326\n",
      "     british       0.30      0.41      0.35       565\n",
      "cajun_creole       0.37      0.57      0.45      1067\n",
      "     chinese       0.82      0.19      0.31      1915\n",
      "    filipino       0.22      0.53      0.31       520\n",
      "      french       0.48      0.23      0.31      1843\n",
      "       greek       0.22      0.33      0.26       813\n",
      "      indian       0.87      0.36      0.51      2126\n",
      "       irish       0.25      0.50      0.33       458\n",
      "     italian       0.99      0.18      0.30      5472\n",
      "    jamaican       0.09      0.98      0.17       358\n",
      "    japanese       0.77      0.35      0.49      1015\n",
      "      korean       0.21      0.99      0.35       559\n",
      "     mexican       0.97      0.34      0.50      4504\n",
      "    moroccan       0.22      0.81      0.35       563\n",
      "     russian       0.13      0.81      0.23       336\n",
      " southern_us       0.77      0.18      0.29      3048\n",
      "     spanish       0.15      0.34      0.21       687\n",
      "        thai       0.47      0.28      0.35      1094\n",
      "  vietnamese       0.33      0.59      0.42       573\n",
      "\n",
      "    accuracy                           0.34     27842\n",
      "   macro avg       0.44      0.49      0.33     27842\n",
      "weighted avg       0.70      0.34      0.36     27842\n",
      "\n",
      "              precision    recall  f1-score   support\n",
      "\n",
      "   brazilian       0.08      0.56      0.14       141\n",
      "     british       0.13      0.17      0.15       239\n",
      "cajun_creole       0.29      0.41      0.34       479\n",
      "     chinese       0.46      0.10      0.17       758\n",
      "    filipino       0.17      0.38      0.24       235\n",
      "      french       0.31      0.16      0.21       803\n",
      "       greek       0.14      0.20      0.16       362\n",
      "      indian       0.78      0.35      0.49       877\n",
      "       irish       0.12      0.22      0.16       209\n",
      "     italian       0.77      0.16      0.26      2366\n",
      "    jamaican       0.07      0.73      0.13       168\n",
      "    japanese       0.55      0.25      0.34       408\n",
      "      korean       0.21      0.82      0.33       271\n",
      "     mexican       0.86      0.31      0.46      1934\n",
      "    moroccan       0.21      0.67      0.32       258\n",
      "     russian       0.09      0.47      0.15       153\n",
      " southern_us       0.49      0.13      0.20      1272\n",
      "     spanish       0.08      0.20      0.12       302\n",
      "        thai       0.30      0.19      0.23       445\n",
      "  vietnamese       0.21      0.37      0.27       252\n",
      "\n",
      "    accuracy                           0.26     11932\n",
      "   macro avg       0.32      0.34      0.24     11932\n",
      "weighted avg       0.53      0.26      0.29     11932\n",
      "\n"
     ]
    }
   ],
   "source": [
    "print(classification_report(y_train,train_pred))\n",
    "print(classification_report(y_val,val_pred))"
   ]
  },
  {
   "cell_type": "markdown",
   "metadata": {},
   "source": [
    "# kNN"
   ]
  },
  {
   "cell_type": "code",
   "execution_count": 312,
   "metadata": {},
   "outputs": [],
   "source": [
    "from sklearn.neighbors import KNeighborsClassifier"
   ]
  },
  {
   "cell_type": "code",
   "execution_count": 313,
   "metadata": {},
   "outputs": [],
   "source": [
    "from sklearn.linear_model import RidgeClassifierCV"
   ]
  },
  {
   "cell_type": "code",
   "execution_count": 457,
   "metadata": {},
   "outputs": [],
   "source": [
    "knn=KNeighborsClassifier(algorithm = 'brute',n_neighbors=5,metric=\"euclidean\")"
   ]
  },
  {
   "cell_type": "code",
   "execution_count": 414,
   "metadata": {},
   "outputs": [
    {
     "data": {
      "text/plain": [
       "(31819,)"
      ]
     },
     "execution_count": 414,
     "metadata": {},
     "output_type": "execute_result"
    }
   ],
   "source": [
    "y_train.shape"
   ]
  },
  {
   "cell_type": "code",
   "execution_count": 458,
   "metadata": {},
   "outputs": [
    {
     "data": {
      "text/plain": [
       "KNeighborsClassifier(algorithm='brute', leaf_size=30, metric='euclidean',\n",
       "                     metric_params=None, n_jobs=None, n_neighbors=5, p=2,\n",
       "                     weights='uniform')"
      ]
     },
     "execution_count": 458,
     "metadata": {},
     "output_type": "execute_result"
    }
   ],
   "source": [
    "knn.fit(X_train,y_train)"
   ]
  },
  {
   "cell_type": "code",
   "execution_count": 402,
   "metadata": {},
   "outputs": [
    {
     "data": {
      "text/html": [
       "<div>\n",
       "<style scoped>\n",
       "    .dataframe tbody tr th:only-of-type {\n",
       "        vertical-align: middle;\n",
       "    }\n",
       "\n",
       "    .dataframe tbody tr th {\n",
       "        vertical-align: top;\n",
       "    }\n",
       "\n",
       "    .dataframe thead th {\n",
       "        text-align: right;\n",
       "    }\n",
       "</style>\n",
       "<table border=\"1\" class=\"dataframe\">\n",
       "  <thead>\n",
       "    <tr style=\"text-align: right;\">\n",
       "      <th></th>\n",
       "      <th>id</th>\n",
       "      <th>ingredients</th>\n",
       "    </tr>\n",
       "  </thead>\n",
       "  <tbody>\n",
       "    <tr>\n",
       "      <th>0</th>\n",
       "      <td>18009</td>\n",
       "      <td>baking powder eggs all-purpose flour raisins m...</td>\n",
       "    </tr>\n",
       "    <tr>\n",
       "      <th>1</th>\n",
       "      <td>28583</td>\n",
       "      <td>sugar egg yolks corn starch cream of tartar ba...</td>\n",
       "    </tr>\n",
       "    <tr>\n",
       "      <th>2</th>\n",
       "      <td>41580</td>\n",
       "      <td>sausage links fennel bulb fronds olive oil cub...</td>\n",
       "    </tr>\n",
       "    <tr>\n",
       "      <th>3</th>\n",
       "      <td>29752</td>\n",
       "      <td>meat cuts file powder smoked sausage okra shri...</td>\n",
       "    </tr>\n",
       "    <tr>\n",
       "      <th>4</th>\n",
       "      <td>35687</td>\n",
       "      <td>ground black pepper salt sausage casings leeks...</td>\n",
       "    </tr>\n",
       "  </tbody>\n",
       "</table>\n",
       "</div>"
      ],
      "text/plain": [
       "      id                                        ingredients\n",
       "0  18009  baking powder eggs all-purpose flour raisins m...\n",
       "1  28583  sugar egg yolks corn starch cream of tartar ba...\n",
       "2  41580  sausage links fennel bulb fronds olive oil cub...\n",
       "3  29752  meat cuts file powder smoked sausage okra shri...\n",
       "4  35687  ground black pepper salt sausage casings leeks..."
      ]
     },
     "execution_count": 402,
     "metadata": {},
     "output_type": "execute_result"
    }
   ],
   "source": [
    "test_data.head()"
   ]
  },
  {
   "cell_type": "code",
   "execution_count": 459,
   "metadata": {},
   "outputs": [],
   "source": [
    "train_pred=knn.predict(X_train)\n",
    "val_pred=knn.predict(X_val)\n"
   ]
  },
  {
   "cell_type": "code",
   "execution_count": 443,
   "metadata": {},
   "outputs": [],
   "source": [
    "test_pred=knn.predict(test_data1)"
   ]
  },
  {
   "cell_type": "code",
   "execution_count": 409,
   "metadata": {},
   "outputs": [],
   "source": [
    "from sklearn.metrics import classification_report"
   ]
  },
  {
   "cell_type": "code",
   "execution_count": 460,
   "metadata": {
    "scrolled": true
   },
   "outputs": [
    {
     "name": "stdout",
     "output_type": "stream",
     "text": [
      "              precision    recall  f1-score   support\n",
      "\n",
      "   brazilian       0.52      0.71      0.60       326\n",
      "     british       0.54      0.57      0.56       565\n",
      "cajun_creole       0.72      0.69      0.70      1067\n",
      "     chinese       0.76      0.85      0.80      1915\n",
      "    filipino       0.57      0.72      0.64       520\n",
      "      french       0.57      0.68      0.62      1843\n",
      "       greek       0.70      0.65      0.67       813\n",
      "      indian       0.79      0.82      0.80      2126\n",
      "       irish       0.75      0.51      0.61       458\n",
      "     italian       0.75      0.89      0.81      5472\n",
      "    jamaican       0.84      0.57      0.68       358\n",
      "    japanese       0.75      0.66      0.70      1015\n",
      "      korean       0.79      0.68      0.73       559\n",
      "     mexican       0.86      0.87      0.86      4504\n",
      "    moroccan       0.76      0.53      0.63       563\n",
      "     russian       0.82      0.35      0.49       336\n",
      " southern_us       0.78      0.71      0.74      3048\n",
      "     spanish       0.70      0.37      0.49       687\n",
      "        thai       0.89      0.64      0.75      1094\n",
      "  vietnamese       0.78      0.46      0.58       573\n",
      "\n",
      "    accuracy                           0.75     27842\n",
      "   macro avg       0.73      0.65      0.67     27842\n",
      "weighted avg       0.76      0.75      0.75     27842\n",
      "\n",
      "              precision    recall  f1-score   support\n",
      "\n",
      "   brazilian       0.37      0.49      0.42       141\n",
      "     british       0.28      0.28      0.28       239\n",
      "cajun_creole       0.61      0.54      0.57       479\n",
      "     chinese       0.66      0.75      0.70       758\n",
      "    filipino       0.39      0.56      0.46       235\n",
      "      french       0.40      0.49      0.44       803\n",
      "       greek       0.55      0.52      0.54       362\n",
      "      indian       0.66      0.73      0.69       877\n",
      "       irish       0.49      0.34      0.40       209\n",
      "     italian       0.65      0.81      0.72      2366\n",
      "    jamaican       0.67      0.43      0.52       168\n",
      "    japanese       0.58      0.51      0.55       408\n",
      "      korean       0.67      0.55      0.61       271\n",
      "     mexican       0.79      0.80      0.80      1934\n",
      "    moroccan       0.72      0.38      0.50       258\n",
      "     russian       0.44      0.18      0.25       153\n",
      " southern_us       0.65      0.58      0.61      1272\n",
      "     spanish       0.50      0.23      0.31       302\n",
      "        thai       0.81      0.49      0.61       445\n",
      "  vietnamese       0.58      0.34      0.43       252\n",
      "\n",
      "    accuracy                           0.63     11932\n",
      "   macro avg       0.57      0.50      0.52     11932\n",
      "weighted avg       0.63      0.63      0.62     11932\n",
      "\n"
     ]
    }
   ],
   "source": [
    "print(classification_report(y_train,train_pred))\n",
    "print(classification_report(y_val,val_pred))"
   ]
  },
  {
   "cell_type": "code",
   "execution_count": 444,
   "metadata": {},
   "outputs": [],
   "source": [
    "df = pd.DataFrame(test_pred)\n",
    "df.to_csv(r'C:\\Users\\91989\\Documents\\PYTHON\\INSOFE_Internship\\TASK2\\knn_1_pred.csv')"
   ]
  },
  {
   "cell_type": "markdown",
   "metadata": {},
   "source": [
    "# SVM\n"
   ]
  },
  {
   "cell_type": "code",
   "execution_count": 1,
   "metadata": {},
   "outputs": [],
   "source": [
    "from sklearn.svm import SVC"
   ]
  },
  {
   "cell_type": "code",
   "execution_count": 5,
   "metadata": {},
   "outputs": [],
   "source": [
    "svc_model=SVC()\n",
    "#svc_line.set_params(classifier__kernel='linear',classifier__C=1,classifier__random_state=123)\n",
    "\n"
   ]
  },
  {
   "cell_type": "code",
   "execution_count": 69,
   "metadata": {
    "scrolled": false
   },
   "outputs": [
    {
     "data": {
      "text/plain": [
       "SVC(C=1.0, break_ties=False, cache_size=200, class_weight=None, coef0=0.0,\n",
       "    decision_function_shape='ovr', degree=3, gamma='scale', kernel='rbf',\n",
       "    max_iter=-1, probability=False, random_state=None, shrinking=True,\n",
       "    tol=0.001, verbose=False)"
      ]
     },
     "execution_count": 69,
     "metadata": {},
     "output_type": "execute_result"
    }
   ],
   "source": [
    "svc_model.fit(X_train,y_train)"
   ]
  },
  {
   "cell_type": "code",
   "execution_count": null,
   "metadata": {},
   "outputs": [],
   "source": []
  },
  {
   "cell_type": "code",
   "execution_count": 402,
   "metadata": {},
   "outputs": [
    {
     "data": {
      "text/html": [
       "<div>\n",
       "<style scoped>\n",
       "    .dataframe tbody tr th:only-of-type {\n",
       "        vertical-align: middle;\n",
       "    }\n",
       "\n",
       "    .dataframe tbody tr th {\n",
       "        vertical-align: top;\n",
       "    }\n",
       "\n",
       "    .dataframe thead th {\n",
       "        text-align: right;\n",
       "    }\n",
       "</style>\n",
       "<table border=\"1\" class=\"dataframe\">\n",
       "  <thead>\n",
       "    <tr style=\"text-align: right;\">\n",
       "      <th></th>\n",
       "      <th>id</th>\n",
       "      <th>ingredients</th>\n",
       "    </tr>\n",
       "  </thead>\n",
       "  <tbody>\n",
       "    <tr>\n",
       "      <th>0</th>\n",
       "      <td>18009</td>\n",
       "      <td>baking powder eggs all-purpose flour raisins m...</td>\n",
       "    </tr>\n",
       "    <tr>\n",
       "      <th>1</th>\n",
       "      <td>28583</td>\n",
       "      <td>sugar egg yolks corn starch cream of tartar ba...</td>\n",
       "    </tr>\n",
       "    <tr>\n",
       "      <th>2</th>\n",
       "      <td>41580</td>\n",
       "      <td>sausage links fennel bulb fronds olive oil cub...</td>\n",
       "    </tr>\n",
       "    <tr>\n",
       "      <th>3</th>\n",
       "      <td>29752</td>\n",
       "      <td>meat cuts file powder smoked sausage okra shri...</td>\n",
       "    </tr>\n",
       "    <tr>\n",
       "      <th>4</th>\n",
       "      <td>35687</td>\n",
       "      <td>ground black pepper salt sausage casings leeks...</td>\n",
       "    </tr>\n",
       "  </tbody>\n",
       "</table>\n",
       "</div>"
      ],
      "text/plain": [
       "      id                                        ingredients\n",
       "0  18009  baking powder eggs all-purpose flour raisins m...\n",
       "1  28583  sugar egg yolks corn starch cream of tartar ba...\n",
       "2  41580  sausage links fennel bulb fronds olive oil cub...\n",
       "3  29752  meat cuts file powder smoked sausage okra shri...\n",
       "4  35687  ground black pepper salt sausage casings leeks..."
      ]
     },
     "execution_count": 402,
     "metadata": {},
     "output_type": "execute_result"
    }
   ],
   "source": [
    "test_data.head()"
   ]
  },
  {
   "cell_type": "code",
   "execution_count": 72,
   "metadata": {},
   "outputs": [],
   "source": [
    "train_pred=svc_model.predict(X_train)\n",
    "val_pred=svc_model.predict(X_val)\n"
   ]
  },
  {
   "cell_type": "code",
   "execution_count": 75,
   "metadata": {},
   "outputs": [],
   "source": [
    "test_pred=svc_model.predict(test_data1)"
   ]
  },
  {
   "cell_type": "code",
   "execution_count": 73,
   "metadata": {},
   "outputs": [],
   "source": [
    "from sklearn.metrics import classification_report"
   ]
  },
  {
   "cell_type": "code",
   "execution_count": 74,
   "metadata": {
    "scrolled": true
   },
   "outputs": [
    {
     "name": "stdout",
     "output_type": "stream",
     "text": [
      "              precision    recall  f1-score   support\n",
      "\n",
      "   brazilian       0.93      0.72      0.81       326\n",
      "     british       0.86      0.61      0.71       565\n",
      "cajun_creole       0.92      0.85      0.88      1067\n",
      "     chinese       0.87      0.94      0.90      1915\n",
      "    filipino       0.90      0.74      0.81       520\n",
      "      french       0.77      0.81      0.79      1843\n",
      "       greek       0.94      0.80      0.87       813\n",
      "      indian       0.92      0.95      0.94      2126\n",
      "       irish       0.91      0.62      0.74       458\n",
      "     italian       0.85      0.96      0.90      5472\n",
      "    jamaican       1.00      0.79      0.88       358\n",
      "    japanese       0.94      0.79      0.86      1015\n",
      "      korean       0.96      0.83      0.89       559\n",
      "     mexican       0.94      0.96      0.95      4504\n",
      "    moroccan       0.95      0.86      0.91       563\n",
      "     russian       0.98      0.57      0.73       336\n",
      " southern_us       0.81      0.92      0.86      3048\n",
      "     spanish       0.91      0.62      0.74       687\n",
      "        thai       0.93      0.90      0.91      1094\n",
      "  vietnamese       0.94      0.76      0.84       573\n",
      "\n",
      "    accuracy                           0.88     27842\n",
      "   macro avg       0.91      0.80      0.85     27842\n",
      "weighted avg       0.89      0.88      0.88     27842\n",
      "\n",
      "              precision    recall  f1-score   support\n",
      "\n",
      "   brazilian       0.77      0.49      0.60       141\n",
      "     british       0.60      0.27      0.37       239\n",
      "cajun_creole       0.82      0.70      0.76       479\n",
      "     chinese       0.74      0.89      0.81       758\n",
      "    filipino       0.75      0.52      0.61       235\n",
      "      french       0.59      0.62      0.60       803\n",
      "       greek       0.83      0.66      0.73       362\n",
      "      indian       0.85      0.91      0.88       877\n",
      "       irish       0.75      0.43      0.54       209\n",
      "     italian       0.74      0.91      0.82      2366\n",
      "    jamaican       0.97      0.62      0.76       168\n",
      "    japanese       0.83      0.58      0.68       408\n",
      "      korean       0.90      0.70      0.79       271\n",
      "     mexican       0.88      0.92      0.90      1934\n",
      "    moroccan       0.90      0.70      0.79       258\n",
      "     russian       0.69      0.24      0.35       153\n",
      " southern_us       0.65      0.80      0.71      1272\n",
      "     spanish       0.73      0.38      0.50       302\n",
      "        thai       0.79      0.78      0.78       445\n",
      "  vietnamese       0.77      0.48      0.59       252\n",
      "\n",
      "    accuracy                           0.77     11932\n",
      "   macro avg       0.78      0.63      0.68     11932\n",
      "weighted avg       0.77      0.77      0.76     11932\n",
      "\n"
     ]
    }
   ],
   "source": [
    "print(classification_report(y_train,train_pred))\n",
    "print(classification_report(y_val,val_pred))"
   ]
  },
  {
   "cell_type": "code",
   "execution_count": 99,
   "metadata": {},
   "outputs": [],
   "source": [
    "from sklearn.model_selection import GridSearchCV, RandomizedSearchCV"
   ]
  },
  {
   "cell_type": "code",
   "execution_count": 76,
   "metadata": {},
   "outputs": [],
   "source": [
    "df = pd.DataFrame(test_pred)\n",
    "df.to_csv(r'C:\\Users\\91989\\Documents\\PYTHON\\INSOFE_Internship\\TASK2\\svm_pred.csv')"
   ]
  },
  {
   "cell_type": "code",
   "execution_count": 144,
   "metadata": {},
   "outputs": [],
   "source": [
    "clf_svc=Pipeline(steps=[('tfidf_vectorizer', TfidfVectorizer(lowercase=True)),('classifier',SVC())])\n",
    "\n",
    "#svc_param_grid={'classifier__C':[0.001,0.01,0.1,1,10,100],'classifier__gamma':[0,0.0001,0.01,0.1,1,10,100],\n",
    " #              \"classifier__kernel\":['linear','rbf','poly']}"
   ]
  },
  {
   "cell_type": "code",
   "execution_count": 95,
   "metadata": {},
   "outputs": [],
   "source": [
    "#svc_grid=GridSearchCV(clf_svc,param_grid=svc_param_grid,cv=5)"
   ]
  },
  {
   "cell_type": "code",
   "execution_count": 145,
   "metadata": {},
   "outputs": [],
   "source": [
    "train_data_new=train_data.sample(frac=0.8,random_state=200) #random state is a seed value\n",
    "val_data=train_data.drop(train_data_new.index)"
   ]
  },
  {
   "cell_type": "code",
   "execution_count": 146,
   "metadata": {},
   "outputs": [],
   "source": [
    "#Performing train val split on the data\n",
    "X_train, y_train = train_data_new.loc[:,train_data_new.columns!='cuisine'], train_data_new.loc[:,'cuisine']\n",
    "\n",
    "X_val, y_val = val_data.loc[:,val_data.columns!='cuisine'], val_data.loc[:,'cuisine']"
   ]
  },
  {
   "cell_type": "code",
   "execution_count": 147,
   "metadata": {},
   "outputs": [
    {
     "data": {
      "text/plain": [
       "8937     baking powder baking soda buttermilk salted bu...\n",
       "29679    sliced almonds raisins dried apricot salt hone...\n",
       "15616    baking potatoes monterey jack spanish chorizo ...\n",
       "3239     large eggs unsalted butter lemon peel sugar fr...\n",
       "17395    vegetable oil cooking spray vegetable oil all-...\n",
       "Name: ingredients, dtype: object"
      ]
     },
     "execution_count": 147,
     "metadata": {},
     "output_type": "execute_result"
    }
   ],
   "source": [
    "X_train.ingredients.head()"
   ]
  },
  {
   "cell_type": "code",
   "execution_count": 148,
   "metadata": {},
   "outputs": [
    {
     "data": {
      "text/plain": [
       "Pipeline(memory=None,\n",
       "         steps=[('tfidf_vectorizer',\n",
       "                 TfidfVectorizer(analyzer='word', binary=False,\n",
       "                                 decode_error='strict',\n",
       "                                 dtype=<class 'numpy.float64'>,\n",
       "                                 encoding='utf-8', input='content',\n",
       "                                 lowercase=True, max_df=1.0, max_features=None,\n",
       "                                 min_df=1, ngram_range=(1, 1), norm='l2',\n",
       "                                 preprocessor=None, smooth_idf=True,\n",
       "                                 stop_words=None, strip_accents=None,\n",
       "                                 sublinear_tf=False,\n",
       "                                 token_pattern='(?u)\\\\b\\\\w\\\\w+\\\\b',\n",
       "                                 tokenizer=None, use_idf=True,\n",
       "                                 vocabulary=None)),\n",
       "                ('classifier',\n",
       "                 SVC(C=1.0, break_ties=False, cache_size=200, class_weight=None,\n",
       "                     coef0=0.0, decision_function_shape='ovr', degree=3,\n",
       "                     gamma='scale', kernel='rbf', max_iter=-1,\n",
       "                     probability=False, random_state=None, shrinking=True,\n",
       "                     tol=0.001, verbose=False))],\n",
       "         verbose=False)"
      ]
     },
     "execution_count": 148,
     "metadata": {},
     "output_type": "execute_result"
    }
   ],
   "source": [
    "clf_svc.fit(X_train.ingredients,y_train)"
   ]
  },
  {
   "cell_type": "code",
   "execution_count": 85,
   "metadata": {},
   "outputs": [],
   "source": [
    "train_pred=clf_svc.predict(X_train.ingredients)\n",
    "val_pred=clf_svc.predict(X_val.ingredients)\n",
    "test_pred=clf_svc.predict(test_data.ingredients)"
   ]
  },
  {
   "cell_type": "code",
   "execution_count": 86,
   "metadata": {
    "scrolled": true
   },
   "outputs": [
    {
     "name": "stdout",
     "output_type": "stream",
     "text": [
      "              precision    recall  f1-score   support\n",
      "\n",
      "   brazilian       0.97      0.81      0.88       370\n",
      "     british       0.92      0.83      0.87       652\n",
      "cajun_creole       0.93      0.88      0.90      1229\n",
      "     chinese       0.91      0.97      0.94      2160\n",
      "    filipino       0.97      0.87      0.92       606\n",
      "      french       0.85      0.88      0.87      2100\n",
      "       greek       0.96      0.88      0.92       937\n",
      "      indian       0.94      0.98      0.96      2397\n",
      "       irish       0.96      0.75      0.84       519\n",
      "     italian       0.92      0.98      0.95      6288\n",
      "    jamaican       0.99      0.89      0.94       420\n",
      "    japanese       0.97      0.86      0.91      1147\n",
      "      korean       0.98      0.93      0.95       660\n",
      "     mexican       0.97      0.98      0.97      5148\n",
      "    moroccan       0.97      0.92      0.95       649\n",
      "     russian       0.98      0.76      0.86       384\n",
      " southern_us       0.90      0.95      0.92      3468\n",
      "     spanish       0.94      0.75      0.84       788\n",
      "        thai       0.94      0.94      0.94      1238\n",
      "  vietnamese       0.96      0.84      0.90       659\n",
      "\n",
      "    accuracy                           0.93     31819\n",
      "   macro avg       0.95      0.88      0.91     31819\n",
      "weighted avg       0.93      0.93      0.93     31819\n",
      "\n",
      "              precision    recall  f1-score   support\n",
      "\n",
      "   brazilian       0.84      0.55      0.66        97\n",
      "     british       0.61      0.39      0.48       152\n",
      "cajun_creole       0.82      0.68      0.75       317\n",
      "     chinese       0.76      0.89      0.82       513\n",
      "    filipino       0.79      0.56      0.66       149\n",
      "      french       0.61      0.68      0.64       546\n",
      "       greek       0.83      0.70      0.76       238\n",
      "      indian       0.88      0.92      0.90       606\n",
      "       irish       0.75      0.49      0.60       148\n",
      "     italian       0.78      0.91      0.84      1550\n",
      "    jamaican       0.94      0.74      0.83       106\n",
      "    japanese       0.88      0.65      0.75       276\n",
      "      korean       0.87      0.74      0.80       170\n",
      "     mexican       0.91      0.92      0.92      1290\n",
      "    moroccan       0.88      0.73      0.80       172\n",
      "     russian       0.79      0.31      0.45       105\n",
      " southern_us       0.70      0.82      0.76       852\n",
      "     spanish       0.68      0.45      0.54       201\n",
      "        thai       0.82      0.79      0.81       301\n",
      "  vietnamese       0.82      0.58      0.68       166\n",
      "\n",
      "    accuracy                           0.79      7955\n",
      "   macro avg       0.80      0.68      0.72      7955\n",
      "weighted avg       0.80      0.79      0.79      7955\n",
      "\n"
     ]
    }
   ],
   "source": [
    "print(classification_report(y_train,train_pred))\n",
    "print(classification_report(y_val,val_pred))"
   ]
  },
  {
   "cell_type": "code",
   "execution_count": 87,
   "metadata": {},
   "outputs": [],
   "source": [
    "df = pd.DataFrame(test_pred)\n",
    "df.to_csv(r'C:\\Users\\91989\\Documents\\PYTHON\\INSOFE_Internship\\TASK2\\svm_cv_pred.csv')"
   ]
  },
  {
   "cell_type": "code",
   "execution_count": 85,
   "metadata": {},
   "outputs": [],
   "source": [
    "#train_pred=clf_svc.predict(X_train.ingredients)\n",
    "val_pred=clf_svc.predict(X_val.ingredients)\n",
    "#test_pred=clf_svc.predict(test_data.ingredients)"
   ]
  },
  {
   "cell_type": "code",
   "execution_count": 86,
   "metadata": {
    "scrolled": true
   },
   "outputs": [
    {
     "name": "stdout",
     "output_type": "stream",
     "text": [
      "              precision    recall  f1-score   support\n",
      "\n",
      "   brazilian       0.97      0.81      0.88       370\n",
      "     british       0.92      0.83      0.87       652\n",
      "cajun_creole       0.93      0.88      0.90      1229\n",
      "     chinese       0.91      0.97      0.94      2160\n",
      "    filipino       0.97      0.87      0.92       606\n",
      "      french       0.85      0.88      0.87      2100\n",
      "       greek       0.96      0.88      0.92       937\n",
      "      indian       0.94      0.98      0.96      2397\n",
      "       irish       0.96      0.75      0.84       519\n",
      "     italian       0.92      0.98      0.95      6288\n",
      "    jamaican       0.99      0.89      0.94       420\n",
      "    japanese       0.97      0.86      0.91      1147\n",
      "      korean       0.98      0.93      0.95       660\n",
      "     mexican       0.97      0.98      0.97      5148\n",
      "    moroccan       0.97      0.92      0.95       649\n",
      "     russian       0.98      0.76      0.86       384\n",
      " southern_us       0.90      0.95      0.92      3468\n",
      "     spanish       0.94      0.75      0.84       788\n",
      "        thai       0.94      0.94      0.94      1238\n",
      "  vietnamese       0.96      0.84      0.90       659\n",
      "\n",
      "    accuracy                           0.93     31819\n",
      "   macro avg       0.95      0.88      0.91     31819\n",
      "weighted avg       0.93      0.93      0.93     31819\n",
      "\n",
      "              precision    recall  f1-score   support\n",
      "\n",
      "   brazilian       0.84      0.55      0.66        97\n",
      "     british       0.61      0.39      0.48       152\n",
      "cajun_creole       0.82      0.68      0.75       317\n",
      "     chinese       0.76      0.89      0.82       513\n",
      "    filipino       0.79      0.56      0.66       149\n",
      "      french       0.61      0.68      0.64       546\n",
      "       greek       0.83      0.70      0.76       238\n",
      "      indian       0.88      0.92      0.90       606\n",
      "       irish       0.75      0.49      0.60       148\n",
      "     italian       0.78      0.91      0.84      1550\n",
      "    jamaican       0.94      0.74      0.83       106\n",
      "    japanese       0.88      0.65      0.75       276\n",
      "      korean       0.87      0.74      0.80       170\n",
      "     mexican       0.91      0.92      0.92      1290\n",
      "    moroccan       0.88      0.73      0.80       172\n",
      "     russian       0.79      0.31      0.45       105\n",
      " southern_us       0.70      0.82      0.76       852\n",
      "     spanish       0.68      0.45      0.54       201\n",
      "        thai       0.82      0.79      0.81       301\n",
      "  vietnamese       0.82      0.58      0.68       166\n",
      "\n",
      "    accuracy                           0.79      7955\n",
      "   macro avg       0.80      0.68      0.72      7955\n",
      "weighted avg       0.80      0.79      0.79      7955\n",
      "\n"
     ]
    }
   ],
   "source": [
    "print(classification_report(y_train,train_pred))\n",
    "print(classification_report(y_val,val_pred))"
   ]
  },
  {
   "cell_type": "code",
   "execution_count": 160,
   "metadata": {},
   "outputs": [],
   "source": [
    "# save the model to disk\n",
    "import pickle\n",
    "filename = 'svc_best.pkl'\n",
    "pickle.dump(clf_svc, open(filename, 'wb'))"
   ]
  },
  {
   "cell_type": "code",
   "execution_count": 151,
   "metadata": {},
   "outputs": [
    {
     "data": {
      "text/plain": [
       "Pipeline(memory=None,\n",
       "         steps=[('tfidf_vectorizer',\n",
       "                 TfidfVectorizer(analyzer='word', binary=False,\n",
       "                                 decode_error='strict',\n",
       "                                 dtype=<class 'numpy.float64'>,\n",
       "                                 encoding='utf-8', input='content',\n",
       "                                 lowercase=True, max_df=1.0, max_features=None,\n",
       "                                 min_df=1, ngram_range=(1, 1), norm='l2',\n",
       "                                 preprocessor=None, smooth_idf=True,\n",
       "                                 stop_words=None, strip_accents=None,\n",
       "                                 sublinear_tf=False,\n",
       "                                 token_pattern='(?u)\\\\b\\\\w\\\\w+\\\\b',\n",
       "                                 tokenizer=None, use_idf=True,\n",
       "                                 vocabulary=None)),\n",
       "                ('classifier',\n",
       "                 SVC(C=1.0, break_ties=False, cache_size=200, class_weight=None,\n",
       "                     coef0=0.0, decision_function_shape='ovr', degree=3,\n",
       "                     gamma='scale', kernel='rbf', max_iter=-1,\n",
       "                     probability=False, random_state=None, shrinking=True,\n",
       "                     tol=0.001, verbose=False))],\n",
       "         verbose=False)"
      ]
     },
     "execution_count": 151,
     "metadata": {},
     "output_type": "execute_result"
    }
   ],
   "source": [
    "# load the model from disk\n",
    "svc_model = pickle.load(open('svc.pkl', 'rb'))\n",
    "svc_model.fit(X_train.ingredients,y_train)"
   ]
  },
  {
   "cell_type": "code",
   "execution_count": 87,
   "metadata": {},
   "outputs": [],
   "source": [
    "df = pd.DataFrame(test_pred)\n",
    "df.to_csv(r'C:\\Users\\91989\\Documents\\PYTHON\\INSOFE_Internship\\TASK2\\svm_cv_pred.csv')"
   ]
  },
  {
   "cell_type": "code",
   "execution_count": 105,
   "metadata": {},
   "outputs": [],
   "source": [
    "clf_svc=Pipeline(steps=[('tfidf_vectorizer', TfidfVectorizer(lowercase=True)),('classifier',SVC())])"
   ]
  },
  {
   "cell_type": "code",
   "execution_count": 106,
   "metadata": {},
   "outputs": [],
   "source": [
    "\n",
    "svc_param_random={'classifier__C':[0.001,0.01,0.1,1,10,100],'classifier__gamma':[0,0.0001,0.01,0.1,1,10,100],\n",
    "               \"classifier__kernel\":['linear','rbf','poly']}"
   ]
  },
  {
   "cell_type": "code",
   "execution_count": 108,
   "metadata": {},
   "outputs": [],
   "source": [
    "svc_random=RandomizedSearchCV(clf_svc,param_distributions=svc_param_random,cv=5)"
   ]
  },
  {
   "cell_type": "code",
   "execution_count": 109,
   "metadata": {},
   "outputs": [
    {
     "name": "stdout",
     "output_type": "stream",
     "text": [
      "Wall time: 3h 9min 8s\n"
     ]
    },
    {
     "data": {
      "text/plain": [
       "RandomizedSearchCV(cv=5, error_score=nan,\n",
       "                   estimator=Pipeline(memory=None,\n",
       "                                      steps=[('tfidf_vectorizer',\n",
       "                                              TfidfVectorizer(analyzer='word',\n",
       "                                                              binary=False,\n",
       "                                                              decode_error='strict',\n",
       "                                                              dtype=<class 'numpy.float64'>,\n",
       "                                                              encoding='utf-8',\n",
       "                                                              input='content',\n",
       "                                                              lowercase=True,\n",
       "                                                              max_df=1.0,\n",
       "                                                              max_features=None,\n",
       "                                                              min_df=1,\n",
       "                                                              ngram_range=(1,\n",
       "                                                                           1),\n",
       "                                                              norm='l2',\n",
       "                                                              preprocessor=None,\n",
       "                                                              smooth_idf=True,\n",
       "                                                              stop_wor...\n",
       "                                                  shrinking=True, tol=0.001,\n",
       "                                                  verbose=False))],\n",
       "                                      verbose=False),\n",
       "                   iid='deprecated', n_iter=10, n_jobs=None,\n",
       "                   param_distributions={'classifier__C': [0.001, 0.01, 0.1, 1,\n",
       "                                                          10, 100],\n",
       "                                        'classifier__gamma': [0, 0.0001, 0.01,\n",
       "                                                              0.1, 1, 10, 100],\n",
       "                                        'classifier__kernel': ['linear', 'rbf',\n",
       "                                                               'poly']},\n",
       "                   pre_dispatch='2*n_jobs', random_state=None, refit=True,\n",
       "                   return_train_score=False, scoring=None, verbose=0)"
      ]
     },
     "execution_count": 109,
     "metadata": {},
     "output_type": "execute_result"
    }
   ],
   "source": [
    "%%time\n",
    "svc_random.fit(X_train.ingredients,y_train)"
   ]
  },
  {
   "cell_type": "code",
   "execution_count": 111,
   "metadata": {},
   "outputs": [
    {
     "name": "stdout",
     "output_type": "stream",
     "text": [
      "              precision    recall  f1-score   support\n",
      "\n",
      "   brazilian       0.90      0.68      0.77       370\n",
      "     british       0.71      0.59      0.65       652\n",
      "cajun_creole       0.84      0.78      0.81      1229\n",
      "     chinese       0.84      0.92      0.87      2160\n",
      "    filipino       0.85      0.75      0.80       606\n",
      "      french       0.68      0.74      0.70      2100\n",
      "       greek       0.88      0.76      0.82       937\n",
      "      indian       0.89      0.95      0.92      2397\n",
      "       irish       0.83      0.59      0.69       519\n",
      "     italian       0.85      0.93      0.88      6288\n",
      "    jamaican       0.94      0.80      0.86       420\n",
      "    japanese       0.92      0.76      0.83      1147\n",
      "      korean       0.92      0.83      0.88       660\n",
      "     mexican       0.93      0.94      0.94      5148\n",
      "    moroccan       0.92      0.85      0.88       649\n",
      "     russian       0.87      0.54      0.67       384\n",
      " southern_us       0.78      0.86      0.82      3468\n",
      "     spanish       0.82      0.57      0.68       788\n",
      "        thai       0.85      0.85      0.85      1238\n",
      "  vietnamese       0.85      0.67      0.75       659\n",
      "\n",
      "    accuracy                           0.85     31819\n",
      "   macro avg       0.85      0.77      0.80     31819\n",
      "weighted avg       0.85      0.85      0.85     31819\n",
      "\n",
      "              precision    recall  f1-score   support\n",
      "\n",
      "   brazilian       0.74      0.58      0.65        97\n",
      "     british       0.56      0.38      0.45       152\n",
      "cajun_creole       0.81      0.68      0.74       317\n",
      "     chinese       0.77      0.88      0.82       513\n",
      "    filipino       0.77      0.57      0.65       149\n",
      "      french       0.58      0.66      0.62       546\n",
      "       greek       0.79      0.70      0.74       238\n",
      "      indian       0.87      0.91      0.89       606\n",
      "       irish       0.71      0.51      0.59       148\n",
      "     italian       0.78      0.88      0.83      1550\n",
      "    jamaican       0.85      0.68      0.75       106\n",
      "    japanese       0.84      0.66      0.74       276\n",
      "      korean       0.82      0.72      0.77       170\n",
      "     mexican       0.92      0.92      0.92      1290\n",
      "    moroccan       0.86      0.74      0.80       172\n",
      "     russian       0.60      0.31      0.41       105\n",
      " southern_us       0.68      0.80      0.74       852\n",
      "     spanish       0.64      0.44      0.52       201\n",
      "        thai       0.80      0.76      0.78       301\n",
      "  vietnamese       0.74      0.56      0.64       166\n",
      "\n",
      "    accuracy                           0.78      7955\n",
      "   macro avg       0.76      0.67      0.70      7955\n",
      "weighted avg       0.78      0.78      0.77      7955\n",
      "\n"
     ]
    }
   ],
   "source": [
    "train_pred=svc_random.predict(X_train.ingredients)\n",
    "val_pred=svc_random.predict(X_val.ingredients)\n",
    "#test_pred=clf_svc.predict(test_data.ingredients)\n",
    "\n",
    "print(classification_report(y_train,train_pred))\n",
    "print(classification_report(y_val,val_pred))"
   ]
  },
  {
   "cell_type": "markdown",
   "metadata": {},
   "source": [
    "# Adaboost\n"
   ]
  },
  {
   "cell_type": "code",
   "execution_count": 114,
   "metadata": {},
   "outputs": [],
   "source": [
    "from sklearn.ensemble import GradientBoostingClassifier\n",
    "from sklearn.ensemble import AdaBoostClassifier\n",
    "\n",
    "from xgboost import XGBClassifier\n",
    "from sklearn.tree import DecisionTreeClassifier"
   ]
  },
  {
   "cell_type": "code",
   "execution_count": 115,
   "metadata": {},
   "outputs": [],
   "source": [
    "param_grid = {'n_estimators' : [100, 150, 200],\n",
    "              'learning_rate' : [0.1, 0.5, 0.9]}\n",
    "\n",
    "#Adaboost_model_clf = GridSearchCV(AdaBoostClassifier(\n",
    " #           DecisionTreeClassifier(max_depth=2)), param_grid, n_jobs=-1)"
   ]
  },
  {
   "cell_type": "code",
   "execution_count": 451,
   "metadata": {},
   "outputs": [],
   "source": [
    "# Create adaboost-decision tree classifer object\n",
    "Adaboost_model_grid=Pipeline(steps=[('preprocessor',preprocessor),('classifier',GridSearchCV(AdaBoostClassifier(\n",
    "            DecisionTreeClassifier(max_depth=2)), param_grid, n_jobs=-1))])\n"
   ]
  },
  {
   "cell_type": "code",
   "execution_count": 116,
   "metadata": {},
   "outputs": [],
   "source": [
    "clf_adaboost=Pipeline(steps=[('tfidf_vectorizer', TfidfVectorizer(lowercase=True)),('classifier',GridSearchCV(AdaBoostClassifier(\n",
    "            DecisionTreeClassifier(max_depth=2)), param_grid, n_jobs=-1))])"
   ]
  },
  {
   "cell_type": "code",
   "execution_count": 117,
   "metadata": {},
   "outputs": [
    {
     "name": "stdout",
     "output_type": "stream",
     "text": [
      "Wall time: 18min 53s\n"
     ]
    },
    {
     "data": {
      "text/plain": [
       "Pipeline(memory=None,\n",
       "         steps=[('tfidf_vectorizer',\n",
       "                 TfidfVectorizer(analyzer='word', binary=False,\n",
       "                                 decode_error='strict',\n",
       "                                 dtype=<class 'numpy.float64'>,\n",
       "                                 encoding='utf-8', input='content',\n",
       "                                 lowercase=True, max_df=1.0, max_features=None,\n",
       "                                 min_df=1, ngram_range=(1, 1), norm='l2',\n",
       "                                 preprocessor=None, smooth_idf=True,\n",
       "                                 stop_words=None, strip_accents=None,\n",
       "                                 sublinear_tf=False,\n",
       "                                 toke...\n",
       "                                                                                                 min_samples_split=2,\n",
       "                                                                                                 min_weight_fraction_leaf=0.0,\n",
       "                                                                                                 presort='deprecated',\n",
       "                                                                                                 random_state=None,\n",
       "                                                                                                 splitter='best'),\n",
       "                                                           learning_rate=1.0,\n",
       "                                                           n_estimators=50,\n",
       "                                                           random_state=None),\n",
       "                              iid='deprecated', n_jobs=-1,\n",
       "                              param_grid={'learning_rate': [0.1, 0.5, 0.9],\n",
       "                                          'n_estimators': [100, 150, 200]},\n",
       "                              pre_dispatch='2*n_jobs', refit=True,\n",
       "                              return_train_score=False, scoring=None,\n",
       "                              verbose=0))],\n",
       "         verbose=False)"
      ]
     },
     "execution_count": 117,
     "metadata": {},
     "output_type": "execute_result"
    }
   ],
   "source": [
    "%%time\n",
    "clf_adaboost.fit(X_train.ingredients,y_train)"
   ]
  },
  {
   "cell_type": "code",
   "execution_count": 118,
   "metadata": {},
   "outputs": [
    {
     "name": "stdout",
     "output_type": "stream",
     "text": [
      "              precision    recall  f1-score   support\n",
      "\n",
      "   brazilian       0.59      0.34      0.43       370\n",
      "     british       0.17      0.06      0.09       652\n",
      "cajun_creole       0.77      0.37      0.50      1229\n",
      "     chinese       0.63      0.48      0.55      2160\n",
      "    filipino       0.40      0.27      0.32       606\n",
      "      french       0.37      0.11      0.17      2100\n",
      "       greek       0.83      0.33      0.47       937\n",
      "      indian       0.82      0.75      0.78      2397\n",
      "       irish       0.90      0.12      0.22       519\n",
      "     italian       0.54      0.85      0.66      6288\n",
      "    jamaican       0.88      0.33      0.48       420\n",
      "    japanese       0.74      0.43      0.55      1147\n",
      "      korean       0.33      0.67      0.44       660\n",
      "     mexican       0.82      0.81      0.82      5148\n",
      "    moroccan       0.84      0.47      0.61       649\n",
      "     russian       0.73      0.10      0.17       384\n",
      " southern_us       0.35      0.60      0.44      3468\n",
      "     spanish       0.28      0.06      0.11       788\n",
      "        thai       0.64      0.61      0.63      1238\n",
      "  vietnamese       0.48      0.38      0.42       659\n",
      "\n",
      "    accuracy                           0.58     31819\n",
      "   macro avg       0.60      0.41      0.44     31819\n",
      "weighted avg       0.61      0.58      0.55     31819\n",
      "\n",
      "              precision    recall  f1-score   support\n",
      "\n",
      "   brazilian       0.61      0.26      0.36        97\n",
      "     british       0.08      0.03      0.05       152\n",
      "cajun_creole       0.72      0.34      0.46       317\n",
      "     chinese       0.63      0.46      0.53       513\n",
      "    filipino       0.36      0.23      0.28       149\n",
      "      french       0.31      0.11      0.16       546\n",
      "       greek       0.88      0.30      0.45       238\n",
      "      indian       0.82      0.73      0.77       606\n",
      "       irish       0.81      0.14      0.24       148\n",
      "     italian       0.52      0.84      0.64      1550\n",
      "    jamaican       0.73      0.21      0.32       106\n",
      "    japanese       0.65      0.39      0.49       276\n",
      "      korean       0.32      0.66      0.43       170\n",
      "     mexican       0.82      0.80      0.81      1290\n",
      "    moroccan       0.78      0.41      0.53       172\n",
      "     russian       0.67      0.08      0.14       105\n",
      " southern_us       0.33      0.60      0.43       852\n",
      "     spanish       0.21      0.04      0.07       201\n",
      "        thai       0.65      0.62      0.64       301\n",
      "  vietnamese       0.46      0.36      0.40       166\n",
      "\n",
      "    accuracy                           0.55      7955\n",
      "   macro avg       0.57      0.38      0.41      7955\n",
      "weighted avg       0.58      0.55      0.53      7955\n",
      "\n"
     ]
    }
   ],
   "source": [
    "train_pred=clf_adaboost.predict(X_train.ingredients)\n",
    "val_pred=clf_adaboost.predict(X_val.ingredients)\n",
    "#test_pred=clf_svc.predict(test_data.ingredients)\n",
    "\n",
    "print(classification_report(y_train,train_pred))\n",
    "print(classification_report(y_val,val_pred))"
   ]
  },
  {
   "cell_type": "code",
   "execution_count": null,
   "metadata": {},
   "outputs": [],
   "source": [
    "# load the model from disk\n",
    "svc_model = pickle.load(open('svc.pkl', 'rb'))\n",
    "result = svc_model.score(X_test, Y_test)\n",
    "print(result)"
   ]
  },
  {
   "cell_type": "markdown",
   "metadata": {},
   "source": [
    "# meta classifier(Stacking)"
   ]
  },
  {
   "cell_type": "code",
   "execution_count": 163,
   "metadata": {},
   "outputs": [],
   "source": [
    "pred1=pd.read_csv('sub1.csv')\n",
    "pred2=pd.read_csv('sub2.csv')\n",
    "pred3=pd.read_csv('sub3.csv')\n",
    "pred4=pd.read_csv('sub4.csv')\n",
    "pred5=pd.read_csv('svm_pred.csv')"
   ]
  },
  {
   "cell_type": "code",
   "execution_count": 169,
   "metadata": {},
   "outputs": [],
   "source": [
    "frames = [pred1,pred2,pred3,pred4,pred5]\n",
    "full_data = pd.concat(frames,axis=1)"
   ]
  },
  {
   "cell_type": "code",
   "execution_count": 170,
   "metadata": {},
   "outputs": [
    {
     "data": {
      "text/html": [
       "<div>\n",
       "<style scoped>\n",
       "    .dataframe tbody tr th:only-of-type {\n",
       "        vertical-align: middle;\n",
       "    }\n",
       "\n",
       "    .dataframe tbody tr th {\n",
       "        vertical-align: top;\n",
       "    }\n",
       "\n",
       "    .dataframe thead th {\n",
       "        text-align: right;\n",
       "    }\n",
       "</style>\n",
       "<table border=\"1\" class=\"dataframe\">\n",
       "  <thead>\n",
       "    <tr style=\"text-align: right;\">\n",
       "      <th></th>\n",
       "      <th>id</th>\n",
       "      <th>cuisine</th>\n",
       "      <th>id</th>\n",
       "      <th>cuisine</th>\n",
       "      <th>id</th>\n",
       "      <th>cuisine</th>\n",
       "      <th>id</th>\n",
       "      <th>cuisine</th>\n",
       "      <th>id</th>\n",
       "      <th>cuisine</th>\n",
       "    </tr>\n",
       "  </thead>\n",
       "  <tbody>\n",
       "    <tr>\n",
       "      <th>0</th>\n",
       "      <td>18009</td>\n",
       "      <td>british</td>\n",
       "      <td>18009</td>\n",
       "      <td>british</td>\n",
       "      <td>18009</td>\n",
       "      <td>british</td>\n",
       "      <td>18009</td>\n",
       "      <td>british</td>\n",
       "      <td>18009</td>\n",
       "      <td>british</td>\n",
       "    </tr>\n",
       "    <tr>\n",
       "      <th>1</th>\n",
       "      <td>28583</td>\n",
       "      <td>southern_us</td>\n",
       "      <td>28583</td>\n",
       "      <td>southern_us</td>\n",
       "      <td>28583</td>\n",
       "      <td>southern_us</td>\n",
       "      <td>28583</td>\n",
       "      <td>southern_us</td>\n",
       "      <td>28583</td>\n",
       "      <td>southern_us</td>\n",
       "    </tr>\n",
       "    <tr>\n",
       "      <th>2</th>\n",
       "      <td>41580</td>\n",
       "      <td>italian</td>\n",
       "      <td>41580</td>\n",
       "      <td>italian</td>\n",
       "      <td>41580</td>\n",
       "      <td>italian</td>\n",
       "      <td>41580</td>\n",
       "      <td>italian</td>\n",
       "      <td>41580</td>\n",
       "      <td>italian</td>\n",
       "    </tr>\n",
       "    <tr>\n",
       "      <th>3</th>\n",
       "      <td>29752</td>\n",
       "      <td>cajun_creole</td>\n",
       "      <td>29752</td>\n",
       "      <td>cajun_creole</td>\n",
       "      <td>29752</td>\n",
       "      <td>cajun_creole</td>\n",
       "      <td>29752</td>\n",
       "      <td>cajun_creole</td>\n",
       "      <td>29752</td>\n",
       "      <td>cajun_creole</td>\n",
       "    </tr>\n",
       "    <tr>\n",
       "      <th>4</th>\n",
       "      <td>35687</td>\n",
       "      <td>italian</td>\n",
       "      <td>35687</td>\n",
       "      <td>italian</td>\n",
       "      <td>35687</td>\n",
       "      <td>italian</td>\n",
       "      <td>35687</td>\n",
       "      <td>italian</td>\n",
       "      <td>35687</td>\n",
       "      <td>italian</td>\n",
       "    </tr>\n",
       "  </tbody>\n",
       "</table>\n",
       "</div>"
      ],
      "text/plain": [
       "      id       cuisine     id       cuisine     id       cuisine     id  \\\n",
       "0  18009       british  18009       british  18009       british  18009   \n",
       "1  28583   southern_us  28583   southern_us  28583   southern_us  28583   \n",
       "2  41580       italian  41580       italian  41580       italian  41580   \n",
       "3  29752  cajun_creole  29752  cajun_creole  29752  cajun_creole  29752   \n",
       "4  35687       italian  35687       italian  35687       italian  35687   \n",
       "\n",
       "        cuisine     id       cuisine  \n",
       "0       british  18009       british  \n",
       "1   southern_us  28583   southern_us  \n",
       "2       italian  41580       italian  \n",
       "3  cajun_creole  29752  cajun_creole  \n",
       "4       italian  35687       italian  "
      ]
     },
     "execution_count": 170,
     "metadata": {},
     "output_type": "execute_result"
    }
   ],
   "source": [
    "full_data.head()"
   ]
  },
  {
   "cell_type": "code",
   "execution_count": 171,
   "metadata": {},
   "outputs": [],
   "source": [
    "full_data.drop(\"id\",axis=1,inplace=True)"
   ]
  },
  {
   "cell_type": "code",
   "execution_count": 172,
   "metadata": {},
   "outputs": [
    {
     "data": {
      "text/html": [
       "<div>\n",
       "<style scoped>\n",
       "    .dataframe tbody tr th:only-of-type {\n",
       "        vertical-align: middle;\n",
       "    }\n",
       "\n",
       "    .dataframe tbody tr th {\n",
       "        vertical-align: top;\n",
       "    }\n",
       "\n",
       "    .dataframe thead th {\n",
       "        text-align: right;\n",
       "    }\n",
       "</style>\n",
       "<table border=\"1\" class=\"dataframe\">\n",
       "  <thead>\n",
       "    <tr style=\"text-align: right;\">\n",
       "      <th></th>\n",
       "      <th>cuisine</th>\n",
       "      <th>cuisine</th>\n",
       "      <th>cuisine</th>\n",
       "      <th>cuisine</th>\n",
       "      <th>cuisine</th>\n",
       "    </tr>\n",
       "  </thead>\n",
       "  <tbody>\n",
       "    <tr>\n",
       "      <th>0</th>\n",
       "      <td>british</td>\n",
       "      <td>british</td>\n",
       "      <td>british</td>\n",
       "      <td>british</td>\n",
       "      <td>british</td>\n",
       "    </tr>\n",
       "    <tr>\n",
       "      <th>1</th>\n",
       "      <td>southern_us</td>\n",
       "      <td>southern_us</td>\n",
       "      <td>southern_us</td>\n",
       "      <td>southern_us</td>\n",
       "      <td>southern_us</td>\n",
       "    </tr>\n",
       "    <tr>\n",
       "      <th>2</th>\n",
       "      <td>italian</td>\n",
       "      <td>italian</td>\n",
       "      <td>italian</td>\n",
       "      <td>italian</td>\n",
       "      <td>italian</td>\n",
       "    </tr>\n",
       "    <tr>\n",
       "      <th>3</th>\n",
       "      <td>cajun_creole</td>\n",
       "      <td>cajun_creole</td>\n",
       "      <td>cajun_creole</td>\n",
       "      <td>cajun_creole</td>\n",
       "      <td>cajun_creole</td>\n",
       "    </tr>\n",
       "    <tr>\n",
       "      <th>4</th>\n",
       "      <td>italian</td>\n",
       "      <td>italian</td>\n",
       "      <td>italian</td>\n",
       "      <td>italian</td>\n",
       "      <td>italian</td>\n",
       "    </tr>\n",
       "  </tbody>\n",
       "</table>\n",
       "</div>"
      ],
      "text/plain": [
       "        cuisine       cuisine       cuisine       cuisine       cuisine\n",
       "0       british       british       british       british       british\n",
       "1   southern_us   southern_us   southern_us   southern_us   southern_us\n",
       "2       italian       italian       italian       italian       italian\n",
       "3  cajun_creole  cajun_creole  cajun_creole  cajun_creole  cajun_creole\n",
       "4       italian       italian       italian       italian       italian"
      ]
     },
     "execution_count": 172,
     "metadata": {},
     "output_type": "execute_result"
    }
   ],
   "source": [
    "full_data.head()"
   ]
  },
  {
   "cell_type": "code",
   "execution_count": 173,
   "metadata": {},
   "outputs": [],
   "source": [
    "full_data.columns=['cuisine1','cuisine2','cuisine3','cuisine4','cuisine5']"
   ]
  },
  {
   "cell_type": "code",
   "execution_count": 179,
   "metadata": {},
   "outputs": [],
   "source": [
    "full_data1=full_data.mode(axis=1)"
   ]
  },
  {
   "cell_type": "code",
   "execution_count": 185,
   "metadata": {
    "scrolled": true
   },
   "outputs": [
    {
     "data": {
      "text/html": [
       "<div>\n",
       "<style scoped>\n",
       "    .dataframe tbody tr th:only-of-type {\n",
       "        vertical-align: middle;\n",
       "    }\n",
       "\n",
       "    .dataframe tbody tr th {\n",
       "        vertical-align: top;\n",
       "    }\n",
       "\n",
       "    .dataframe thead th {\n",
       "        text-align: right;\n",
       "    }\n",
       "</style>\n",
       "<table border=\"1\" class=\"dataframe\">\n",
       "  <thead>\n",
       "    <tr style=\"text-align: right;\">\n",
       "      <th></th>\n",
       "      <th>0</th>\n",
       "    </tr>\n",
       "  </thead>\n",
       "  <tbody>\n",
       "    <tr>\n",
       "      <th>0</th>\n",
       "      <td>british</td>\n",
       "    </tr>\n",
       "    <tr>\n",
       "      <th>1</th>\n",
       "      <td>southern_us</td>\n",
       "    </tr>\n",
       "    <tr>\n",
       "      <th>2</th>\n",
       "      <td>italian</td>\n",
       "    </tr>\n",
       "    <tr>\n",
       "      <th>3</th>\n",
       "      <td>cajun_creole</td>\n",
       "    </tr>\n",
       "    <tr>\n",
       "      <th>4</th>\n",
       "      <td>italian</td>\n",
       "    </tr>\n",
       "  </tbody>\n",
       "</table>\n",
       "</div>"
      ],
      "text/plain": [
       "              0\n",
       "0       british\n",
       "1   southern_us\n",
       "2       italian\n",
       "3  cajun_creole\n",
       "4       italian"
      ]
     },
     "execution_count": 185,
     "metadata": {},
     "output_type": "execute_result"
    }
   ],
   "source": [
    "full_data1.head()"
   ]
  },
  {
   "cell_type": "code",
   "execution_count": 184,
   "metadata": {},
   "outputs": [
    {
     "data": {
      "text/plain": [
       "(9944, 1)"
      ]
     },
     "execution_count": 184,
     "metadata": {},
     "output_type": "execute_result"
    }
   ],
   "source": [
    "full_data1.shape"
   ]
  },
  {
   "cell_type": "code",
   "execution_count": 183,
   "metadata": {},
   "outputs": [],
   "source": [
    "full_data1.drop(1,axis=1,inplace=True)"
   ]
  },
  {
   "cell_type": "code",
   "execution_count": 188,
   "metadata": {},
   "outputs": [],
   "source": [
    "\n",
    "full_data1.to_csv(r'C:\\Users\\91989\\Documents\\PYTHON\\INSOFE_Internship\\TASK2\\whatscooking\\full_data.csv')"
   ]
  }
 ],
 "metadata": {
  "kernelspec": {
   "display_name": "Python 3",
   "language": "python",
   "name": "python3"
  },
  "language_info": {
   "codemirror_mode": {
    "name": "ipython",
    "version": 3
   },
   "file_extension": ".py",
   "mimetype": "text/x-python",
   "name": "python",
   "nbconvert_exporter": "python",
   "pygments_lexer": "ipython3",
   "version": "3.7.4"
  }
 },
 "nbformat": 4,
 "nbformat_minor": 2
}
